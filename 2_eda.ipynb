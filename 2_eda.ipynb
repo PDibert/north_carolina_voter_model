{
 "cells": [
  {
   "cell_type": "markdown",
   "metadata": {},
   "source": [
    "# Table of Contents:\n",
    "* [Import Packages](#first-bullet)\n",
    "* [Read In Data](#two-bullet)\n",
    "* [Participation Rate Plots](#three-bullet)\n",
    "* [Registered Voters By Segment ](#four-bullet)\n",
    "* [Obama Approval Rating, Polls](#five-bullet)\n",
    "* [Donations By Election, District ](#six-bullet)"
   ]
  },
  {
   "cell_type": "markdown",
   "metadata": {},
   "source": [
    "This notebook will create various plots from the data that we imported in the previous notebook.\n",
    "\n",
    "Due to the use of Plotly, anybody reading this notebook will need to run the cells that contain the visualizations to use their interactive features.  Images of each Plotly graph have been inserted in the notebook for viewing on Github."
   ]
  },
  {
   "cell_type": "markdown",
   "metadata": {},
   "source": [
    "# Import Packages <a class=\"anchor\" id=\"first-bullet\"></a>"
   ]
  },
  {
   "cell_type": "code",
   "execution_count": 3,
   "metadata": {},
   "outputs": [],
   "source": [
    "# Import our libraries.\n",
    "import pandas as pd\n",
    "import numpy as np\n",
    "import seaborn as sns\n",
    "import matplotlib.pyplot as plt"
   ]
  },
  {
   "cell_type": "code",
   "execution_count": 4,
   "metadata": {},
   "outputs": [],
   "source": [
    "import cufflinks as cf\n",
    "import plotly as py\n",
    "import plotly.graph_objs as go"
   ]
  },
  {
   "cell_type": "code",
   "execution_count": 5,
   "metadata": {},
   "outputs": [],
   "source": [
    "from ipywidgets import widgets"
   ]
  },
  {
   "cell_type": "code",
   "execution_count": 6,
   "metadata": {},
   "outputs": [],
   "source": [
    "from datetime import datetime, date, time, timedelta"
   ]
  },
  {
   "cell_type": "code",
   "execution_count": 7,
   "metadata": {},
   "outputs": [],
   "source": [
    "import matplotlib.pyplot as plt"
   ]
  },
  {
   "cell_type": "markdown",
   "metadata": {},
   "source": [
    "# Read In Data <a class=\"anchor\" id=\"two-bullet\"></a>"
   ]
  },
  {
   "cell_type": "code",
   "execution_count": 8,
   "metadata": {},
   "outputs": [],
   "source": [
    "gen_participation = pd.read_csv('./data/agged_participation/gen_participation_full_dataset.csv')"
   ]
  },
  {
   "cell_type": "code",
   "execution_count": 9,
   "metadata": {},
   "outputs": [],
   "source": [
    "gen_participation_age = pd.read_csv('./data/agged_participation/gen_participation_age_full_dataset.csv')"
   ]
  },
  {
   "cell_type": "code",
   "execution_count": 10,
   "metadata": {},
   "outputs": [],
   "source": [
    "gen_participation_cd = pd.read_csv('./data/agged_participation/gen_participation_cd_full_dataset.csv')"
   ]
  },
  {
   "cell_type": "code",
   "execution_count": 11,
   "metadata": {},
   "outputs": [],
   "source": [
    "voter_reg_df = pd.read_csv('./data/grouped_registration.csv')"
   ]
  },
  {
   "cell_type": "code",
   "execution_count": 12,
   "metadata": {},
   "outputs": [],
   "source": [
    "obama_approval_rate = pd.read_csv('./data/nc_obama_job_approval_poll.csv')"
   ]
  },
  {
   "cell_type": "code",
   "execution_count": 13,
   "metadata": {},
   "outputs": [],
   "source": [
    "# data from https://www.followthemoney.org/tools/election-overview?s=NC&y=2010\n",
    "df_money = pd.read_csv('./data/follow_the_money/donations.csv')"
   ]
  },
  {
   "cell_type": "markdown",
   "metadata": {},
   "source": [
    "# Participation Rate Plots <a class=\"anchor\" id=\"three-bullet\"></a>"
   ]
  },
  {
   "cell_type": "code",
   "execution_count": 14,
   "metadata": {},
   "outputs": [],
   "source": [
    "election = widgets.Dropdown(\n",
    "    options=list(gen_participation['election_date'].unique()),\n",
    "    value='2018-11-06',\n",
    "    description='Election Date:',\n",
    ")\n",
    "\n",
    "trace1 = go.Bar(x=gen_participation['segment'],\n",
    "         y=gen_participation['turnout_rate'] ,  name='Arrival Delays')\n",
    "g = go.FigureWidget(data=[trace1],\n",
    "                    layout=go.Layout(\n",
    "                        title=dict(\n",
    "                            text='Turnout By Election, Segment'\n",
    "                        ),\n",
    "                        barmode='overlay'\n",
    "                    ))\n",
    "def validate():\n",
    "    if election.value in gen_participation['election_date'].unique():\n",
    "        return True\n",
    "    else:\n",
    "        return False\n",
    "\n",
    "\n",
    "def response(change):\n",
    "    if validate():\n",
    "        filter_list = [i for i in gen_participation['election_date'] == election.value]\n",
    "        temp_df = gen_participation[filter_list]\n",
    "        x1 = temp_df['segment']\n",
    "        y1 = temp_df['turnout_rate']\n",
    "        with g.batch_update():\n",
    "            g.data[0].x = x1\n",
    "            g.data[0].y = y1\n",
    "            g.layout.barmode = 'group'\n",
    "            g.layout.xaxis.title = 'Voter Segment'\n",
    "            g.layout.yaxis.title = 'Turnout Rate'\n",
    "\n",
    "\n",
    "election.observe(response, names=\"value\")"
   ]
  },
  {
   "cell_type": "code",
   "execution_count": 30,
   "metadata": {},
   "outputs": [
    {
     "data": {
      "application/vnd.jupyter.widget-view+json": {
       "model_id": "a42618c69ae44a17b8f636866f89eb21",
       "version_major": 2,
       "version_minor": 0
      },
      "text/plain": [
       "VBox(children=(HBox(children=(Dropdown(description='Election Date:', index=1, options=('2018-11-06', '2016-11-…"
      ]
     },
     "metadata": {},
     "output_type": "display_data"
    }
   ],
   "source": [
    "container2 = widgets.HBox([election])\n",
    "widgets.VBox([\n",
    "              container2,\n",
    "              g\n",
    "    \n",
    "             ])"
   ]
  },
  {
   "cell_type": "markdown",
   "metadata": {},
   "source": [
    "Note: The interactive plots can be made available by running the code. For Github display, images of the interactive plots are displayed below the code for the respective plot."
   ]
  },
  {
   "cell_type": "markdown",
   "metadata": {},
   "source": [
    "\n",
    "![alt text](images/turnout_by_election_segment.jpg \"Title\")"
   ]
  },
  {
   "cell_type": "markdown",
   "metadata": {},
   "source": [
    "We can see that voter turnout varies across the racial and ethnic groups that are contained in the voter file.  This indicated that it may be a useful predictor for our model."
   ]
  },
  {
   "cell_type": "markdown",
   "metadata": {},
   "source": [
    "Race Description\n",
    "\n",
    "\tB:  \tBLACK or AFRICAN AMERICAN                                   \n",
    "\tI:  \tAMERICAN INDIAN or ALASKA NATIVE                            \n",
    "\tO:  \tOTHER                                                       \n",
    "\tW:  \tWHITE                                                       \n",
    "\tU:  \tUNDESIGNATED                                                \n",
    "\tA:  \tASIAN                                                       \n",
    "\tM:  \tTWO or MORE RACES   \n",
    "    \n",
    "Ethnic Code Descriptions\n",
    "\n",
    "\tNL:  \tNon-Latino Househousehold                                         \n",
    "\tUN:  \tUnidentified Latino Household Status                                                   \n",
    "\tHL:  \tLatino Household  "
   ]
  },
  {
   "cell_type": "code",
   "execution_count": 31,
   "metadata": {},
   "outputs": [
    {
     "data": {
      "application/vnd.jupyter.widget-view+json": {
       "model_id": "c890ebbf18bb48a7a994eac0e415a37e",
       "version_major": 2,
       "version_minor": 0
      },
      "text/plain": [
       "VBox(children=(HBox(children=(Dropdown(description='Election Date:', options=('2018-11-06', '2016-11-08', '201…"
      ]
     },
     "metadata": {},
     "output_type": "display_data"
    }
   ],
   "source": [
    "election = widgets.Dropdown(\n",
    "    options=list(gen_participation_age['election_date'].unique()),\n",
    "    value='2018-11-06',\n",
    "    description='Election Date:',\n",
    ")\n",
    "\n",
    "#container = widgets.HBox(children=[election])\n",
    "trace1 = go.Bar(x=gen_participation_age['segment'],\n",
    "         y=gen_participation_age['turnout_rate'] ,  name='Arrival Delays')\n",
    "g = go.FigureWidget(data=[trace1],\n",
    "                    layout=go.Layout(\n",
    "                        title=dict(\n",
    "                            text='Turnout By Election, Age'\n",
    "                        ),\n",
    "                        barmode='overlay'\n",
    "                    ))\n",
    "\n",
    "def validate():\n",
    "    if election.value in gen_participation_age['election_date'].unique():\n",
    "        return True\n",
    "    else:\n",
    "        return False\n",
    "\n",
    "\n",
    "def response(change):\n",
    "    if validate():\n",
    "        filter_list = [i for i in gen_participation_age['election_date'] == election.value]\n",
    "        temp_df = gen_participation_age[filter_list]\n",
    "       # x1 = gen_participation['election_date']\n",
    "        x1 = temp_df['segment']\n",
    "        y1 = temp_df['turnout_rate']\n",
    "    #    x2 = temp_df['dep_delay']\n",
    "        with g.batch_update():\n",
    "           # print(f'X1: {type(x1)}')\n",
    "           # print(x1)\n",
    "            g.data[0].x = x1\n",
    "            g.data[0].y = y1\n",
    "           # g.data[0].x = x1\n",
    "          #  g.data[1].x = x2\n",
    "            g.layout.barmode = 'group'\n",
    "            g.layout.xaxis.title = 'Voter Segment'\n",
    "            g.layout.yaxis.title = 'Turnout Rate'\n",
    "\n",
    "\n",
    "election.observe(response, names=\"value\")\n",
    "# textbox.observe(response, names=\"value\")\n",
    "# month.observe(response, names=\"value\")\n",
    "# use_date.observe(response, names=\"value\")\n",
    "\n",
    "container2 = widgets.HBox([election])\n",
    "widgets.VBox([#container,\n",
    "              container2,\n",
    "              g\n",
    "             ])"
   ]
  },
  {
   "cell_type": "markdown",
   "metadata": {},
   "source": [
    "![alt text](images/turnout_by_election_age.jpg \"Title\")"
   ]
  },
  {
   "cell_type": "markdown",
   "metadata": {},
   "source": [
    "We can see that North Carolinian's vote at different rates, based on age.  Including age in our model may be useful."
   ]
  },
  {
   "cell_type": "code",
   "execution_count": 32,
   "metadata": {},
   "outputs": [
    {
     "data": {
      "application/vnd.jupyter.widget-view+json": {
       "model_id": "8c7bd786cf4e4b879839f499ca41f498",
       "version_major": 2,
       "version_minor": 0
      },
      "text/plain": [
       "VBox(children=(HBox(children=(Dropdown(description='Election Date:', options=('2018-11-06', '2016-11-08', '201…"
      ]
     },
     "metadata": {},
     "output_type": "display_data"
    }
   ],
   "source": [
    "#gen_participation_cd\n",
    "election = widgets.Dropdown(\n",
    "    options=list(gen_participation_cd['election_date'].unique()),\n",
    "    value='2018-11-06',\n",
    "    description='Election Date:',\n",
    ")\n",
    "\n",
    "#container = widgets.HBox(children=[election])\n",
    "trace1 = go.Bar(x=gen_participation_cd['cd'],\n",
    "         y=gen_participation_cd['turnout_rate'] ,  name='Dem Turnout')\n",
    "trace2 = go.Bar(x=gen_participation_cd['cd'],\n",
    "         y=gen_participation_cd['turnout_rate'] ,  name='Rep Turnout')\n",
    "g = go.FigureWidget(data=[trace1, trace2],\n",
    "                    layout=go.Layout(\n",
    "                        title=dict(\n",
    "                            text='Turnout By Election, Segment, District'\n",
    "                        ),\n",
    "                        barmode='group'\n",
    "                    ))\n",
    "\n",
    "def validate():\n",
    "    if election.value in gen_participation_cd['election_date'].unique():\n",
    "        return True\n",
    "    else:\n",
    "        return False\n",
    "\n",
    "\n",
    "def response(change):\n",
    "    if validate():\n",
    "      #  filter_list = [i for i in gen_participation_cd['election_date'] == election.value]\n",
    "        dem_filter_list = [i and j for i,j in zip(gen_participation_cd['election_date'] == election.value ,\n",
    "                                          gen_participation_cd['party'] == 'DEM')]\n",
    "\n",
    "        rep_filter_list = [i and j for i,j in zip(gen_participation_cd['election_date'] == election.value ,\n",
    "                                          gen_participation_cd['party'] == 'REP')]\n",
    "        \n",
    "        temp_df_dem = gen_participation_cd[dem_filter_list]\n",
    "        temp_df_rep = gen_participation_cd[rep_filter_list]\n",
    "       # temp_df_rep\n",
    "       # x1 = gen_participation['election_date']\n",
    "        x1 = temp_df_dem['cd']\n",
    "        x2 = temp_df_rep['cd']\n",
    "        y1 = temp_df_dem['turnout_rate']\n",
    "        y2 = temp_df_rep['turnout_rate']\n",
    "    #    x2 = temp_df['dep_delay']\n",
    "        with g.batch_update():\n",
    "           # print(f'X1: {type(x1)}')\n",
    "\n",
    "        #    print(g.data[0])\n",
    "            g.data[0].x = x1\n",
    "           # print(g.data)\n",
    "            g.data[1].x = x2\n",
    "            g.data[0].y = y1\n",
    "            g.data[1].y = y2\n",
    "        #    print(y1)\n",
    "        #    print(y2)\n",
    "           # g.data[0].x = x1\n",
    "          #  g.data[1].x = x2\n",
    "            g.layout.barmode = 'group'\n",
    "            g.layout.xaxis.title = 'Congressional District'\n",
    "            g.layout.yaxis.title = 'Turnout Rate'\n",
    "\n",
    "\n",
    "election.observe(response, names=\"value\")\n",
    "# textbox.observe(response, names=\"value\")\n",
    "# month.observe(response, names=\"value\")\n",
    "# use_date.observe(response, names=\"value\")\n",
    "\n",
    "container2 = widgets.HBox([election])\n",
    "widgets.VBox([#container,\n",
    "              container2,\n",
    "              g\n",
    "             ])"
   ]
  },
  {
   "cell_type": "markdown",
   "metadata": {},
   "source": [
    "![alt text](images/turnout_by_election_segment_district.jpg \"Title\")"
   ]
  },
  {
   "cell_type": "markdown",
   "metadata": {},
   "source": [
    "Voters turnout to vote at different levels based on their party affiliation and their congressional district.  We will want to include this variable in our model to see if it has any effect on our predictions."
   ]
  },
  {
   "cell_type": "markdown",
   "metadata": {},
   "source": [
    "# Registered Voters By Segment  <a class=\"anchor\" id=\"four-bullet\"></a>"
   ]
  },
  {
   "cell_type": "code",
   "execution_count": 39,
   "metadata": {
    "scrolled": true
   },
   "outputs": [
    {
     "data": {
      "application/vnd.jupyter.widget-view+json": {
       "model_id": "02deb7e8170044678ff6d3a7b30d6f0a",
       "version_major": 2,
       "version_minor": 0
      },
      "text/plain": [
       "VBox(children=(HBox(children=(Dropdown(description='Segment:', index=11, options=('AmericanIndian', 'Black', '…"
      ]
     },
     "metadata": {},
     "output_type": "display_data"
    }
   ],
   "source": [
    "df_for_chart = voter_reg_df\n",
    "\n",
    "seg = widgets.Dropdown(\n",
    "    options=list(df_for_chart['seg'].unique()),\n",
    "    value='Total',\n",
    "    description='Segment:',\n",
    ")\n",
    "\n",
    "county = widgets.Dropdown(\n",
    "    options=list(df_for_chart['CountyName'].unique()),\n",
    "    value='\"ALAMANCE\"',\n",
    "    description='County:',\n",
    ")\n",
    "\n",
    "container = widgets.HBox(children=[seg, county])\n",
    "\n",
    "trace1 = go.Bar(x=df_for_chart['Date'],\n",
    "         y=df_for_chart['Total'] ,  name='Arrival Delays')\n",
    "g = go.FigureWidget(data=[trace1],\n",
    "                    layout=go.Layout(\n",
    "                        title=dict(\n",
    "                            text='Registered Voters By Month, County, Segment'\n",
    "                        ),\n",
    "                        barmode='overlay',\n",
    "                        autosize=False,\n",
    "                        width=800,\n",
    "                        height=400,\n",
    "                        margin=go.layout.Margin(\n",
    "                            l=50,\n",
    "                            r=50,\n",
    "                            b=150,\n",
    "                            t=100,\n",
    "                            pad=4\n",
    "                        )\n",
    "                    ))\n",
    "\n",
    "def validate():\n",
    "    if seg.value in df_for_chart['seg'].unique():\n",
    "        return True\n",
    "    else:\n",
    "        return False\n",
    "\n",
    "\n",
    "def response(change):\n",
    "    if validate():\n",
    "       # filter_list = [i for i in gen_participation_age['election_date'] == election.value]\n",
    "        \n",
    "        filter_list = [i and j for i, j in zip(df_for_chart['seg'] == seg.value,df_for_chart['CountyName'] == county.value)]\n",
    "        \n",
    "        temp_df = df_for_chart[filter_list]\n",
    "      #  print(temp_df.head())\n",
    "       # x1 = gen_participation['election_date']\n",
    "        x1 = temp_df['Date']\n",
    "        y1 = temp_df['Total']\n",
    "    #    x2 = temp_df['dep_delay']\n",
    "        with g.batch_update():\n",
    "           # print(f'X1: {type(x1)}')\n",
    "          #  print(x1)\n",
    "            g.data[0].x = x1\n",
    "            g.data[0].y = y1\n",
    "           # g.data[0].x = x1\n",
    "          #  g.data[1].x = x2\n",
    "            g.layout.barmode = 'group'\n",
    "            g.layout.xaxis.title = 'Week'\n",
    "            g.layout.yaxis.title = 'Total registered Voters'\n",
    "\n",
    "\n",
    "seg.observe(response, names=\"value\")\n",
    "county.observe(response, names=\"value\")\n",
    "\n",
    "# textbox.observe(response, names=\"value\")\n",
    "# month.observe(response, names=\"value\")\n",
    "# use_date.observe(response, names=\"value\")\n",
    "\n",
    "#container = widgets.HBox([election])\n",
    "widgets.VBox([#container,\n",
    "              container,\n",
    "              g\n",
    "             ])"
   ]
  },
  {
   "cell_type": "markdown",
   "metadata": {},
   "source": [
    "![alt text](images/registered_voters_by_month_county_segment.jpg \"Title\")"
   ]
  },
  {
   "cell_type": "markdown",
   "metadata": {},
   "source": [
    "Looking at the number of total registered voters by month, we can see that at the end of each year there is a slight drop down.  This is likely due to the BOE cleaning up the registrations, and culling those that are no longer valid.  We will have to keep in mind, especially for historic data, that our voter file only contains active registrations."
   ]
  },
  {
   "cell_type": "markdown",
   "metadata": {},
   "source": [
    "# Obama Approval Rating, Polls  <a class=\"anchor\" id=\"five-bullet\"></a>"
   ]
  },
  {
   "cell_type": "code",
   "execution_count": 17,
   "metadata": {},
   "outputs": [],
   "source": [
    "obama_approval_rate['date'] = pd.to_datetime(obama_approval_rate['date'])\n",
    "obama_approval_rate = obama_approval_rate.set_index('date')"
   ]
  },
  {
   "cell_type": "code",
   "execution_count": 18,
   "metadata": {},
   "outputs": [
    {
     "name": "stdout",
     "output_type": "stream",
     "text": [
      "<class 'pandas.core.frame.DataFrame'>\n",
      "DatetimeIndex: 650 entries, 2009-01-18 to 2016-11-17\n",
      "Data columns (total 4 columns):\n",
      "label    650 non-null object\n",
      "value    650 non-null float64\n",
      "low      0 non-null float64\n",
      "high     0 non-null float64\n",
      "dtypes: float64(3), object(1)\n",
      "memory usage: 25.4+ KB\n"
     ]
    }
   ],
   "source": [
    "obama_approval_rate.info()"
   ]
  },
  {
   "cell_type": "code",
   "execution_count": 19,
   "metadata": {},
   "outputs": [
    {
     "data": {
      "text/plain": [
       "<matplotlib.lines.Line2D at 0x1d2908fde80>"
      ]
     },
     "execution_count": 19,
     "metadata": {},
     "output_type": "execute_result"
    },
    {
     "data": {
      "image/png": "[encoded data removed]",
      "text/plain": [
       "<Figure size 576x432 with 1 Axes>"
      ]
     },
     "metadata": {
      "needs_background": "light"
     },
     "output_type": "display_data"
    }
   ],
   "source": [
    "mask = obama_approval_rate['label'] == 'Approve'\n",
    "obama_approval_rate[mask].plot( y='value', kind='line', figsize=(8, 6), title='Obama NC Approval Rating, By Week')\n",
    "\n",
    "election_dates = {2018: '2018-11-06',\n",
    " 2016: '2016-11-08',\n",
    " 2014: '2014-11-04',\n",
    " 2012: '2012-11-06',\n",
    " 2010: '2010-11-02'}\n",
    "\n",
    "\n",
    "plt.axvline(datetime.strptime(election_dates.get(2016) , '%Y-%m-%d') - timedelta(days=60), color='g')\n",
    "plt.axvline(datetime.strptime(election_dates.get(2016) , '%Y-%m-%d'), color='g')\n",
    "\n",
    "plt.axvline(datetime.strptime(election_dates.get(2014) , '%Y-%m-%d') - timedelta(days=60), color='r')\n",
    "plt.axvline(datetime.strptime(election_dates.get(2014) , '%Y-%m-%d'), color='r')\n",
    "\n",
    "plt.axvline(datetime.strptime(election_dates.get(2012) , '%Y-%m-%d') - timedelta(days=60), color='k')\n",
    "plt.axvline(datetime.strptime(election_dates.get(2012) , '%Y-%m-%d'), color='k')\n",
    "\n",
    "plt.axvline(datetime.strptime(election_dates.get(2010) , '%Y-%m-%d') - timedelta(days=60), color='k')\n",
    "plt.axvline(datetime.strptime(election_dates.get(2010) , '%Y-%m-%d'), color='k')"
   ]
  },
  {
   "cell_type": "markdown",
   "metadata": {},
   "source": [
    "Looking at President Obama's approval rating among NC residents, we can see that in 2010 and 2012, in the sixty days leading up to the election, that his numbers were stable.  However, in 2014, his polling average fell in the 60 days leading up to the election.  2016 saw his polling numbers among North Carolinians rise in that 2 month period."
   ]
  },
  {
   "cell_type": "code",
   "execution_count": null,
   "metadata": {},
   "outputs": [],
   "source": []
  },
  {
   "cell_type": "markdown",
   "metadata": {},
   "source": [
    "# Donations By Election, District  <a class=\"anchor\" id=\"six-bullet\"></a>"
   ]
  },
  {
   "cell_type": "code",
   "execution_count": 20,
   "metadata": {},
   "outputs": [
    {
     "data": {
      "text/plain": [
       "<matplotlib.axes._subplots.AxesSubplot at 0x1d290907a90>"
      ]
     },
     "execution_count": 20,
     "metadata": {},
     "output_type": "execute_result"
    },
    {
     "data": {
      "image/png": "[encoded data removed]",
      "text/plain": [
       "<Figure size 576x432 with 1 Axes>"
      ]
     },
     "metadata": {
      "needs_background": "light"
     },
     "output_type": "display_data"
    }
   ],
   "source": [
    "\n",
    "df_money.groupby(['Election Year',  'General Party' ]).agg({'Total $':'sum'}).unstack().plot(kind='bar', figsize=(8, 6), title='Total Donations By Party, Cycle')"
   ]
  },
  {
   "cell_type": "markdown",
   "metadata": {},
   "source": [
    "In each of the four election cycles between 2010 and 2016, donations to republican candidates outnumbered those to democratic candidates, with the exception of 2014."
   ]
  },
  {
   "cell_type": "code",
   "execution_count": 21,
   "metadata": {},
   "outputs": [
    {
     "data": {
      "text/plain": [
       "<matplotlib.axes._subplots.AxesSubplot at 0x1d2909d7208>"
      ]
     },
     "execution_count": 21,
     "metadata": {},
     "output_type": "execute_result"
    },
    {
     "data": {
      "image/png": "[encoded data removed]",
      "text/plain": [
       "<Figure size 576x432 with 1 Axes>"
      ]
     },
     "metadata": {
      "needs_background": "light"
     },
     "output_type": "display_data"
    }
   ],
   "source": [
    "df_money.groupby(['Election Year',  'General Party' ]).agg({'# of Records':'sum'}).unstack().plot(kind='bar', figsize=(8, 6), title='Total Donors By Party, Cycle')\n"
   ]
  },
  {
   "cell_type": "markdown",
   "metadata": {},
   "source": [
    "Looking at the number of donors per cycle, we can see that in 2010 and 2012, Republican candidates had more donors.  However, in 2014 and 2016, Democratic candidates had more donors.  2016 is interesting because Republican candidates received more total donations ($), indicating that the donation total per donor was higher."
   ]
  },
  {
   "cell_type": "code",
   "execution_count": 40,
   "metadata": {},
   "outputs": [],
   "source": [
    "df_donors = df_money.groupby(['Election Year', 'Office Sought' ,'General Party' ]).agg({'# of Records':'sum'})"
   ]
  },
  {
   "cell_type": "code",
   "execution_count": 41,
   "metadata": {},
   "outputs": [],
   "source": [
    "df_donors = df_donors.reset_index(level=['Office Sought' ,'General Party', 'Election Year'])"
   ]
  },
  {
   "cell_type": "code",
   "execution_count": 45,
   "metadata": {},
   "outputs": [
    {
     "data": {
      "application/vnd.jupyter.widget-view+json": {
       "model_id": "81e740d5a3c3479cab6bf2f9d6f0f2a9",
       "version_major": 2,
       "version_minor": 0
      },
      "text/plain": [
       "VBox(children=(HBox(children=(Dropdown(description='Election Date:', options=(2010, 2012, 2014, 2016), value=2…"
      ]
     },
     "metadata": {},
     "output_type": "display_data"
    }
   ],
   "source": [
    "#gen_participation_cd\n",
    "election = widgets.Dropdown(\n",
    "    options=list(df_donors['Election Year'].unique()),\n",
    "    value=list(df_donors['Election Year'].unique())[0],\n",
    "    description='Election Date:',\n",
    ")\n",
    "\n",
    "#container = widgets.HBox(children=[election])\n",
    "trace1 = go.Bar(x=df_donors['Office Sought'],\n",
    "         y=df_donors['# of Records'] ,  name='Dem Donors')\n",
    "trace2 = go.Bar(x=df_donors['Office Sought'],\n",
    "         y=df_donors['# of Records'] ,  name='Rep Donors')\n",
    "g = go.FigureWidget(data=[trace1, trace2],\n",
    "                    layout=go.Layout(\n",
    "                        title=dict(\n",
    "                            text='Donors By Election, Segment, District'\n",
    "                        ),\n",
    "                        barmode='group',\n",
    "                        autosize=False,\n",
    "                        width=800,\n",
    "                        height=500,\n",
    "                        margin=go.layout.Margin(\n",
    "                            l=50,\n",
    "                            r=50,\n",
    "                            b=150,\n",
    "                            t=100,\n",
    "                            pad=4\n",
    "                        )\n",
    "                    ))\n",
    "\n",
    "def validate():\n",
    "    if election.value in df_donors['Election Year'].unique():\n",
    "        return True\n",
    "    else:\n",
    "        return False\n",
    "\n",
    "\n",
    "def response(change):\n",
    "    if validate():\n",
    "      #  filter_list = [i for i in gen_participation_cd['election_date'] == election.value]\n",
    "        dem_filter_list = [i and j for i,j in zip(df_donors['Election Year'] == election.value ,\n",
    "                                          df_donors['General Party'] == 'DEMOCRATIC')]\n",
    "\n",
    "        rep_filter_list = [i and j for i,j in zip(df_donors['Election Year'] == election.value ,\n",
    "                                          df_donors['General Party'] == 'REPUBLICAN')]\n",
    "        \n",
    "        temp_df_dem = df_donors[dem_filter_list]\n",
    "        temp_df_rep = df_donors[rep_filter_list]\n",
    "       # temp_df_rep\n",
    "       # x1 = gen_participation['election_date']\n",
    "        x1 = temp_df_dem['Office Sought']\n",
    "        x2 = temp_df_rep['Office Sought']\n",
    "        y1 = temp_df_dem['# of Records']\n",
    "        y2 = temp_df_rep['# of Records']\n",
    "    #    x2 = temp_df['dep_delay']\n",
    "        with g.batch_update():\n",
    "           # print(f'X1: {type(x1)}')\n",
    "\n",
    "        #    print(g.data[0])\n",
    "            g.data[0].x = x1\n",
    "           # print(g.data)\n",
    "            g.data[1].x = x2\n",
    "            g.data[0].y = y1\n",
    "            g.data[1].y = y2\n",
    "        #    print(y1)\n",
    "        #    print(y2)\n",
    "           # g.data[0].x = x1\n",
    "          #  g.data[1].x = x2\n",
    "            g.layout.barmode = 'group'\n",
    "            g.layout.xaxis.title = 'Congressional District'\n",
    "            g.layout.yaxis.title = '# Of Donors'\n",
    "\n",
    "\n",
    "election.observe(response, names=\"value\")\n",
    "# textbox.observe(response, names=\"value\")\n",
    "# month.observe(response, names=\"value\")\n",
    "# use_date.observe(response, names=\"value\")\n",
    "\n",
    "container2 = widgets.HBox([election])\n",
    "widgets.VBox([#container,\n",
    "              container2,\n",
    "              g\n",
    "             ])"
   ]
  },
  {
   "cell_type": "markdown",
   "metadata": {},
   "source": [
    "![alt text](images/donors_by_election_segment_district.jpg \"Title\")"
   ]
  },
  {
   "cell_type": "markdown",
   "metadata": {},
   "source": [
    "In 2016, Republican candidates in congressional races had more donors for the most part.  However the Senate race attracted many more donors tot eh Democratic candidate."
   ]
  },
  {
   "cell_type": "code",
   "execution_count": 43,
   "metadata": {},
   "outputs": [],
   "source": [
    "df_dollars = df_money.groupby(['Election Year', 'Office Sought' ,'General Party' ]).agg({'Total $':'sum'})\n",
    "df_dollars = df_dollars.reset_index(level=['Office Sought' ,'General Party', 'Election Year'])\n"
   ]
  },
  {
   "cell_type": "code",
   "execution_count": 44,
   "metadata": {
    "scrolled": true
   },
   "outputs": [
    {
     "data": {
      "application/vnd.jupyter.widget-view+json": {
       "model_id": "5c3ae31a9bcf4b1884f5ebc7119cf859",
       "version_major": 2,
       "version_minor": 0
      },
      "text/plain": [
       "VBox(children=(HBox(children=(Dropdown(description='Election Date:', options=(2010, 2012, 2014, 2016), value=2…"
      ]
     },
     "metadata": {},
     "output_type": "display_data"
    }
   ],
   "source": [
    "#gen_participation_cd\n",
    "election = widgets.Dropdown(\n",
    "    options=list(df_dollars['Election Year'].unique()),\n",
    "    value=list(df_dollars['Election Year'].unique())[0],\n",
    "    description='Election Date:',\n",
    ")\n",
    "\n",
    "#container = widgets.HBox(children=[election])\n",
    "trace1 = go.Bar(x=df_dollars['Office Sought'],\n",
    "         y=df_dollars['Total $'] ,  name='Dem Donations')\n",
    "trace2 = go.Bar(x=df_dollars['Office Sought'],\n",
    "         y=df_dollars['Total $'] ,  name='Rep Donations')\n",
    "g = go.FigureWidget(data=[trace1, trace2],\n",
    "                    layout=go.Layout(\n",
    "                        title=dict(\n",
    "                            text='Donations in Dollars By Election, Segment, District'\n",
    "                        ),\n",
    "                        barmode='group',\n",
    "                        autosize=False,\n",
    "                        width=800,\n",
    "                        height=500,\n",
    "                        margin=go.layout.Margin(\n",
    "                            l=50,\n",
    "                            r=50,\n",
    "                            b=150,\n",
    "                            t=100,\n",
    "                            pad=4\n",
    "                        )\n",
    "                    ))\n",
    "\n",
    "def validate():\n",
    "    if election.value in df_dollars['Election Year'].unique():\n",
    "        return True\n",
    "    else:\n",
    "        return False\n",
    "\n",
    "\n",
    "def response(change):\n",
    "    if validate():\n",
    "      #  filter_list = [i for i in gen_participation_cd['election_date'] == election.value]\n",
    "        dem_filter_list = [i and j for i,j in zip(df_dollars['Election Year'] == election.value ,\n",
    "                                          df_dollars['General Party'] == 'DEMOCRATIC')]\n",
    "\n",
    "        rep_filter_list = [i and j for i,j in zip(df_dollars['Election Year'] == election.value ,\n",
    "                                          df_dollars['General Party'] == 'REPUBLICAN')]\n",
    "        \n",
    "        temp_df_dem = df_dollars[dem_filter_list]\n",
    "        temp_df_rep = df_dollars[rep_filter_list]\n",
    "       # temp_df_rep\n",
    "       # x1 = gen_participation['election_date']\n",
    "        x1 = temp_df_dem['Office Sought']\n",
    "        x2 = temp_df_rep['Office Sought']\n",
    "        y1 = temp_df_dem['Total $']\n",
    "        y2 = temp_df_rep['Total $']\n",
    "    #    x2 = temp_df['dep_delay']\n",
    "        with g.batch_update():\n",
    "           # print(f'X1: {type(x1)}')\n",
    "\n",
    "        #    print(g.data[0])\n",
    "            g.data[0].x = x1\n",
    "           # print(g.data)\n",
    "            g.data[1].x = x2\n",
    "            g.data[0].y = y1\n",
    "            g.data[1].y = y2\n",
    "        #    print(y1)\n",
    "        #    print(y2)\n",
    "           # g.data[0].x = x1\n",
    "          #  g.data[1].x = x2\n",
    "            g.layout.barmode = 'group'\n",
    "            g.layout.xaxis.title = 'Congressional District'\n",
    "            g.layout.yaxis.title = 'Total Donations in Dollars'\n",
    "           \n",
    "\n",
    "election.observe(response, names=\"value\")\n",
    "# textbox.observe(response, names=\"value\")\n",
    "# month.observe(response, names=\"value\")\n",
    "# use_date.observe(response, names=\"value\")\n",
    "\n",
    "container2 = widgets.HBox([election])\n",
    "widgets.VBox([#container,\n",
    "              container2,\n",
    "              g\n",
    "             ])"
   ]
  },
  {
   "cell_type": "markdown",
   "metadata": {},
   "source": [
    "![alt text](images/donations_by_election_segment_district.jpg \"Title\")"
   ]
  },
  {
   "cell_type": "markdown",
   "metadata": {},
   "source": [
    "As we can see, the 2016 Senate race between Burr (R) and Ross (D) was the most expensive race in the state that year."
   ]
  },
  {
   "cell_type": "code",
   "execution_count": null,
   "metadata": {},
   "outputs": [],
   "source": []
  }
 ],
 "metadata": {
  "kernelspec": {
   "display_name": "Python 3",
   "language": "python",
   "name": "python3"
  },
  "language_info": {
   "codemirror_mode": {
    "name": "ipython",
    "version": 3
   },
   "file_extension": ".py",
   "mimetype": "text/x-python",
   "name": "python",
   "nbconvert_exporter": "python",
   "pygments_lexer": "ipython3",
   "version": "3.6.7"
  }
 },
 "nbformat": 4,
 "nbformat_minor": 2
}
