{
 "cells": [
  {
   "cell_type": "markdown",
   "metadata": {},
   "source": [
    "# Table of Contents:\n",
    "* [Import Packages](#first-bullet)\n",
    "* [Load Voter File](#two-bullet)\n",
    "* [Scrape Registered Voters By County](#three-bullet)\n",
    "* [HuffPo Polls API](#four-bullet)\n",
    "* [Follow The Money (Donations)](#five-bullet)"
   ]
  },
  {
   "cell_type": "markdown",
   "metadata": {},
   "source": [
    "This notebook will take us through the process of importing the data to be used in the model.  Fist, we will load the voter  and  voter demographics files.  Next, we will scrape the NC Bureau of Elections website for the total number of registered voters by county and demographic group. Following that, we will use the Huffington Post polls API to pull in information on North Carolina.  Finally, we will pull in a CSV of donation data by district."
   ]
  },
  {
   "cell_type": "markdown",
   "metadata": {},
   "source": [
    "# Import Packages <a class=\"anchor\" id=\"first-bullet\"></a>"
   ]
  },
  {
   "cell_type": "code",
   "execution_count": 1,
   "metadata": {},
   "outputs": [],
   "source": [
    "import pandas as pd\n",
    "import numpy as np"
   ]
  },
  {
   "cell_type": "code",
   "execution_count": 6,
   "metadata": {},
   "outputs": [],
   "source": [
    "import json\n",
    "import requests\n",
    "from bs4 import BeautifulSoup"
   ]
  },
  {
   "cell_type": "code",
   "execution_count": 7,
   "metadata": {},
   "outputs": [],
   "source": [
    "from datetime import date, timedelta"
   ]
  },
  {
   "cell_type": "code",
   "execution_count": 8,
   "metadata": {},
   "outputs": [],
   "source": [
    "from __future__ import print_function\n",
    "import time\n",
    "import pollster\n",
    "from pollster.rest import ApiException\n",
    "from pprint import pprint\n",
    "\n",
    "from datetime import datetime, date, time, timedelta"
   ]
  },
  {
   "cell_type": "markdown",
   "metadata": {},
   "source": [
    "# Load Voter File <a class=\"anchor\" id=\"two-bullet\"></a>"
   ]
  },
  {
   "cell_type": "markdown",
   "metadata": {},
   "source": [
    "## Load Voter History File"
   ]
  },
  {
   "cell_type": "markdown",
   "metadata": {},
   "source": [
    "The voter history file contains rounghly 30.6 million records.  It is a list of all active voters and each time they voted in an election since 2010.  Due to the size of the file, pulling it directly into a dataframe is not an option.  Instead, we will pull chunks of 80K rows at a time and pivot the data so that we only have one row per voter.  We only care about general elections, so we will be discarding rows in the table that are for local/ primary elections.  Because we are pulling in chunks of data, a voter may get split into two chunks, and then aggregated into two separate rows.  To ensure that we only have one row per voter, we will re-aggregate the data once we have pulled all 30.6MM records into our dataframe."
   ]
  },
  {
   "cell_type": "code",
   "execution_count": 24,
   "metadata": {},
   "outputs": [
    {
     "name": "stderr",
     "output_type": "stream",
     "text": [
      "C:\\Users\\phill\\Anaconda3\\lib\\site-packages\\ipykernel_launcher.py:8: SettingWithCopyWarning: \n",
      "A value is trying to be set on a copy of a slice from a DataFrame.\n",
      "Try using .loc[row_indexer,col_indexer] = value instead\n",
      "\n",
      "See the caveats in the documentation: http://pandas.pydata.org/pandas-docs/stable/indexing.html#indexing-view-versus-copy\n",
      "  \n",
      "C:\\Users\\phill\\Anaconda3\\lib\\site-packages\\ipykernel_launcher.py:11: SettingWithCopyWarning: \n",
      "A value is trying to be set on a copy of a slice from a DataFrame.\n",
      "Try using .loc[row_indexer,col_indexer] = value instead\n",
      "\n",
      "See the caveats in the documentation: http://pandas.pydata.org/pandas-docs/stable/indexing.html#indexing-view-versus-copy\n",
      "  # This is added back by InteractiveShellApp.init_path()\n",
      "C:\\Users\\phill\\Anaconda3\\lib\\site-packages\\ipykernel_launcher.py:12: SettingWithCopyWarning: \n",
      "A value is trying to be set on a copy of a slice from a DataFrame.\n",
      "Try using .loc[row_indexer,col_indexer] = value instead\n",
      "\n",
      "See the caveats in the documentation: http://pandas.pydata.org/pandas-docs/stable/indexing.html#indexing-view-versus-copy\n",
      "  if sys.path[0] == '':\n",
      "C:\\Users\\phill\\Anaconda3\\lib\\site-packages\\ipykernel_launcher.py:13: SettingWithCopyWarning: \n",
      "A value is trying to be set on a copy of a slice from a DataFrame.\n",
      "Try using .loc[row_indexer,col_indexer] = value instead\n",
      "\n",
      "See the caveats in the documentation: http://pandas.pydata.org/pandas-docs/stable/indexing.html#indexing-view-versus-copy\n",
      "  del sys.path[0]\n",
      "C:\\Users\\phill\\Anaconda3\\lib\\site-packages\\ipykernel_launcher.py:14: SettingWithCopyWarning: \n",
      "A value is trying to be set on a copy of a slice from a DataFrame.\n",
      "Try using .loc[row_indexer,col_indexer] = value instead\n",
      "\n",
      "See the caveats in the documentation: http://pandas.pydata.org/pandas-docs/stable/indexing.html#indexing-view-versus-copy\n",
      "  \n",
      "C:\\Users\\phill\\Anaconda3\\lib\\site-packages\\ipykernel_launcher.py:15: SettingWithCopyWarning: \n",
      "A value is trying to be set on a copy of a slice from a DataFrame.\n",
      "Try using .loc[row_indexer,col_indexer] = value instead\n",
      "\n",
      "See the caveats in the documentation: http://pandas.pydata.org/pandas-docs/stable/indexing.html#indexing-view-versus-copy\n",
      "  from ipykernel import kernelapp as app\n"
     ]
    },
    {
     "name": "stdout",
     "output_type": "stream",
     "text": [
      "15003\n",
      "18251\n",
      "28649\n",
      "11326\n",
      "13259\n",
      "13333\n",
      "17521\n",
      "15816\n",
      "15877\n",
      "14203\n",
      "11565\n",
      "18288\n",
      "14672\n",
      "12885\n",
      "16870\n",
      "24569\n",
      "18951\n",
      "12895\n",
      "13355\n",
      "13745\n",
      "12408\n",
      "12705\n",
      "13414\n",
      "14661\n",
      "15443\n",
      "17116\n",
      "20757\n",
      "25431\n",
      "24426\n",
      "11223\n",
      "11935\n",
      "14660\n",
      "11507\n",
      "14641\n",
      "19485\n",
      "15388\n",
      "18286\n",
      "24791\n",
      "22299\n",
      "12701\n",
      "13654\n",
      "12802\n",
      "14626\n",
      "21636\n",
      "16229\n",
      "13336\n",
      "16603\n",
      "22713\n",
      "13847\n",
      "16101\n",
      "19416\n",
      "23422\n",
      "10825\n",
      "12904\n",
      "12206\n",
      "13546\n",
      "21465\n",
      "18022\n",
      "15948\n",
      "16393\n",
      "11111\n",
      "13554\n",
      "17778\n",
      "15134\n",
      "18682\n",
      "19559\n",
      "21104\n",
      "12925\n",
      "14622\n",
      "12068\n",
      "13009\n",
      "13866\n",
      "15565\n",
      "17489\n",
      "19676\n",
      "22519\n",
      "29287\n",
      "26382\n",
      "9818\n",
      "10015\n",
      "18702\n",
      "13910\n",
      "19384\n",
      "17688\n",
      "26568\n",
      "13096\n",
      "13409\n",
      "15030\n",
      "12555\n",
      "16351\n",
      "14269\n",
      "16587\n",
      "10021\n",
      "10912\n",
      "11267\n",
      "11405\n",
      "12285\n",
      "14358\n",
      "14432\n",
      "17331\n",
      "19231\n",
      "26530\n",
      "28996\n",
      "27312\n",
      "9411\n",
      "13544\n",
      "20454\n",
      "11799\n",
      "12603\n",
      "13352\n",
      "14457\n",
      "14510\n",
      "15040\n",
      "16231\n",
      "17639\n",
      "20628\n",
      "22833\n",
      "28859\n",
      "35214\n",
      "10876\n",
      "11969\n",
      "15436\n",
      "20291\n",
      "16771\n",
      "19731\n",
      "26432\n",
      "20211\n",
      "12838\n",
      "14448\n",
      "16743\n",
      "12304\n",
      "17214\n",
      "17258\n",
      "9671\n",
      "9908\n",
      "9779\n",
      "9678\n",
      "9737\n",
      "10973\n",
      "12132\n",
      "12807\n",
      "12945\n",
      "14232\n",
      "14748\n",
      "15928\n",
      "14383\n",
      "13730\n",
      "16114\n",
      "18457\n",
      "20961\n",
      "21223\n",
      "27784\n",
      "29843\n",
      "32390\n",
      "9894\n",
      "12385\n",
      "20379\n",
      "23930\n",
      "13714\n",
      "16463\n",
      "16871\n",
      "14947\n",
      "21689\n",
      "18708\n",
      "21771\n",
      "13006\n",
      "13972\n",
      "16782\n",
      "15706\n",
      "19872\n",
      "19964\n",
      "29864\n",
      "14063\n",
      "12510\n",
      "12972\n",
      "15455\n",
      "17138\n",
      "19113\n",
      "20231\n",
      "29536\n",
      "11965\n",
      "14320\n",
      "15122\n",
      "13919\n",
      "18432\n",
      "14370\n",
      "14379\n",
      "18273\n",
      "13070\n",
      "15673\n",
      "22376\n",
      "19054\n",
      "16261\n",
      "15874\n",
      "15241\n",
      "25077\n",
      "24168\n",
      "27656\n",
      "34551\n",
      "37447\n",
      "29044\n",
      "9022\n",
      "8617\n",
      "9557\n",
      "9551\n",
      "10190\n",
      "10701\n",
      "10926\n",
      "10417\n",
      "11215\n",
      "11439\n",
      "11860\n",
      "11133\n",
      "11134\n",
      "11301\n",
      "11683\n",
      "12100\n",
      "12728\n",
      "12192\n",
      "13119\n",
      "13568\n",
      "13817\n",
      "14724\n",
      "15662\n",
      "14513\n",
      "14639\n",
      "15299\n",
      "15235\n",
      "16768\n",
      "17917\n",
      "18984\n",
      "18904\n",
      "17722\n",
      "19602\n",
      "21177\n",
      "24733\n",
      "22730\n",
      "13000\n",
      "19221\n",
      "12177\n",
      "13062\n",
      "16022\n",
      "25982\n",
      "11757\n",
      "13613\n",
      "16902\n",
      "14993\n",
      "13855\n",
      "15144\n",
      "16599\n",
      "19964\n",
      "24932\n",
      "28396\n",
      "11933\n",
      "12691\n",
      "14984\n",
      "20144\n",
      "31969\n",
      "12637\n",
      "15710\n",
      "10192\n",
      "11318\n",
      "12747\n",
      "14466\n",
      "18417\n",
      "25262\n",
      "24309\n",
      "11232\n",
      "14346\n",
      "19284\n",
      "15622\n",
      "22583\n",
      "14409\n",
      "16978\n",
      "13666\n",
      "16065\n",
      "20311\n",
      "33527\n",
      "9074\n",
      "11023\n",
      "16793\n",
      "20062\n",
      "21589\n",
      "12582\n",
      "14509\n",
      "15181\n",
      "15390\n",
      "21817\n",
      "18145\n",
      "12859\n",
      "15415\n",
      "21279\n",
      "11471\n",
      "15292\n",
      "17870\n",
      "18706\n",
      "23842\n",
      "11251\n",
      "13158\n",
      "14227\n",
      "13622\n",
      "19226\n",
      "15070\n",
      "17146\n",
      "16878\n",
      "15983\n",
      "11921\n",
      "20098\n",
      "14364\n",
      "17774\n",
      "14378\n",
      "20202\n",
      "16956\n",
      "16295\n",
      "16274\n",
      "15727\n",
      "18658\n",
      "24083\n",
      "27384\n",
      "13219\n",
      "13500\n",
      "13240\n",
      "15368\n",
      "23288\n",
      "26720\n",
      "30614\n",
      "35456\n",
      "39962\n",
      "9595\n",
      "9737\n",
      "9725\n",
      "10188\n",
      "10455\n",
      "10226\n",
      "10432\n",
      "10648\n",
      "11307\n",
      "11212\n",
      "11818\n",
      "11732\n",
      "11416\n",
      "11467\n",
      "11796\n",
      "11780\n",
      "12732\n",
      "12588\n",
      "12126\n",
      "13165\n",
      "12711\n",
      "13405\n",
      "13568\n",
      "14070\n",
      "14794\n",
      "13380\n",
      "13978\n",
      "14427\n",
      "14999\n",
      "15978\n",
      "16965\n",
      "17660\n",
      "18514\n",
      "16523\n",
      "18117\n",
      "19851\n",
      "21552\n",
      "24756\n",
      "24529\n",
      "15887\n",
      "12419\n",
      "13631\n",
      "24937\n",
      "25259\n",
      "13341\n",
      "16098\n",
      "18274\n",
      "13379\n",
      "18469\n",
      "14699\n",
      "13795\n",
      "17378\n",
      "18737\n",
      "16813\n",
      "12122\n",
      "6348923\n"
     ]
    }
   ],
   "source": [
    "chunksize = 80_000 #10 ** 6\n",
    "total = []\n",
    "for chunk in pd.read_csv('./data/nc_boe_data/ncvhis_Statewide.txt', delimiter = '\\t', encoding = \"ISO-8859-1\", chunksize=chunksize):\n",
    "#for chunk in pd.read_csv('ncvhis1/ncvhis1.txt', delimiter = '\\t', encoding = \"ISO-8859-1\", chunksize=chunksize):\n",
    "    df_vot_hist = chunk[['county_id', 'election_desc', 'voting_method', 'voted_party_cd',\n",
    "                  'pct_label', 'ncid', 'voted_county_id', 'vtd_label']]\n",
    "    \n",
    "    df_vot_hist['elec_plus_party'] = df_vot_hist['election_desc'] + df_vot_hist['voted_party_cd']\n",
    " \n",
    "\n",
    "    df_vot_hist['gen_16_voted'] = [1 if x =='11/08/2016 GENERAL' else 0 for x in df_vot_hist['election_desc']] \n",
    "    df_vot_hist['gen_12_voted'] = [1 if x =='11/06/2012 GENERAL' else 0 for x in df_vot_hist['election_desc']] \n",
    "    df_vot_hist['gen_18_voted'] = [1 if x =='11/06/2018 GENERAL' else 0 for x in df_vot_hist['election_desc']] \n",
    "    df_vot_hist['gen_14_voted'] = [1 if x =='11/04/2014 GENERAL' else 0 for x in df_vot_hist['election_desc']] \n",
    "    df_vot_hist['gen_10_voted'] = [1 if x =='11/02/2010 GENERAL' else 0 for x in df_vot_hist['election_desc']] \n",
    "\n",
    "    df_vot_hist['gen_16_rep'] = [1 if x =='11/08/2016 GENERALREP' else 0 for x in df_vot_hist['elec_plus_party']]\n",
    "    df_vot_hist['gen_12_rep'] = [1 if x =='11/06/2012 GENERALREP' else 0 for x in df_vot_hist['elec_plus_party']] \n",
    "    df_vot_hist['gen_18_rep'] = [1 if x =='11/06/2018 GENERALREP' else 0 for x in df_vot_hist['elec_plus_party']] \n",
    "    df_vot_hist['gen_14_rep'] = [1 if x =='11/04/2014 GENERALREP' else 0 for x in df_vot_hist['elec_plus_party']] \n",
    "    df_vot_hist['gen_10_rep'] = [1 if x =='11/02/2010 GENERALREP' else 0 for x in df_vot_hist['elec_plus_party']] \n",
    "\n",
    "    df_vot_hist['gen_16_dem'] = [1 if x =='11/08/2016 GENERALDEM' else 0 for x in df_vot_hist['elec_plus_party']]\n",
    "    df_vot_hist['gen_12_dem'] = [1 if x =='11/06/2012 GENERALDEM' else 0 for x in df_vot_hist['elec_plus_party']] \n",
    "    df_vot_hist['gen_18_dem'] = [1 if x =='11/06/2018 GENERALDEM' else 0 for x in df_vot_hist['elec_plus_party']] \n",
    "    df_vot_hist['gen_14_dem'] = [1 if x =='11/04/2014 GENERALDEM' else 0 for x in df_vot_hist['elec_plus_party']] \n",
    "    df_vot_hist['gen_10_dem'] = [1 if x =='11/02/2010 GENERALDEM' else 0 for x in df_vot_hist['elec_plus_party']] \n",
    "\n",
    "    df_vot_hist['gen_16_ind'] = [1 if x =='11/08/2016 GENERALUNA' else 0 for x in df_vot_hist['elec_plus_party']]\n",
    "    df_vot_hist['gen_12_ind'] = [1 if x =='11/06/2012 GENERALUNA' else 0 for x in df_vot_hist['elec_plus_party']] \n",
    "    df_vot_hist['gen_18_ind'] = [1 if x =='11/06/2018 GENERALUNA' else 0 for x in df_vot_hist['elec_plus_party']] \n",
    "    df_vot_hist['gen_14_ind'] = [1 if x =='11/04/2014 GENERALUNA' else 0 for x in df_vot_hist['elec_plus_party']] \n",
    "    df_vot_hist['gen_10_ind'] = [1 if x =='11/02/2010 GENERALUNA' else 0 for x in df_vot_hist['elec_plus_party']] \n",
    "    \n",
    "    df_elect_hist = df_vot_hist[['ncid', 'gen_16_voted', 'gen_12_voted', 'gen_18_voted', 'gen_14_voted', 'gen_10_voted',\n",
    "                            'gen_16_rep', 'gen_12_rep', 'gen_18_rep', 'gen_14_rep', 'gen_10_rep',\n",
    "                            'gen_16_dem', 'gen_12_dem', 'gen_18_dem', 'gen_14_dem', 'gen_10_dem',\n",
    "                            'gen_16_ind', 'gen_12_ind', 'gen_18_ind', 'gen_14_ind', 'gen_10_ind']].groupby(['ncid']).sum().reset_index()\n",
    "    lol = df_elect_hist.values.tolist()\n",
    "    total += lol\n",
    "    print(len(lol))\n",
    "print(len(total))"
   ]
  },
  {
   "cell_type": "code",
   "execution_count": 25,
   "metadata": {},
   "outputs": [],
   "source": [
    "cols = ['ncid', 'gen_16_voted', 'gen_12_voted', 'gen_18_voted', 'gen_14_voted', 'gen_10_voted',\n",
    "                            'gen_16_rep', 'gen_12_rep', 'gen_18_rep', 'gen_14_rep', 'gen_10_rep',\n",
    "                            'gen_16_dem', 'gen_12_dem', 'gen_18_dem', 'gen_14_dem', 'gen_10_dem',\n",
    "                            'gen_16_ind', 'gen_12_ind', 'gen_18_ind', 'gen_14_ind', 'gen_10_ind']"
   ]
  },
  {
   "cell_type": "code",
   "execution_count": 26,
   "metadata": {},
   "outputs": [],
   "source": [
    "df = pd.DataFrame(total,columns=cols)"
   ]
  },
  {
   "cell_type": "code",
   "execution_count": 27,
   "metadata": {},
   "outputs": [
    {
     "data": {
      "text/html": [
       "<div>\n",
       "<style scoped>\n",
       "    .dataframe tbody tr th:only-of-type {\n",
       "        vertical-align: middle;\n",
       "    }\n",
       "\n",
       "    .dataframe tbody tr th {\n",
       "        vertical-align: top;\n",
       "    }\n",
       "\n",
       "    .dataframe thead th {\n",
       "        text-align: right;\n",
       "    }\n",
       "</style>\n",
       "<table border=\"1\" class=\"dataframe\">\n",
       "  <thead>\n",
       "    <tr style=\"text-align: right;\">\n",
       "      <th></th>\n",
       "      <th>ncid</th>\n",
       "      <th>gen_16_voted</th>\n",
       "      <th>gen_12_voted</th>\n",
       "      <th>gen_18_voted</th>\n",
       "      <th>gen_14_voted</th>\n",
       "      <th>gen_10_voted</th>\n",
       "      <th>gen_16_rep</th>\n",
       "      <th>gen_12_rep</th>\n",
       "      <th>gen_18_rep</th>\n",
       "      <th>gen_14_rep</th>\n",
       "      <th>...</th>\n",
       "      <th>gen_16_dem</th>\n",
       "      <th>gen_12_dem</th>\n",
       "      <th>gen_18_dem</th>\n",
       "      <th>gen_14_dem</th>\n",
       "      <th>gen_10_dem</th>\n",
       "      <th>gen_16_ind</th>\n",
       "      <th>gen_12_ind</th>\n",
       "      <th>gen_18_ind</th>\n",
       "      <th>gen_14_ind</th>\n",
       "      <th>gen_10_ind</th>\n",
       "    </tr>\n",
       "  </thead>\n",
       "  <tbody>\n",
       "    <tr>\n",
       "      <th>0</th>\n",
       "      <td>AA100000</td>\n",
       "      <td>1</td>\n",
       "      <td>0</td>\n",
       "      <td>0</td>\n",
       "      <td>0</td>\n",
       "      <td>0</td>\n",
       "      <td>0</td>\n",
       "      <td>0</td>\n",
       "      <td>0</td>\n",
       "      <td>0</td>\n",
       "      <td>...</td>\n",
       "      <td>0</td>\n",
       "      <td>0</td>\n",
       "      <td>0</td>\n",
       "      <td>0</td>\n",
       "      <td>0</td>\n",
       "      <td>1</td>\n",
       "      <td>0</td>\n",
       "      <td>0</td>\n",
       "      <td>0</td>\n",
       "      <td>0</td>\n",
       "    </tr>\n",
       "    <tr>\n",
       "      <th>1</th>\n",
       "      <td>AA100006</td>\n",
       "      <td>1</td>\n",
       "      <td>1</td>\n",
       "      <td>1</td>\n",
       "      <td>1</td>\n",
       "      <td>1</td>\n",
       "      <td>1</td>\n",
       "      <td>1</td>\n",
       "      <td>1</td>\n",
       "      <td>1</td>\n",
       "      <td>...</td>\n",
       "      <td>0</td>\n",
       "      <td>0</td>\n",
       "      <td>0</td>\n",
       "      <td>0</td>\n",
       "      <td>0</td>\n",
       "      <td>0</td>\n",
       "      <td>0</td>\n",
       "      <td>0</td>\n",
       "      <td>0</td>\n",
       "      <td>0</td>\n",
       "    </tr>\n",
       "    <tr>\n",
       "      <th>2</th>\n",
       "      <td>AA100007</td>\n",
       "      <td>1</td>\n",
       "      <td>1</td>\n",
       "      <td>1</td>\n",
       "      <td>1</td>\n",
       "      <td>1</td>\n",
       "      <td>0</td>\n",
       "      <td>0</td>\n",
       "      <td>0</td>\n",
       "      <td>0</td>\n",
       "      <td>...</td>\n",
       "      <td>0</td>\n",
       "      <td>0</td>\n",
       "      <td>0</td>\n",
       "      <td>0</td>\n",
       "      <td>0</td>\n",
       "      <td>1</td>\n",
       "      <td>1</td>\n",
       "      <td>1</td>\n",
       "      <td>1</td>\n",
       "      <td>1</td>\n",
       "    </tr>\n",
       "    <tr>\n",
       "      <th>3</th>\n",
       "      <td>AA100008</td>\n",
       "      <td>0</td>\n",
       "      <td>1</td>\n",
       "      <td>0</td>\n",
       "      <td>0</td>\n",
       "      <td>0</td>\n",
       "      <td>0</td>\n",
       "      <td>0</td>\n",
       "      <td>0</td>\n",
       "      <td>0</td>\n",
       "      <td>...</td>\n",
       "      <td>0</td>\n",
       "      <td>0</td>\n",
       "      <td>0</td>\n",
       "      <td>0</td>\n",
       "      <td>0</td>\n",
       "      <td>0</td>\n",
       "      <td>1</td>\n",
       "      <td>0</td>\n",
       "      <td>0</td>\n",
       "      <td>0</td>\n",
       "    </tr>\n",
       "    <tr>\n",
       "      <th>4</th>\n",
       "      <td>AA100009</td>\n",
       "      <td>1</td>\n",
       "      <td>1</td>\n",
       "      <td>1</td>\n",
       "      <td>1</td>\n",
       "      <td>1</td>\n",
       "      <td>1</td>\n",
       "      <td>1</td>\n",
       "      <td>1</td>\n",
       "      <td>1</td>\n",
       "      <td>...</td>\n",
       "      <td>0</td>\n",
       "      <td>0</td>\n",
       "      <td>0</td>\n",
       "      <td>0</td>\n",
       "      <td>0</td>\n",
       "      <td>0</td>\n",
       "      <td>0</td>\n",
       "      <td>0</td>\n",
       "      <td>0</td>\n",
       "      <td>0</td>\n",
       "    </tr>\n",
       "  </tbody>\n",
       "</table>\n",
       "<p>5 rows × 21 columns</p>\n",
       "</div>"
      ],
      "text/plain": [
       "       ncid  gen_16_voted  gen_12_voted  gen_18_voted  gen_14_voted  \\\n",
       "0  AA100000             1             0             0             0   \n",
       "1  AA100006             1             1             1             1   \n",
       "2  AA100007             1             1             1             1   \n",
       "3  AA100008             0             1             0             0   \n",
       "4  AA100009             1             1             1             1   \n",
       "\n",
       "   gen_10_voted  gen_16_rep  gen_12_rep  gen_18_rep  gen_14_rep  ...  \\\n",
       "0             0           0           0           0           0  ...   \n",
       "1             1           1           1           1           1  ...   \n",
       "2             1           0           0           0           0  ...   \n",
       "3             0           0           0           0           0  ...   \n",
       "4             1           1           1           1           1  ...   \n",
       "\n",
       "   gen_16_dem  gen_12_dem  gen_18_dem  gen_14_dem  gen_10_dem  gen_16_ind  \\\n",
       "0           0           0           0           0           0           1   \n",
       "1           0           0           0           0           0           0   \n",
       "2           0           0           0           0           0           1   \n",
       "3           0           0           0           0           0           0   \n",
       "4           0           0           0           0           0           0   \n",
       "\n",
       "   gen_12_ind  gen_18_ind  gen_14_ind  gen_10_ind  \n",
       "0           0           0           0           0  \n",
       "1           0           0           0           0  \n",
       "2           1           1           1           1  \n",
       "3           1           0           0           0  \n",
       "4           0           0           0           0  \n",
       "\n",
       "[5 rows x 21 columns]"
      ]
     },
     "execution_count": 27,
     "metadata": {},
     "output_type": "execute_result"
    }
   ],
   "source": [
    "df.head()"
   ]
  },
  {
   "cell_type": "code",
   "execution_count": 28,
   "metadata": {},
   "outputs": [],
   "source": [
    "df.to_csv('./data/agged_voters.csv')"
   ]
  },
  {
   "cell_type": "markdown",
   "metadata": {},
   "source": [
    "After performing our aggregation, we now have entries for 6,348,923 voters.  However, due to the way we pulled the data in (chunks), we may have two rows for certain voters, if their records were in two chunks.  We will perform a final aggregation to eliminate any potential duplicates."
   ]
  },
  {
   "cell_type": "code",
   "execution_count": 29,
   "metadata": {},
   "outputs": [
    {
     "data": {
      "text/plain": [
       "(6348923, 21)"
      ]
     },
     "execution_count": 29,
     "metadata": {},
     "output_type": "execute_result"
    }
   ],
   "source": [
    "df.shape"
   ]
  },
  {
   "cell_type": "code",
   "execution_count": 30,
   "metadata": {},
   "outputs": [],
   "source": [
    "df_elect_hist = df[['ncid', 'gen_16_voted', 'gen_12_voted', 'gen_18_voted', 'gen_14_voted', 'gen_10_voted',\n",
    "                            'gen_16_rep', 'gen_12_rep', 'gen_18_rep', 'gen_14_rep', 'gen_10_rep',\n",
    "                            'gen_16_dem', 'gen_12_dem', 'gen_18_dem', 'gen_14_dem', 'gen_10_dem',\n",
    "                            'gen_16_ind', 'gen_12_ind', 'gen_18_ind', 'gen_14_ind', 'gen_10_ind']].groupby(['ncid']).sum().reset_index()"
   ]
  },
  {
   "cell_type": "markdown",
   "metadata": {},
   "source": [
    "We now have slightly fewer voters, all unique. "
   ]
  },
  {
   "cell_type": "code",
   "execution_count": 31,
   "metadata": {
    "scrolled": true
   },
   "outputs": [
    {
     "data": {
      "text/plain": [
       "(6348629, 21)"
      ]
     },
     "execution_count": 31,
     "metadata": {},
     "output_type": "execute_result"
    }
   ],
   "source": [
    "df_elect_hist.shape"
   ]
  },
  {
   "cell_type": "code",
   "execution_count": 32,
   "metadata": {},
   "outputs": [],
   "source": [
    "df_elect_hist.to_csv('./data/agged_dedupe_voters.csv')"
   ]
  },
  {
   "cell_type": "code",
   "execution_count": 33,
   "metadata": {},
   "outputs": [
    {
     "data": {
      "text/html": [
       "<div>\n",
       "<style scoped>\n",
       "    .dataframe tbody tr th:only-of-type {\n",
       "        vertical-align: middle;\n",
       "    }\n",
       "\n",
       "    .dataframe tbody tr th {\n",
       "        vertical-align: top;\n",
       "    }\n",
       "\n",
       "    .dataframe thead th {\n",
       "        text-align: right;\n",
       "    }\n",
       "</style>\n",
       "<table border=\"1\" class=\"dataframe\">\n",
       "  <thead>\n",
       "    <tr style=\"text-align: right;\">\n",
       "      <th></th>\n",
       "      <th>ncid</th>\n",
       "      <th>gen_16_voted</th>\n",
       "      <th>gen_12_voted</th>\n",
       "      <th>gen_18_voted</th>\n",
       "      <th>gen_14_voted</th>\n",
       "      <th>gen_10_voted</th>\n",
       "      <th>gen_16_rep</th>\n",
       "      <th>gen_12_rep</th>\n",
       "      <th>gen_18_rep</th>\n",
       "      <th>gen_14_rep</th>\n",
       "      <th>...</th>\n",
       "      <th>gen_16_dem</th>\n",
       "      <th>gen_12_dem</th>\n",
       "      <th>gen_18_dem</th>\n",
       "      <th>gen_14_dem</th>\n",
       "      <th>gen_10_dem</th>\n",
       "      <th>gen_16_ind</th>\n",
       "      <th>gen_12_ind</th>\n",
       "      <th>gen_18_ind</th>\n",
       "      <th>gen_14_ind</th>\n",
       "      <th>gen_10_ind</th>\n",
       "    </tr>\n",
       "  </thead>\n",
       "  <tbody>\n",
       "    <tr>\n",
       "      <th>0</th>\n",
       "      <td>AA100000</td>\n",
       "      <td>1</td>\n",
       "      <td>0</td>\n",
       "      <td>0</td>\n",
       "      <td>0</td>\n",
       "      <td>0</td>\n",
       "      <td>0</td>\n",
       "      <td>0</td>\n",
       "      <td>0</td>\n",
       "      <td>0</td>\n",
       "      <td>...</td>\n",
       "      <td>0</td>\n",
       "      <td>0</td>\n",
       "      <td>0</td>\n",
       "      <td>0</td>\n",
       "      <td>0</td>\n",
       "      <td>1</td>\n",
       "      <td>0</td>\n",
       "      <td>0</td>\n",
       "      <td>0</td>\n",
       "      <td>0</td>\n",
       "    </tr>\n",
       "    <tr>\n",
       "      <th>1</th>\n",
       "      <td>AA100006</td>\n",
       "      <td>1</td>\n",
       "      <td>1</td>\n",
       "      <td>1</td>\n",
       "      <td>1</td>\n",
       "      <td>1</td>\n",
       "      <td>1</td>\n",
       "      <td>1</td>\n",
       "      <td>1</td>\n",
       "      <td>1</td>\n",
       "      <td>...</td>\n",
       "      <td>0</td>\n",
       "      <td>0</td>\n",
       "      <td>0</td>\n",
       "      <td>0</td>\n",
       "      <td>0</td>\n",
       "      <td>0</td>\n",
       "      <td>0</td>\n",
       "      <td>0</td>\n",
       "      <td>0</td>\n",
       "      <td>0</td>\n",
       "    </tr>\n",
       "    <tr>\n",
       "      <th>2</th>\n",
       "      <td>AA100007</td>\n",
       "      <td>1</td>\n",
       "      <td>1</td>\n",
       "      <td>1</td>\n",
       "      <td>1</td>\n",
       "      <td>1</td>\n",
       "      <td>0</td>\n",
       "      <td>0</td>\n",
       "      <td>0</td>\n",
       "      <td>0</td>\n",
       "      <td>...</td>\n",
       "      <td>0</td>\n",
       "      <td>0</td>\n",
       "      <td>0</td>\n",
       "      <td>0</td>\n",
       "      <td>0</td>\n",
       "      <td>1</td>\n",
       "      <td>1</td>\n",
       "      <td>1</td>\n",
       "      <td>1</td>\n",
       "      <td>1</td>\n",
       "    </tr>\n",
       "    <tr>\n",
       "      <th>3</th>\n",
       "      <td>AA100008</td>\n",
       "      <td>0</td>\n",
       "      <td>1</td>\n",
       "      <td>0</td>\n",
       "      <td>0</td>\n",
       "      <td>0</td>\n",
       "      <td>0</td>\n",
       "      <td>0</td>\n",
       "      <td>0</td>\n",
       "      <td>0</td>\n",
       "      <td>...</td>\n",
       "      <td>0</td>\n",
       "      <td>0</td>\n",
       "      <td>0</td>\n",
       "      <td>0</td>\n",
       "      <td>0</td>\n",
       "      <td>0</td>\n",
       "      <td>1</td>\n",
       "      <td>0</td>\n",
       "      <td>0</td>\n",
       "      <td>0</td>\n",
       "    </tr>\n",
       "    <tr>\n",
       "      <th>4</th>\n",
       "      <td>AA100009</td>\n",
       "      <td>1</td>\n",
       "      <td>1</td>\n",
       "      <td>1</td>\n",
       "      <td>1</td>\n",
       "      <td>1</td>\n",
       "      <td>1</td>\n",
       "      <td>1</td>\n",
       "      <td>1</td>\n",
       "      <td>1</td>\n",
       "      <td>...</td>\n",
       "      <td>0</td>\n",
       "      <td>0</td>\n",
       "      <td>0</td>\n",
       "      <td>0</td>\n",
       "      <td>0</td>\n",
       "      <td>0</td>\n",
       "      <td>0</td>\n",
       "      <td>0</td>\n",
       "      <td>0</td>\n",
       "      <td>0</td>\n",
       "    </tr>\n",
       "  </tbody>\n",
       "</table>\n",
       "<p>5 rows × 21 columns</p>\n",
       "</div>"
      ],
      "text/plain": [
       "       ncid  gen_16_voted  gen_12_voted  gen_18_voted  gen_14_voted  \\\n",
       "0  AA100000             1             0             0             0   \n",
       "1  AA100006             1             1             1             1   \n",
       "2  AA100007             1             1             1             1   \n",
       "3  AA100008             0             1             0             0   \n",
       "4  AA100009             1             1             1             1   \n",
       "\n",
       "   gen_10_voted  gen_16_rep  gen_12_rep  gen_18_rep  gen_14_rep  ...  \\\n",
       "0             0           0           0           0           0  ...   \n",
       "1             1           1           1           1           1  ...   \n",
       "2             1           0           0           0           0  ...   \n",
       "3             0           0           0           0           0  ...   \n",
       "4             1           1           1           1           1  ...   \n",
       "\n",
       "   gen_16_dem  gen_12_dem  gen_18_dem  gen_14_dem  gen_10_dem  gen_16_ind  \\\n",
       "0           0           0           0           0           0           1   \n",
       "1           0           0           0           0           0           0   \n",
       "2           0           0           0           0           0           1   \n",
       "3           0           0           0           0           0           0   \n",
       "4           0           0           0           0           0           0   \n",
       "\n",
       "   gen_12_ind  gen_18_ind  gen_14_ind  gen_10_ind  \n",
       "0           0           0           0           0  \n",
       "1           0           0           0           0  \n",
       "2           1           1           1           1  \n",
       "3           1           0           0           0  \n",
       "4           0           0           0           0  \n",
       "\n",
       "[5 rows x 21 columns]"
      ]
     },
     "execution_count": 33,
     "metadata": {},
     "output_type": "execute_result"
    }
   ],
   "source": [
    "df_elect_hist.head()"
   ]
  },
  {
   "cell_type": "code",
   "execution_count": 41,
   "metadata": {},
   "outputs": [],
   "source": [
    "df_elect_hist['ncid'] = df_elect_hist.index"
   ]
  },
  {
   "cell_type": "code",
   "execution_count": 2,
   "metadata": {},
   "outputs": [],
   "source": [
    "df_elect_hist = pd.read_csv('./data/agged_dedupe_voters.csv')"
   ]
  },
  {
   "cell_type": "code",
   "execution_count": 4,
   "metadata": {
    "scrolled": true
   },
   "outputs": [
    {
     "data": {
      "text/html": [
       "<div>\n",
       "<style scoped>\n",
       "    .dataframe tbody tr th:only-of-type {\n",
       "        vertical-align: middle;\n",
       "    }\n",
       "\n",
       "    .dataframe tbody tr th {\n",
       "        vertical-align: top;\n",
       "    }\n",
       "\n",
       "    .dataframe thead th {\n",
       "        text-align: right;\n",
       "    }\n",
       "</style>\n",
       "<table border=\"1\" class=\"dataframe\">\n",
       "  <thead>\n",
       "    <tr style=\"text-align: right;\">\n",
       "      <th></th>\n",
       "      <th>Unnamed: 0</th>\n",
       "      <th>ncid</th>\n",
       "      <th>gen_16_voted</th>\n",
       "      <th>gen_12_voted</th>\n",
       "      <th>gen_18_voted</th>\n",
       "      <th>gen_14_voted</th>\n",
       "      <th>gen_10_voted</th>\n",
       "      <th>gen_16_rep</th>\n",
       "      <th>gen_12_rep</th>\n",
       "      <th>gen_18_rep</th>\n",
       "      <th>...</th>\n",
       "      <th>gen_16_dem</th>\n",
       "      <th>gen_12_dem</th>\n",
       "      <th>gen_18_dem</th>\n",
       "      <th>gen_14_dem</th>\n",
       "      <th>gen_10_dem</th>\n",
       "      <th>gen_16_ind</th>\n",
       "      <th>gen_12_ind</th>\n",
       "      <th>gen_18_ind</th>\n",
       "      <th>gen_14_ind</th>\n",
       "      <th>gen_10_ind</th>\n",
       "    </tr>\n",
       "  </thead>\n",
       "  <tbody>\n",
       "    <tr>\n",
       "      <th>0</th>\n",
       "      <td>0</td>\n",
       "      <td>AA100000</td>\n",
       "      <td>1</td>\n",
       "      <td>0</td>\n",
       "      <td>0</td>\n",
       "      <td>0</td>\n",
       "      <td>0</td>\n",
       "      <td>0</td>\n",
       "      <td>0</td>\n",
       "      <td>0</td>\n",
       "      <td>...</td>\n",
       "      <td>0</td>\n",
       "      <td>0</td>\n",
       "      <td>0</td>\n",
       "      <td>0</td>\n",
       "      <td>0</td>\n",
       "      <td>1</td>\n",
       "      <td>0</td>\n",
       "      <td>0</td>\n",
       "      <td>0</td>\n",
       "      <td>0</td>\n",
       "    </tr>\n",
       "    <tr>\n",
       "      <th>1</th>\n",
       "      <td>1</td>\n",
       "      <td>AA100006</td>\n",
       "      <td>1</td>\n",
       "      <td>1</td>\n",
       "      <td>1</td>\n",
       "      <td>1</td>\n",
       "      <td>1</td>\n",
       "      <td>1</td>\n",
       "      <td>1</td>\n",
       "      <td>1</td>\n",
       "      <td>...</td>\n",
       "      <td>0</td>\n",
       "      <td>0</td>\n",
       "      <td>0</td>\n",
       "      <td>0</td>\n",
       "      <td>0</td>\n",
       "      <td>0</td>\n",
       "      <td>0</td>\n",
       "      <td>0</td>\n",
       "      <td>0</td>\n",
       "      <td>0</td>\n",
       "    </tr>\n",
       "    <tr>\n",
       "      <th>2</th>\n",
       "      <td>2</td>\n",
       "      <td>AA100007</td>\n",
       "      <td>1</td>\n",
       "      <td>1</td>\n",
       "      <td>1</td>\n",
       "      <td>1</td>\n",
       "      <td>1</td>\n",
       "      <td>0</td>\n",
       "      <td>0</td>\n",
       "      <td>0</td>\n",
       "      <td>...</td>\n",
       "      <td>0</td>\n",
       "      <td>0</td>\n",
       "      <td>0</td>\n",
       "      <td>0</td>\n",
       "      <td>0</td>\n",
       "      <td>1</td>\n",
       "      <td>1</td>\n",
       "      <td>1</td>\n",
       "      <td>1</td>\n",
       "      <td>1</td>\n",
       "    </tr>\n",
       "    <tr>\n",
       "      <th>3</th>\n",
       "      <td>3</td>\n",
       "      <td>AA100008</td>\n",
       "      <td>0</td>\n",
       "      <td>1</td>\n",
       "      <td>0</td>\n",
       "      <td>0</td>\n",
       "      <td>0</td>\n",
       "      <td>0</td>\n",
       "      <td>0</td>\n",
       "      <td>0</td>\n",
       "      <td>...</td>\n",
       "      <td>0</td>\n",
       "      <td>0</td>\n",
       "      <td>0</td>\n",
       "      <td>0</td>\n",
       "      <td>0</td>\n",
       "      <td>0</td>\n",
       "      <td>1</td>\n",
       "      <td>0</td>\n",
       "      <td>0</td>\n",
       "      <td>0</td>\n",
       "    </tr>\n",
       "    <tr>\n",
       "      <th>4</th>\n",
       "      <td>4</td>\n",
       "      <td>AA100009</td>\n",
       "      <td>1</td>\n",
       "      <td>1</td>\n",
       "      <td>1</td>\n",
       "      <td>1</td>\n",
       "      <td>1</td>\n",
       "      <td>1</td>\n",
       "      <td>1</td>\n",
       "      <td>1</td>\n",
       "      <td>...</td>\n",
       "      <td>0</td>\n",
       "      <td>0</td>\n",
       "      <td>0</td>\n",
       "      <td>0</td>\n",
       "      <td>0</td>\n",
       "      <td>0</td>\n",
       "      <td>0</td>\n",
       "      <td>0</td>\n",
       "      <td>0</td>\n",
       "      <td>0</td>\n",
       "    </tr>\n",
       "  </tbody>\n",
       "</table>\n",
       "<p>5 rows × 22 columns</p>\n",
       "</div>"
      ],
      "text/plain": [
       "   Unnamed: 0      ncid  gen_16_voted  gen_12_voted  gen_18_voted  \\\n",
       "0           0  AA100000             1             0             0   \n",
       "1           1  AA100006             1             1             1   \n",
       "2           2  AA100007             1             1             1   \n",
       "3           3  AA100008             0             1             0   \n",
       "4           4  AA100009             1             1             1   \n",
       "\n",
       "   gen_14_voted  gen_10_voted  gen_16_rep  gen_12_rep  gen_18_rep  ...  \\\n",
       "0             0             0           0           0           0  ...   \n",
       "1             1             1           1           1           1  ...   \n",
       "2             1             1           0           0           0  ...   \n",
       "3             0             0           0           0           0  ...   \n",
       "4             1             1           1           1           1  ...   \n",
       "\n",
       "   gen_16_dem  gen_12_dem  gen_18_dem  gen_14_dem  gen_10_dem  gen_16_ind  \\\n",
       "0           0           0           0           0           0           1   \n",
       "1           0           0           0           0           0           0   \n",
       "2           0           0           0           0           0           1   \n",
       "3           0           0           0           0           0           0   \n",
       "4           0           0           0           0           0           0   \n",
       "\n",
       "   gen_12_ind  gen_18_ind  gen_14_ind  gen_10_ind  \n",
       "0           0           0           0           0  \n",
       "1           0           0           0           0  \n",
       "2           1           1           1           1  \n",
       "3           1           0           0           0  \n",
       "4           0           0           0           0  \n",
       "\n",
       "[5 rows x 22 columns]"
      ]
     },
     "execution_count": 4,
     "metadata": {},
     "output_type": "execute_result"
    }
   ],
   "source": [
    "df_elect_hist.head()"
   ]
  },
  {
   "cell_type": "markdown",
   "metadata": {},
   "source": [
    "## Load Voter Demo File"
   ]
  },
  {
   "cell_type": "markdown",
   "metadata": {},
   "source": [
    "The next dataset we will pull in contains the voter ID and demographic information on all of the currently registered voters in North Carolina, from the BOE.  Because of the size of this dataset, we will pull it in as chunks, combining it all into one dataframe at the end."
   ]
  },
  {
   "cell_type": "code",
   "execution_count": 5,
   "metadata": {},
   "outputs": [],
   "source": [
    "import dask.dataframe as dd"
   ]
  },
  {
   "cell_type": "code",
   "execution_count": 3,
   "metadata": {},
   "outputs": [],
   "source": [
    "voter_cols = ['county_id', 'county_desc', 'voter_reg_num', 'status_cd',\n",
    "       'voter_status_desc', 'reason_cd', 'voter_status_reason_desc',\n",
    "       'absent_ind', 'name_prefx_cd', 'last_name', 'first_name', 'middle_name',\n",
    "       'name_suffix_lbl', 'res_street_address', 'res_city_desc', 'state_cd',\n",
    "       'zip_code', 'mail_addr1', 'mail_addr2', 'mail_addr3', 'mail_addr4',\n",
    "       'mail_city', 'mail_state', 'mail_zipcode', 'full_phone_number',\n",
    "       'race_code', 'ethnic_code', 'party_cd', 'gender_code', 'birth_age',\n",
    "       'birth_state', 'drivers_lic', 'registr_dt', 'precinct_abbrv',\n",
    "       'precinct_desc', 'municipality_abbrv', 'municipality_desc',\n",
    "       'ward_abbrv', 'ward_desc', 'cong_dist_abbrv', 'super_court_abbrv',\n",
    "       'judic_dist_abbrv', 'nc_senate_abbrv', 'nc_house_abbrv',\n",
    "       'county_commiss_abbrv', 'county_commiss_desc', 'township_abbrv',\n",
    "       'township_desc', 'school_dist_abbrv', 'school_dist_desc',\n",
    "       'fire_dist_abbrv', 'fire_dist_desc', 'water_dist_abbrv',\n",
    "       'water_dist_desc', 'sewer_dist_abbrv', 'sewer_dist_desc',\n",
    "       'sanit_dist_abbrv', 'sanit_dist_desc', 'rescue_dist_abbrv',\n",
    "       'rescue_dist_desc', 'munic_dist_abbrv', 'munic_dist_desc',\n",
    "       'dist_1_abbrv', 'dist_1_desc', 'dist_2_abbrv', 'dist_2_desc',\n",
    "       'confidential_ind', 'birth_year', 'ncid', 'vtd_abbrv', 'vtd_desc']"
   ]
  },
  {
   "cell_type": "code",
   "execution_count": 6,
   "metadata": {},
   "outputs": [
    {
     "name": "stdout",
     "output_type": "stream",
     "text": [
      "100000 iteration\n",
      "100000 total\n"
     ]
    },
    {
     "name": "stderr",
     "output_type": "stream",
     "text": [
      "C:\\Users\\phill\\Anaconda3\\lib\\site-packages\\IPython\\core\\interactiveshell.py:3020: DtypeWarning: Columns (33,35,40,41,44,45,47,48,49,60,69,70) have mixed types. Specify dtype option on import or set low_memory=False.\n",
      "  interactivity=interactivity, compiler=compiler, result=result)\n"
     ]
    },
    {
     "name": "stdout",
     "output_type": "stream",
     "text": [
      "100000 iteration\n",
      "200000 total\n"
     ]
    },
    {
     "name": "stderr",
     "output_type": "stream",
     "text": [
      "C:\\Users\\phill\\Anaconda3\\lib\\site-packages\\IPython\\core\\interactiveshell.py:3020: DtypeWarning: Columns (35,40,44,45,48,53,55,57,59,60,69,70) have mixed types. Specify dtype option on import or set low_memory=False.\n",
      "  interactivity=interactivity, compiler=compiler, result=result)\n"
     ]
    },
    {
     "name": "stdout",
     "output_type": "stream",
     "text": [
      "100000 iteration\n",
      "300000 total\n"
     ]
    },
    {
     "name": "stderr",
     "output_type": "stream",
     "text": [
      "C:\\Users\\phill\\Anaconda3\\lib\\site-packages\\IPython\\core\\interactiveshell.py:3020: DtypeWarning: Columns (33,34,35,40,44,48,52,53,55,57,59,60) have mixed types. Specify dtype option on import or set low_memory=False.\n",
      "  interactivity=interactivity, compiler=compiler, result=result)\n"
     ]
    },
    {
     "name": "stdout",
     "output_type": "stream",
     "text": [
      "100000 iteration\n",
      "400000 total\n",
      "100000 iteration\n",
      "500000 total\n"
     ]
    },
    {
     "name": "stderr",
     "output_type": "stream",
     "text": [
      "C:\\Users\\phill\\Anaconda3\\lib\\site-packages\\IPython\\core\\interactiveshell.py:3020: DtypeWarning: Columns (33,34,37,38,40) have mixed types. Specify dtype option on import or set low_memory=False.\n",
      "  interactivity=interactivity, compiler=compiler, result=result)\n"
     ]
    },
    {
     "name": "stdout",
     "output_type": "stream",
     "text": [
      "100000 iteration\n",
      "600000 total\n"
     ]
    },
    {
     "name": "stderr",
     "output_type": "stream",
     "text": [
      "C:\\Users\\phill\\Anaconda3\\lib\\site-packages\\IPython\\core\\interactiveshell.py:3020: DtypeWarning: Columns (35,37,38,41,48,49,51,60,69,70) have mixed types. Specify dtype option on import or set low_memory=False.\n",
      "  interactivity=interactivity, compiler=compiler, result=result)\n"
     ]
    },
    {
     "name": "stdout",
     "output_type": "stream",
     "text": [
      "100000 iteration\n",
      "700000 total\n",
      "100000 iteration\n",
      "800000 total\n"
     ]
    },
    {
     "name": "stderr",
     "output_type": "stream",
     "text": [
      "C:\\Users\\phill\\Anaconda3\\lib\\site-packages\\IPython\\core\\interactiveshell.py:3020: DtypeWarning: Columns (37,38,41,44,45,48,49,56,57) have mixed types. Specify dtype option on import or set low_memory=False.\n",
      "  interactivity=interactivity, compiler=compiler, result=result)\n"
     ]
    },
    {
     "name": "stdout",
     "output_type": "stream",
     "text": [
      "100000 iteration\n",
      "900000 total\n"
     ]
    },
    {
     "name": "stderr",
     "output_type": "stream",
     "text": [
      "C:\\Users\\phill\\Anaconda3\\lib\\site-packages\\IPython\\core\\interactiveshell.py:3020: DtypeWarning: Columns (33,35,37,38,41,44,45,47,51,56,57,60,69,70) have mixed types. Specify dtype option on import or set low_memory=False.\n",
      "  interactivity=interactivity, compiler=compiler, result=result)\n"
     ]
    },
    {
     "name": "stdout",
     "output_type": "stream",
     "text": [
      "100000 iteration\n",
      "1000000 total\n"
     ]
    },
    {
     "name": "stderr",
     "output_type": "stream",
     "text": [
      "C:\\Users\\phill\\Anaconda3\\lib\\site-packages\\IPython\\core\\interactiveshell.py:3020: DtypeWarning: Columns (24,33,35,41,45,47,48,51,57,60,69,70) have mixed types. Specify dtype option on import or set low_memory=False.\n",
      "  interactivity=interactivity, compiler=compiler, result=result)\n"
     ]
    },
    {
     "name": "stdout",
     "output_type": "stream",
     "text": [
      "100000 iteration\n",
      "1100000 total\n"
     ]
    },
    {
     "name": "stderr",
     "output_type": "stream",
     "text": [
      "C:\\Users\\phill\\Anaconda3\\lib\\site-packages\\IPython\\core\\interactiveshell.py:3020: DtypeWarning: Columns (24,33,37,38,40,41,45,49,52,53,57,69,70) have mixed types. Specify dtype option on import or set low_memory=False.\n",
      "  interactivity=interactivity, compiler=compiler, result=result)\n"
     ]
    },
    {
     "name": "stdout",
     "output_type": "stream",
     "text": [
      "100000 iteration\n",
      "1200000 total\n"
     ]
    },
    {
     "name": "stderr",
     "output_type": "stream",
     "text": [
      "C:\\Users\\phill\\Anaconda3\\lib\\site-packages\\IPython\\core\\interactiveshell.py:3020: DtypeWarning: Columns (37,41,44,45,48,49,50,51,52,53,56,57,58,59) have mixed types. Specify dtype option on import or set low_memory=False.\n",
      "  interactivity=interactivity, compiler=compiler, result=result)\n"
     ]
    },
    {
     "name": "stdout",
     "output_type": "stream",
     "text": [
      "100000 iteration\n",
      "1300000 total\n"
     ]
    },
    {
     "name": "stderr",
     "output_type": "stream",
     "text": [
      "C:\\Users\\phill\\Anaconda3\\lib\\site-packages\\IPython\\core\\interactiveshell.py:3020: DtypeWarning: Columns (37,41,44,48,52,53) have mixed types. Specify dtype option on import or set low_memory=False.\n",
      "  interactivity=interactivity, compiler=compiler, result=result)\n"
     ]
    },
    {
     "name": "stdout",
     "output_type": "stream",
     "text": [
      "100000 iteration\n",
      "1400000 total\n",
      "100000 iteration\n",
      "1500000 total\n"
     ]
    },
    {
     "name": "stderr",
     "output_type": "stream",
     "text": [
      "C:\\Users\\phill\\Anaconda3\\lib\\site-packages\\IPython\\core\\interactiveshell.py:3020: DtypeWarning: Columns (35,36,37,38,40,44,45,46,47,48,49,52,53,56,57,60,61) have mixed types. Specify dtype option on import or set low_memory=False.\n",
      "  interactivity=interactivity, compiler=compiler, result=result)\n"
     ]
    },
    {
     "name": "stdout",
     "output_type": "stream",
     "text": [
      "100000 iteration\n",
      "1600000 total\n"
     ]
    },
    {
     "name": "stderr",
     "output_type": "stream",
     "text": [
      "C:\\Users\\phill\\Anaconda3\\lib\\site-packages\\IPython\\core\\interactiveshell.py:3020: DtypeWarning: Columns (37,38,40,41,44,45,46,47,56,57,69,70) have mixed types. Specify dtype option on import or set low_memory=False.\n",
      "  interactivity=interactivity, compiler=compiler, result=result)\n"
     ]
    },
    {
     "name": "stdout",
     "output_type": "stream",
     "text": [
      "100000 iteration\n",
      "1700000 total\n"
     ]
    },
    {
     "name": "stderr",
     "output_type": "stream",
     "text": [
      "C:\\Users\\phill\\Anaconda3\\lib\\site-packages\\IPython\\core\\interactiveshell.py:3020: DtypeWarning: Columns (33,35,37,38,40,41,44,45,46,47,48,49,50,51,56,57,60,69,70) have mixed types. Specify dtype option on import or set low_memory=False.\n",
      "  interactivity=interactivity, compiler=compiler, result=result)\n"
     ]
    },
    {
     "name": "stdout",
     "output_type": "stream",
     "text": [
      "100000 iteration\n",
      "1800000 total\n"
     ]
    },
    {
     "name": "stderr",
     "output_type": "stream",
     "text": [
      "C:\\Users\\phill\\Anaconda3\\lib\\site-packages\\IPython\\core\\interactiveshell.py:3020: DtypeWarning: Columns (24,44,45,46,47,50,51) have mixed types. Specify dtype option on import or set low_memory=False.\n",
      "  interactivity=interactivity, compiler=compiler, result=result)\n"
     ]
    },
    {
     "name": "stdout",
     "output_type": "stream",
     "text": [
      "100000 iteration\n",
      "1900000 total\n",
      "100000 iteration\n",
      "2000000 total\n"
     ]
    },
    {
     "name": "stderr",
     "output_type": "stream",
     "text": [
      "C:\\Users\\phill\\Anaconda3\\lib\\site-packages\\IPython\\core\\interactiveshell.py:3020: DtypeWarning: Columns (24,33,34,44,45,48,50,51,52,53,69,70) have mixed types. Specify dtype option on import or set low_memory=False.\n",
      "  interactivity=interactivity, compiler=compiler, result=result)\n"
     ]
    },
    {
     "name": "stdout",
     "output_type": "stream",
     "text": [
      "100000 iteration\n",
      "2100000 total\n"
     ]
    },
    {
     "name": "stderr",
     "output_type": "stream",
     "text": [
      "C:\\Users\\phill\\Anaconda3\\lib\\site-packages\\IPython\\core\\interactiveshell.py:3020: DtypeWarning: Columns (24) have mixed types. Specify dtype option on import or set low_memory=False.\n",
      "  interactivity=interactivity, compiler=compiler, result=result)\n"
     ]
    },
    {
     "name": "stdout",
     "output_type": "stream",
     "text": [
      "100000 iteration\n",
      "2200000 total\n",
      "100000 iteration\n",
      "2300000 total\n"
     ]
    },
    {
     "name": "stderr",
     "output_type": "stream",
     "text": [
      "C:\\Users\\phill\\Anaconda3\\lib\\site-packages\\IPython\\core\\interactiveshell.py:3020: DtypeWarning: Columns (24,34,37,38,40,48) have mixed types. Specify dtype option on import or set low_memory=False.\n",
      "  interactivity=interactivity, compiler=compiler, result=result)\n"
     ]
    },
    {
     "name": "stdout",
     "output_type": "stream",
     "text": [
      "100000 iteration\n",
      "2400000 total\n"
     ]
    },
    {
     "name": "stderr",
     "output_type": "stream",
     "text": [
      "C:\\Users\\phill\\Anaconda3\\lib\\site-packages\\IPython\\core\\interactiveshell.py:3020: DtypeWarning: Columns (37,38,40,41,44,45,46,47) have mixed types. Specify dtype option on import or set low_memory=False.\n",
      "  interactivity=interactivity, compiler=compiler, result=result)\n"
     ]
    },
    {
     "name": "stdout",
     "output_type": "stream",
     "text": [
      "100000 iteration\n",
      "2500000 total\n"
     ]
    },
    {
     "name": "stderr",
     "output_type": "stream",
     "text": [
      "C:\\Users\\phill\\Anaconda3\\lib\\site-packages\\IPython\\core\\interactiveshell.py:3020: DtypeWarning: Columns (33,37,38,40,41,44,45,46,47,48,49,69,70) have mixed types. Specify dtype option on import or set low_memory=False.\n",
      "  interactivity=interactivity, compiler=compiler, result=result)\n"
     ]
    },
    {
     "name": "stdout",
     "output_type": "stream",
     "text": [
      "100000 iteration\n",
      "2600000 total\n"
     ]
    },
    {
     "name": "stderr",
     "output_type": "stream",
     "text": [
      "C:\\Users\\phill\\Anaconda3\\lib\\site-packages\\IPython\\core\\interactiveshell.py:3020: DtypeWarning: Columns (24,37,38,40,46,48,50,51,56,57,58) have mixed types. Specify dtype option on import or set low_memory=False.\n",
      "  interactivity=interactivity, compiler=compiler, result=result)\n"
     ]
    },
    {
     "name": "stdout",
     "output_type": "stream",
     "text": [
      "100000 iteration\n",
      "2700000 total\n",
      "100000 iteration\n",
      "2800000 total\n",
      "100000 iteration\n",
      "2900000 total\n",
      "100000 iteration\n",
      "3000000 total\n"
     ]
    },
    {
     "name": "stderr",
     "output_type": "stream",
     "text": [
      "C:\\Users\\phill\\Anaconda3\\lib\\site-packages\\IPython\\core\\interactiveshell.py:3020: DtypeWarning: Columns (46,47,48,50,51,56,57,58) have mixed types. Specify dtype option on import or set low_memory=False.\n",
      "  interactivity=interactivity, compiler=compiler, result=result)\n"
     ]
    },
    {
     "name": "stdout",
     "output_type": "stream",
     "text": [
      "100000 iteration\n",
      "3100000 total\n"
     ]
    },
    {
     "name": "stderr",
     "output_type": "stream",
     "text": [
      "C:\\Users\\phill\\Anaconda3\\lib\\site-packages\\IPython\\core\\interactiveshell.py:3020: DtypeWarning: Columns (24,37,38,44,45,46,47,56,57) have mixed types. Specify dtype option on import or set low_memory=False.\n",
      "  interactivity=interactivity, compiler=compiler, result=result)\n"
     ]
    },
    {
     "name": "stdout",
     "output_type": "stream",
     "text": [
      "100000 iteration\n",
      "3200000 total\n"
     ]
    },
    {
     "name": "stderr",
     "output_type": "stream",
     "text": [
      "C:\\Users\\phill\\Anaconda3\\lib\\site-packages\\IPython\\core\\interactiveshell.py:3020: DtypeWarning: Columns (37,38,41,45,48,49,55,56,57) have mixed types. Specify dtype option on import or set low_memory=False.\n",
      "  interactivity=interactivity, compiler=compiler, result=result)\n"
     ]
    },
    {
     "name": "stdout",
     "output_type": "stream",
     "text": [
      "100000 iteration\n",
      "3300000 total\n"
     ]
    },
    {
     "name": "stderr",
     "output_type": "stream",
     "text": [
      "C:\\Users\\phill\\Anaconda3\\lib\\site-packages\\IPython\\core\\interactiveshell.py:3020: DtypeWarning: Columns (37,38,41,44,45,46,47,48,49,50,51,55,56,57,69,70) have mixed types. Specify dtype option on import or set low_memory=False.\n",
      "  interactivity=interactivity, compiler=compiler, result=result)\n"
     ]
    },
    {
     "name": "stdout",
     "output_type": "stream",
     "text": [
      "100000 iteration\n",
      "3400000 total\n"
     ]
    },
    {
     "name": "stderr",
     "output_type": "stream",
     "text": [
      "C:\\Users\\phill\\Anaconda3\\lib\\site-packages\\IPython\\core\\interactiveshell.py:3020: DtypeWarning: Columns (37,38,41,44,45,50,51,56,57) have mixed types. Specify dtype option on import or set low_memory=False.\n",
      "  interactivity=interactivity, compiler=compiler, result=result)\n"
     ]
    },
    {
     "name": "stdout",
     "output_type": "stream",
     "text": [
      "100000 iteration\n",
      "3500000 total\n"
     ]
    },
    {
     "name": "stderr",
     "output_type": "stream",
     "text": [
      "C:\\Users\\phill\\Anaconda3\\lib\\site-packages\\IPython\\core\\interactiveshell.py:3020: DtypeWarning: Columns (46,47,48,49) have mixed types. Specify dtype option on import or set low_memory=False.\n",
      "  interactivity=interactivity, compiler=compiler, result=result)\n"
     ]
    },
    {
     "name": "stdout",
     "output_type": "stream",
     "text": [
      "100000 iteration\n",
      "3600000 total\n"
     ]
    },
    {
     "name": "stderr",
     "output_type": "stream",
     "text": [
      "C:\\Users\\phill\\Anaconda3\\lib\\site-packages\\IPython\\core\\interactiveshell.py:3020: DtypeWarning: Columns (35,37,38,44,47,48,49,50,51,52,53,56,57,60) have mixed types. Specify dtype option on import or set low_memory=False.\n",
      "  interactivity=interactivity, compiler=compiler, result=result)\n"
     ]
    },
    {
     "name": "stdout",
     "output_type": "stream",
     "text": [
      "100000 iteration\n",
      "3700000 total\n"
     ]
    },
    {
     "name": "stderr",
     "output_type": "stream",
     "text": [
      "C:\\Users\\phill\\Anaconda3\\lib\\site-packages\\IPython\\core\\interactiveshell.py:3020: DtypeWarning: Columns (33,35,37,38,41,44,45,46,47,48,49,50,51,52,53,54,55,60,69,70) have mixed types. Specify dtype option on import or set low_memory=False.\n",
      "  interactivity=interactivity, compiler=compiler, result=result)\n"
     ]
    },
    {
     "name": "stdout",
     "output_type": "stream",
     "text": [
      "100000 iteration\n",
      "3800000 total\n"
     ]
    },
    {
     "name": "stderr",
     "output_type": "stream",
     "text": [
      "C:\\Users\\phill\\Anaconda3\\lib\\site-packages\\IPython\\core\\interactiveshell.py:3020: DtypeWarning: Columns (33,35,38,40,41,44,45,48,49,50,51,60,69,70) have mixed types. Specify dtype option on import or set low_memory=False.\n",
      "  interactivity=interactivity, compiler=compiler, result=result)\n"
     ]
    },
    {
     "name": "stdout",
     "output_type": "stream",
     "text": [
      "100000 iteration\n",
      "3900000 total\n",
      "100000 iteration\n",
      "4000000 total\n",
      "100000 iteration\n",
      "4100000 total\n",
      "100000 iteration\n",
      "4200000 total\n",
      "100000 iteration\n",
      "4300000 total\n",
      "100000 iteration\n",
      "4400000 total\n",
      "100000 iteration\n",
      "4500000 total\n",
      "100000 iteration\n",
      "4600000 total\n"
     ]
    },
    {
     "name": "stderr",
     "output_type": "stream",
     "text": [
      "C:\\Users\\phill\\Anaconda3\\lib\\site-packages\\IPython\\core\\interactiveshell.py:3020: DtypeWarning: Columns (24,33,35,38,40,41,44,45,48,49,50,51,56,57,60,69,70) have mixed types. Specify dtype option on import or set low_memory=False.\n",
      "  interactivity=interactivity, compiler=compiler, result=result)\n"
     ]
    },
    {
     "name": "stdout",
     "output_type": "stream",
     "text": [
      "100000 iteration\n",
      "4700000 total\n"
     ]
    },
    {
     "name": "stderr",
     "output_type": "stream",
     "text": [
      "C:\\Users\\phill\\Anaconda3\\lib\\site-packages\\IPython\\core\\interactiveshell.py:3020: DtypeWarning: Columns (35,38,41,44,47,48,50,51,56,57,60,69,70) have mixed types. Specify dtype option on import or set low_memory=False.\n",
      "  interactivity=interactivity, compiler=compiler, result=result)\n"
     ]
    },
    {
     "name": "stdout",
     "output_type": "stream",
     "text": [
      "100000 iteration\n",
      "4800000 total\n"
     ]
    },
    {
     "name": "stderr",
     "output_type": "stream",
     "text": [
      "C:\\Users\\phill\\Anaconda3\\lib\\site-packages\\IPython\\core\\interactiveshell.py:3020: DtypeWarning: Columns (24,35,38,45,49,60,69,70) have mixed types. Specify dtype option on import or set low_memory=False.\n",
      "  interactivity=interactivity, compiler=compiler, result=result)\n"
     ]
    },
    {
     "name": "stdout",
     "output_type": "stream",
     "text": [
      "100000 iteration\n",
      "4900000 total\n",
      "100000 iteration\n",
      "5000000 total\n"
     ]
    },
    {
     "name": "stderr",
     "output_type": "stream",
     "text": [
      "C:\\Users\\phill\\Anaconda3\\lib\\site-packages\\IPython\\core\\interactiveshell.py:3020: DtypeWarning: Columns (24,35,37,38,40,45,46,47,54,55,56,57,60) have mixed types. Specify dtype option on import or set low_memory=False.\n",
      "  interactivity=interactivity, compiler=compiler, result=result)\n"
     ]
    },
    {
     "name": "stdout",
     "output_type": "stream",
     "text": [
      "100000 iteration\n",
      "5100000 total\n"
     ]
    },
    {
     "name": "stderr",
     "output_type": "stream",
     "text": [
      "C:\\Users\\phill\\Anaconda3\\lib\\site-packages\\IPython\\core\\interactiveshell.py:3020: DtypeWarning: Columns (37,38,40,41,44,45,46,47,48,49) have mixed types. Specify dtype option on import or set low_memory=False.\n",
      "  interactivity=interactivity, compiler=compiler, result=result)\n"
     ]
    },
    {
     "name": "stdout",
     "output_type": "stream",
     "text": [
      "100000 iteration\n",
      "5200000 total\n"
     ]
    },
    {
     "name": "stderr",
     "output_type": "stream",
     "text": [
      "C:\\Users\\phill\\Anaconda3\\lib\\site-packages\\IPython\\core\\interactiveshell.py:3020: DtypeWarning: Columns (46,47,51) have mixed types. Specify dtype option on import or set low_memory=False.\n",
      "  interactivity=interactivity, compiler=compiler, result=result)\n"
     ]
    },
    {
     "name": "stdout",
     "output_type": "stream",
     "text": [
      "100000 iteration\n",
      "5300000 total\n"
     ]
    },
    {
     "name": "stderr",
     "output_type": "stream",
     "text": [
      "C:\\Users\\phill\\Anaconda3\\lib\\site-packages\\IPython\\core\\interactiveshell.py:3020: DtypeWarning: Columns (37,38,40,41,44,45,48,49,51,52,53,56,57) have mixed types. Specify dtype option on import or set low_memory=False.\n",
      "  interactivity=interactivity, compiler=compiler, result=result)\n"
     ]
    },
    {
     "name": "stdout",
     "output_type": "stream",
     "text": [
      "100000 iteration\n",
      "5400000 total\n"
     ]
    },
    {
     "name": "stderr",
     "output_type": "stream",
     "text": [
      "C:\\Users\\phill\\Anaconda3\\lib\\site-packages\\IPython\\core\\interactiveshell.py:3020: DtypeWarning: Columns (38,40,41,44,45,49,56,57) have mixed types. Specify dtype option on import or set low_memory=False.\n",
      "  interactivity=interactivity, compiler=compiler, result=result)\n"
     ]
    },
    {
     "name": "stdout",
     "output_type": "stream",
     "text": [
      "100000 iteration\n",
      "5500000 total\n"
     ]
    },
    {
     "name": "stderr",
     "output_type": "stream",
     "text": [
      "C:\\Users\\phill\\Anaconda3\\lib\\site-packages\\IPython\\core\\interactiveshell.py:3020: DtypeWarning: Columns (35,37,38,44,45,49,56,57,60,69,70) have mixed types. Specify dtype option on import or set low_memory=False.\n",
      "  interactivity=interactivity, compiler=compiler, result=result)\n"
     ]
    },
    {
     "name": "stdout",
     "output_type": "stream",
     "text": [
      "100000 iteration\n",
      "5600000 total\n"
     ]
    },
    {
     "name": "stderr",
     "output_type": "stream",
     "text": [
      "C:\\Users\\phill\\Anaconda3\\lib\\site-packages\\IPython\\core\\interactiveshell.py:3020: DtypeWarning: Columns (33,35,37,38,44,45,47,49,51,60,69,70) have mixed types. Specify dtype option on import or set low_memory=False.\n",
      "  interactivity=interactivity, compiler=compiler, result=result)\n"
     ]
    },
    {
     "name": "stdout",
     "output_type": "stream",
     "text": [
      "100000 iteration\n",
      "5700000 total\n"
     ]
    },
    {
     "name": "stderr",
     "output_type": "stream",
     "text": [
      "C:\\Users\\phill\\Anaconda3\\lib\\site-packages\\IPython\\core\\interactiveshell.py:3020: DtypeWarning: Columns (44,45,48,50) have mixed types. Specify dtype option on import or set low_memory=False.\n",
      "  interactivity=interactivity, compiler=compiler, result=result)\n"
     ]
    },
    {
     "name": "stdout",
     "output_type": "stream",
     "text": [
      "100000 iteration\n",
      "5800000 total\n"
     ]
    },
    {
     "name": "stderr",
     "output_type": "stream",
     "text": [
      "C:\\Users\\phill\\Anaconda3\\lib\\site-packages\\IPython\\core\\interactiveshell.py:3020: DtypeWarning: Columns (37,38,50,69,70) have mixed types. Specify dtype option on import or set low_memory=False.\n",
      "  interactivity=interactivity, compiler=compiler, result=result)\n"
     ]
    },
    {
     "name": "stdout",
     "output_type": "stream",
     "text": [
      "100000 iteration\n",
      "5900000 total\n"
     ]
    },
    {
     "name": "stderr",
     "output_type": "stream",
     "text": [
      "C:\\Users\\phill\\Anaconda3\\lib\\site-packages\\IPython\\core\\interactiveshell.py:3020: DtypeWarning: Columns (35,37,38,40,41,44,45,48,51,57,60,69,70) have mixed types. Specify dtype option on import or set low_memory=False.\n",
      "  interactivity=interactivity, compiler=compiler, result=result)\n"
     ]
    },
    {
     "name": "stdout",
     "output_type": "stream",
     "text": [
      "100000 iteration\n",
      "6000000 total\n"
     ]
    },
    {
     "name": "stderr",
     "output_type": "stream",
     "text": [
      "C:\\Users\\phill\\Anaconda3\\lib\\site-packages\\IPython\\core\\interactiveshell.py:3020: DtypeWarning: Columns (33,34,35,37,38,40,41,44,45,46,47,48,49,60,69,70) have mixed types. Specify dtype option on import or set low_memory=False.\n",
      "  interactivity=interactivity, compiler=compiler, result=result)\n"
     ]
    },
    {
     "name": "stdout",
     "output_type": "stream",
     "text": [
      "100000 iteration\n",
      "6100000 total\n"
     ]
    },
    {
     "name": "stderr",
     "output_type": "stream",
     "text": [
      "C:\\Users\\phill\\Anaconda3\\lib\\site-packages\\IPython\\core\\interactiveshell.py:3020: DtypeWarning: Columns (33,35,37,38,44,45,47,48,49,56,57,60,69,70) have mixed types. Specify dtype option on import or set low_memory=False.\n",
      "  interactivity=interactivity, compiler=compiler, result=result)\n"
     ]
    },
    {
     "name": "stdout",
     "output_type": "stream",
     "text": [
      "100000 iteration\n",
      "6200000 total\n"
     ]
    },
    {
     "name": "stderr",
     "output_type": "stream",
     "text": [
      "C:\\Users\\phill\\Anaconda3\\lib\\site-packages\\IPython\\core\\interactiveshell.py:3020: DtypeWarning: Columns (35,47,49,60) have mixed types. Specify dtype option on import or set low_memory=False.\n",
      "  interactivity=interactivity, compiler=compiler, result=result)\n"
     ]
    },
    {
     "name": "stdout",
     "output_type": "stream",
     "text": [
      "100000 iteration\n",
      "6300000 total\n"
     ]
    },
    {
     "name": "stderr",
     "output_type": "stream",
     "text": [
      "C:\\Users\\phill\\Anaconda3\\lib\\site-packages\\IPython\\core\\interactiveshell.py:3020: DtypeWarning: Columns (24,35,37,38,40,44,45,48,52,53,60) have mixed types. Specify dtype option on import or set low_memory=False.\n",
      "  interactivity=interactivity, compiler=compiler, result=result)\n"
     ]
    },
    {
     "name": "stdout",
     "output_type": "stream",
     "text": [
      "100000 iteration\n",
      "6400000 total\n"
     ]
    },
    {
     "name": "stderr",
     "output_type": "stream",
     "text": [
      "C:\\Users\\phill\\Anaconda3\\lib\\site-packages\\IPython\\core\\interactiveshell.py:3020: DtypeWarning: Columns (24,40,44,48,52,53) have mixed types. Specify dtype option on import or set low_memory=False.\n",
      "  interactivity=interactivity, compiler=compiler, result=result)\n"
     ]
    },
    {
     "name": "stdout",
     "output_type": "stream",
     "text": [
      "100000 iteration\n",
      "6500000 total\n",
      "100000 iteration\n",
      "6600000 total\n",
      "100000 iteration\n",
      "6700000 total\n",
      "100000 iteration\n",
      "6800000 total\n",
      "100000 iteration\n",
      "6900000 total\n",
      "100000 iteration\n",
      "7000000 total\n",
      "100000 iteration\n",
      "7100000 total\n",
      "100000 iteration\n",
      "7200000 total\n"
     ]
    },
    {
     "name": "stderr",
     "output_type": "stream",
     "text": [
      "C:\\Users\\phill\\Anaconda3\\lib\\site-packages\\IPython\\core\\interactiveshell.py:3020: DtypeWarning: Columns (24,33,34,37,38,40,41,44,46,47,48,49,50,51,56,57,69,70) have mixed types. Specify dtype option on import or set low_memory=False.\n",
      "  interactivity=interactivity, compiler=compiler, result=result)\n"
     ]
    },
    {
     "name": "stdout",
     "output_type": "stream",
     "text": [
      "100000 iteration\n",
      "7300000 total\n"
     ]
    },
    {
     "name": "stderr",
     "output_type": "stream",
     "text": [
      "C:\\Users\\phill\\Anaconda3\\lib\\site-packages\\IPython\\core\\interactiveshell.py:3020: DtypeWarning: Columns (24,33,34,35,37,38,40,45,46,47,49,56,57,60,69,70) have mixed types. Specify dtype option on import or set low_memory=False.\n",
      "  interactivity=interactivity, compiler=compiler, result=result)\n"
     ]
    },
    {
     "name": "stdout",
     "output_type": "stream",
     "text": [
      "100000 iteration\n",
      "7400000 total\n"
     ]
    },
    {
     "name": "stderr",
     "output_type": "stream",
     "text": [
      "C:\\Users\\phill\\Anaconda3\\lib\\site-packages\\IPython\\core\\interactiveshell.py:3020: DtypeWarning: Columns (35,37,38,40,44,45,48,49,53,60) have mixed types. Specify dtype option on import or set low_memory=False.\n",
      "  interactivity=interactivity, compiler=compiler, result=result)\n"
     ]
    },
    {
     "name": "stdout",
     "output_type": "stream",
     "text": [
      "100000 iteration\n",
      "7500000 total\n",
      "15802 iteration\n",
      "7515802 total\n"
     ]
    }
   ],
   "source": [
    "chunksize = 100_000#5 #10 ** 6\n",
    "total_demo = []\n",
    "for chunk in pd.read_csv('./data/nc_boe_data/ncvoter_Statewide.txt', delimiter = '\\t', encoding = \"ISO-8859-1\", chunksize=chunksize):\n",
    "#for chunk in pd.read_csv('ncvhis1/ncvhis1.txt', delimiter = '\\t', encoding = \"ISO-8859-1\", chunksize=chunksize):\n",
    "    df_voters = chunk[voter_cols]\n",
    "    df_voters = df_voters[['ncid', 'birth_year', 'nc_house_abbrv', 'nc_senate_abbrv', 'birth_age',\n",
    "                          'race_code' ,'ethnic_code', 'registr_dt', 'party_cd', 'cong_dist_abbrv']]\n",
    "    \n",
    "    df_voters = df_voters.values.tolist()\n",
    "    print(len(df_voters), 'iteration')\n",
    "    total_demo += df_voters\n",
    "    print(len(total_demo), 'total')"
   ]
  },
  {
   "cell_type": "code",
   "execution_count": 8,
   "metadata": {},
   "outputs": [],
   "source": [
    "cols = ['ncid', 'birth_year', 'nc_house_abbrv', 'nc_senate_abbrv', 'birth_age',\n",
    "                          'race_code' ,'ethnic_code', 'registr_dt', 'party_cd', 'cong_dist_abbrv']\n",
    "\n",
    "df_voters = pd.DataFrame(total_demo, columns = cols)"
   ]
  },
  {
   "cell_type": "code",
   "execution_count": 9,
   "metadata": {},
   "outputs": [
    {
     "data": {
      "text/html": [
       "<div>\n",
       "<style scoped>\n",
       "    .dataframe tbody tr th:only-of-type {\n",
       "        vertical-align: middle;\n",
       "    }\n",
       "\n",
       "    .dataframe tbody tr th {\n",
       "        vertical-align: top;\n",
       "    }\n",
       "\n",
       "    .dataframe thead th {\n",
       "        text-align: right;\n",
       "    }\n",
       "</style>\n",
       "<table border=\"1\" class=\"dataframe\">\n",
       "  <thead>\n",
       "    <tr style=\"text-align: right;\">\n",
       "      <th></th>\n",
       "      <th>ncid</th>\n",
       "      <th>birth_year</th>\n",
       "      <th>nc_house_abbrv</th>\n",
       "      <th>nc_senate_abbrv</th>\n",
       "      <th>birth_age</th>\n",
       "      <th>race_code</th>\n",
       "      <th>ethnic_code</th>\n",
       "      <th>registr_dt</th>\n",
       "      <th>party_cd</th>\n",
       "      <th>cong_dist_abbrv</th>\n",
       "    </tr>\n",
       "  </thead>\n",
       "  <tbody>\n",
       "    <tr>\n",
       "      <th>0</th>\n",
       "      <td>AA56273</td>\n",
       "      <td>1935</td>\n",
       "      <td>64.0</td>\n",
       "      <td>24.0</td>\n",
       "      <td>83</td>\n",
       "      <td>W</td>\n",
       "      <td>NL</td>\n",
       "      <td>10/01/1984</td>\n",
       "      <td>UNA</td>\n",
       "      <td>6.0</td>\n",
       "    </tr>\n",
       "    <tr>\n",
       "      <th>1</th>\n",
       "      <td>AA201627</td>\n",
       "      <td>1978</td>\n",
       "      <td>63.0</td>\n",
       "      <td>24.0</td>\n",
       "      <td>40</td>\n",
       "      <td>W</td>\n",
       "      <td>UN</td>\n",
       "      <td>02/23/2018</td>\n",
       "      <td>UNA</td>\n",
       "      <td>6.0</td>\n",
       "    </tr>\n",
       "    <tr>\n",
       "      <th>2</th>\n",
       "      <td>AA98377</td>\n",
       "      <td>1976</td>\n",
       "      <td>64.0</td>\n",
       "      <td>24.0</td>\n",
       "      <td>42</td>\n",
       "      <td>W</td>\n",
       "      <td>UN</td>\n",
       "      <td>03/26/1996</td>\n",
       "      <td>UNA</td>\n",
       "      <td>6.0</td>\n",
       "    </tr>\n",
       "    <tr>\n",
       "      <th>3</th>\n",
       "      <td>AA69747</td>\n",
       "      <td>1945</td>\n",
       "      <td>63.0</td>\n",
       "      <td>24.0</td>\n",
       "      <td>74</td>\n",
       "      <td>W</td>\n",
       "      <td>NL</td>\n",
       "      <td>08/15/1989</td>\n",
       "      <td>UNA</td>\n",
       "      <td>6.0</td>\n",
       "    </tr>\n",
       "    <tr>\n",
       "      <th>4</th>\n",
       "      <td>AA170513</td>\n",
       "      <td>1948</td>\n",
       "      <td>64.0</td>\n",
       "      <td>24.0</td>\n",
       "      <td>71</td>\n",
       "      <td>W</td>\n",
       "      <td>UN</td>\n",
       "      <td>03/07/2012</td>\n",
       "      <td>DEM</td>\n",
       "      <td>6.0</td>\n",
       "    </tr>\n",
       "  </tbody>\n",
       "</table>\n",
       "</div>"
      ],
      "text/plain": [
       "       ncid  birth_year  nc_house_abbrv  nc_senate_abbrv  birth_age race_code  \\\n",
       "0   AA56273        1935            64.0             24.0         83         W   \n",
       "1  AA201627        1978            63.0             24.0         40         W   \n",
       "2   AA98377        1976            64.0             24.0         42         W   \n",
       "3   AA69747        1945            63.0             24.0         74         W   \n",
       "4  AA170513        1948            64.0             24.0         71         W   \n",
       "\n",
       "  ethnic_code  registr_dt party_cd  cong_dist_abbrv  \n",
       "0          NL  10/01/1984      UNA              6.0  \n",
       "1          UN  02/23/2018      UNA              6.0  \n",
       "2          UN  03/26/1996      UNA              6.0  \n",
       "3          NL  08/15/1989      UNA              6.0  \n",
       "4          UN  03/07/2012      DEM              6.0  "
      ]
     },
     "execution_count": 9,
     "metadata": {},
     "output_type": "execute_result"
    }
   ],
   "source": [
    "df_voters.head()"
   ]
  },
  {
   "cell_type": "code",
   "execution_count": 10,
   "metadata": {},
   "outputs": [
    {
     "data": {
      "text/plain": [
       "(6348629, 22)"
      ]
     },
     "execution_count": 10,
     "metadata": {},
     "output_type": "execute_result"
    }
   ],
   "source": [
    "df_elect_hist.shape"
   ]
  },
  {
   "cell_type": "code",
   "execution_count": 11,
   "metadata": {},
   "outputs": [
    {
     "data": {
      "text/plain": [
       "(7515802, 10)"
      ]
     },
     "execution_count": 11,
     "metadata": {},
     "output_type": "execute_result"
    }
   ],
   "source": [
    "df_voters.shape"
   ]
  },
  {
   "cell_type": "markdown",
   "metadata": {},
   "source": [
    "## Combine Voter History and Voter Demographics "
   ]
  },
  {
   "cell_type": "markdown",
   "metadata": {},
   "source": [
    "Now that we have both voter history and election history imported and processed we will combine the two.  Due to the size of the datasets, we will be using Dask partitioned dataframes to avoid issues with memeory."
   ]
  },
  {
   "cell_type": "code",
   "execution_count": 16,
   "metadata": {},
   "outputs": [],
   "source": [
    "df = dd.concat([df_voters.set_index('ncid'),df_elect_hist.set_index('ncid')], axis=1, join='outer')"
   ]
  },
  {
   "cell_type": "code",
   "execution_count": 17,
   "metadata": {},
   "outputs": [
    {
     "data": {
      "text/html": [
       "<div>\n",
       "<style scoped>\n",
       "    .dataframe tbody tr th:only-of-type {\n",
       "        vertical-align: middle;\n",
       "    }\n",
       "\n",
       "    .dataframe tbody tr th {\n",
       "        vertical-align: top;\n",
       "    }\n",
       "\n",
       "    .dataframe thead th {\n",
       "        text-align: right;\n",
       "    }\n",
       "</style>\n",
       "<table border=\"1\" class=\"dataframe\">\n",
       "  <thead>\n",
       "    <tr style=\"text-align: right;\">\n",
       "      <th></th>\n",
       "      <th>birth_year</th>\n",
       "      <th>nc_house_abbrv</th>\n",
       "      <th>nc_senate_abbrv</th>\n",
       "      <th>birth_age</th>\n",
       "      <th>race_code</th>\n",
       "      <th>ethnic_code</th>\n",
       "      <th>registr_dt</th>\n",
       "      <th>party_cd</th>\n",
       "      <th>cong_dist_abbrv</th>\n",
       "      <th>Unnamed: 0</th>\n",
       "      <th>...</th>\n",
       "      <th>gen_16_dem</th>\n",
       "      <th>gen_12_dem</th>\n",
       "      <th>gen_18_dem</th>\n",
       "      <th>gen_14_dem</th>\n",
       "      <th>gen_10_dem</th>\n",
       "      <th>gen_16_ind</th>\n",
       "      <th>gen_12_ind</th>\n",
       "      <th>gen_18_ind</th>\n",
       "      <th>gen_14_ind</th>\n",
       "      <th>gen_10_ind</th>\n",
       "    </tr>\n",
       "  </thead>\n",
       "  <tbody>\n",
       "    <tr>\n",
       "      <th>AA100000</th>\n",
       "      <td>1967.0</td>\n",
       "      <td>64.0</td>\n",
       "      <td>24.0</td>\n",
       "      <td>51.0</td>\n",
       "      <td>W</td>\n",
       "      <td>NL</td>\n",
       "      <td>06/21/1996</td>\n",
       "      <td>UNA</td>\n",
       "      <td>6.0</td>\n",
       "      <td>0.0</td>\n",
       "      <td>...</td>\n",
       "      <td>0.0</td>\n",
       "      <td>0.0</td>\n",
       "      <td>0.0</td>\n",
       "      <td>0.0</td>\n",
       "      <td>0.0</td>\n",
       "      <td>1.0</td>\n",
       "      <td>0.0</td>\n",
       "      <td>0.0</td>\n",
       "      <td>0.0</td>\n",
       "      <td>0.0</td>\n",
       "    </tr>\n",
       "    <tr>\n",
       "      <th>AA100004</th>\n",
       "      <td>1976.0</td>\n",
       "      <td>63.0</td>\n",
       "      <td>24.0</td>\n",
       "      <td>43.0</td>\n",
       "      <td>W</td>\n",
       "      <td>NL</td>\n",
       "      <td>06/13/1996</td>\n",
       "      <td>DEM</td>\n",
       "      <td>6.0</td>\n",
       "      <td>NaN</td>\n",
       "      <td>...</td>\n",
       "      <td>NaN</td>\n",
       "      <td>NaN</td>\n",
       "      <td>NaN</td>\n",
       "      <td>NaN</td>\n",
       "      <td>NaN</td>\n",
       "      <td>NaN</td>\n",
       "      <td>NaN</td>\n",
       "      <td>NaN</td>\n",
       "      <td>NaN</td>\n",
       "      <td>NaN</td>\n",
       "    </tr>\n",
       "    <tr>\n",
       "      <th>AA100006</th>\n",
       "      <td>1963.0</td>\n",
       "      <td>63.0</td>\n",
       "      <td>24.0</td>\n",
       "      <td>55.0</td>\n",
       "      <td>W</td>\n",
       "      <td>NL</td>\n",
       "      <td>06/14/1996</td>\n",
       "      <td>REP</td>\n",
       "      <td>6.0</td>\n",
       "      <td>1.0</td>\n",
       "      <td>...</td>\n",
       "      <td>0.0</td>\n",
       "      <td>0.0</td>\n",
       "      <td>0.0</td>\n",
       "      <td>0.0</td>\n",
       "      <td>0.0</td>\n",
       "      <td>0.0</td>\n",
       "      <td>0.0</td>\n",
       "      <td>0.0</td>\n",
       "      <td>0.0</td>\n",
       "      <td>0.0</td>\n",
       "    </tr>\n",
       "    <tr>\n",
       "      <th>AA100007</th>\n",
       "      <td>1954.0</td>\n",
       "      <td>63.0</td>\n",
       "      <td>24.0</td>\n",
       "      <td>64.0</td>\n",
       "      <td>W</td>\n",
       "      <td>NL</td>\n",
       "      <td>06/11/1996</td>\n",
       "      <td>UNA</td>\n",
       "      <td>6.0</td>\n",
       "      <td>2.0</td>\n",
       "      <td>...</td>\n",
       "      <td>0.0</td>\n",
       "      <td>0.0</td>\n",
       "      <td>0.0</td>\n",
       "      <td>0.0</td>\n",
       "      <td>0.0</td>\n",
       "      <td>1.0</td>\n",
       "      <td>1.0</td>\n",
       "      <td>1.0</td>\n",
       "      <td>1.0</td>\n",
       "      <td>1.0</td>\n",
       "    </tr>\n",
       "    <tr>\n",
       "      <th>AA100008</th>\n",
       "      <td>1951.0</td>\n",
       "      <td>64.0</td>\n",
       "      <td>24.0</td>\n",
       "      <td>67.0</td>\n",
       "      <td>W</td>\n",
       "      <td>NL</td>\n",
       "      <td>06/14/1996</td>\n",
       "      <td>UNA</td>\n",
       "      <td>6.0</td>\n",
       "      <td>3.0</td>\n",
       "      <td>...</td>\n",
       "      <td>0.0</td>\n",
       "      <td>0.0</td>\n",
       "      <td>0.0</td>\n",
       "      <td>0.0</td>\n",
       "      <td>0.0</td>\n",
       "      <td>0.0</td>\n",
       "      <td>1.0</td>\n",
       "      <td>0.0</td>\n",
       "      <td>0.0</td>\n",
       "      <td>0.0</td>\n",
       "    </tr>\n",
       "  </tbody>\n",
       "</table>\n",
       "<p>5 rows × 30 columns</p>\n",
       "</div>"
      ],
      "text/plain": [
       "          birth_year  nc_house_abbrv  nc_senate_abbrv  birth_age race_code  \\\n",
       "AA100000      1967.0            64.0             24.0       51.0         W   \n",
       "AA100004      1976.0            63.0             24.0       43.0         W   \n",
       "AA100006      1963.0            63.0             24.0       55.0         W   \n",
       "AA100007      1954.0            63.0             24.0       64.0         W   \n",
       "AA100008      1951.0            64.0             24.0       67.0         W   \n",
       "\n",
       "         ethnic_code  registr_dt party_cd  cong_dist_abbrv  Unnamed: 0  ...  \\\n",
       "AA100000          NL  06/21/1996      UNA              6.0         0.0  ...   \n",
       "AA100004          NL  06/13/1996      DEM              6.0         NaN  ...   \n",
       "AA100006          NL  06/14/1996      REP              6.0         1.0  ...   \n",
       "AA100007          NL  06/11/1996      UNA              6.0         2.0  ...   \n",
       "AA100008          NL  06/14/1996      UNA              6.0         3.0  ...   \n",
       "\n",
       "          gen_16_dem  gen_12_dem  gen_18_dem  gen_14_dem  gen_10_dem  \\\n",
       "AA100000         0.0         0.0         0.0         0.0         0.0   \n",
       "AA100004         NaN         NaN         NaN         NaN         NaN   \n",
       "AA100006         0.0         0.0         0.0         0.0         0.0   \n",
       "AA100007         0.0         0.0         0.0         0.0         0.0   \n",
       "AA100008         0.0         0.0         0.0         0.0         0.0   \n",
       "\n",
       "          gen_16_ind  gen_12_ind  gen_18_ind  gen_14_ind  gen_10_ind  \n",
       "AA100000         1.0         0.0         0.0         0.0         0.0  \n",
       "AA100004         NaN         NaN         NaN         NaN         NaN  \n",
       "AA100006         0.0         0.0         0.0         0.0         0.0  \n",
       "AA100007         1.0         1.0         1.0         1.0         1.0  \n",
       "AA100008         0.0         1.0         0.0         0.0         0.0  \n",
       "\n",
       "[5 rows x 30 columns]"
      ]
     },
     "execution_count": 17,
     "metadata": {},
     "output_type": "execute_result"
    }
   ],
   "source": [
    "df.head()"
   ]
  },
  {
   "cell_type": "code",
   "execution_count": 18,
   "metadata": {},
   "outputs": [
    {
     "data": {
      "text/plain": [
       "7527956"
      ]
     },
     "execution_count": 18,
     "metadata": {},
     "output_type": "execute_result"
    }
   ],
   "source": [
    "len(df)"
   ]
  },
  {
   "cell_type": "code",
   "execution_count": 22,
   "metadata": {},
   "outputs": [],
   "source": [
    "import dask"
   ]
  },
  {
   "cell_type": "code",
   "execution_count": 25,
   "metadata": {},
   "outputs": [],
   "source": [
    "#df.to_parquet('data/combined_vf.parquet', engine='pyarrow')"
   ]
  },
  {
   "cell_type": "markdown",
   "metadata": {},
   "source": [
    "To read in the parquet file we created above, we will need to use the Pyarrow package, imported below."
   ]
  },
  {
   "cell_type": "code",
   "execution_count": 2,
   "metadata": {},
   "outputs": [],
   "source": [
    "import pyarrow"
   ]
  },
  {
   "cell_type": "code",
   "execution_count": 3,
   "metadata": {},
   "outputs": [],
   "source": [
    "combined_vf = pd.read_parquet('combined_vf.parquet', engine='pyarrow')"
   ]
  },
  {
   "cell_type": "code",
   "execution_count": 4,
   "metadata": {},
   "outputs": [
    {
     "data": {
      "text/html": [
       "<div>\n",
       "<style scoped>\n",
       "    .dataframe tbody tr th:only-of-type {\n",
       "        vertical-align: middle;\n",
       "    }\n",
       "\n",
       "    .dataframe tbody tr th {\n",
       "        vertical-align: top;\n",
       "    }\n",
       "\n",
       "    .dataframe thead th {\n",
       "        text-align: right;\n",
       "    }\n",
       "</style>\n",
       "<table border=\"1\" class=\"dataframe\">\n",
       "  <thead>\n",
       "    <tr style=\"text-align: right;\">\n",
       "      <th></th>\n",
       "      <th>birth_year</th>\n",
       "      <th>nc_house_abbrv</th>\n",
       "      <th>nc_senate_abbrv</th>\n",
       "      <th>birth_age</th>\n",
       "      <th>race_code</th>\n",
       "      <th>ethnic_code</th>\n",
       "      <th>registr_dt</th>\n",
       "      <th>party_cd</th>\n",
       "      <th>cong_dist_abbrv</th>\n",
       "      <th>Unnamed: 0</th>\n",
       "      <th>...</th>\n",
       "      <th>gen_16_dem</th>\n",
       "      <th>gen_12_dem</th>\n",
       "      <th>gen_18_dem</th>\n",
       "      <th>gen_14_dem</th>\n",
       "      <th>gen_10_dem</th>\n",
       "      <th>gen_16_ind</th>\n",
       "      <th>gen_12_ind</th>\n",
       "      <th>gen_18_ind</th>\n",
       "      <th>gen_14_ind</th>\n",
       "      <th>gen_10_ind</th>\n",
       "    </tr>\n",
       "  </thead>\n",
       "  <tbody>\n",
       "    <tr>\n",
       "      <th>AA100000</th>\n",
       "      <td>1967.0</td>\n",
       "      <td>64.0</td>\n",
       "      <td>24.0</td>\n",
       "      <td>51.0</td>\n",
       "      <td>W</td>\n",
       "      <td>NL</td>\n",
       "      <td>06/21/1996</td>\n",
       "      <td>UNA</td>\n",
       "      <td>6.0</td>\n",
       "      <td>0.0</td>\n",
       "      <td>...</td>\n",
       "      <td>0.0</td>\n",
       "      <td>0.0</td>\n",
       "      <td>0.0</td>\n",
       "      <td>0.0</td>\n",
       "      <td>0.0</td>\n",
       "      <td>1.0</td>\n",
       "      <td>0.0</td>\n",
       "      <td>0.0</td>\n",
       "      <td>0.0</td>\n",
       "      <td>0.0</td>\n",
       "    </tr>\n",
       "    <tr>\n",
       "      <th>AA100004</th>\n",
       "      <td>1976.0</td>\n",
       "      <td>63.0</td>\n",
       "      <td>24.0</td>\n",
       "      <td>43.0</td>\n",
       "      <td>W</td>\n",
       "      <td>NL</td>\n",
       "      <td>06/13/1996</td>\n",
       "      <td>DEM</td>\n",
       "      <td>6.0</td>\n",
       "      <td>NaN</td>\n",
       "      <td>...</td>\n",
       "      <td>NaN</td>\n",
       "      <td>NaN</td>\n",
       "      <td>NaN</td>\n",
       "      <td>NaN</td>\n",
       "      <td>NaN</td>\n",
       "      <td>NaN</td>\n",
       "      <td>NaN</td>\n",
       "      <td>NaN</td>\n",
       "      <td>NaN</td>\n",
       "      <td>NaN</td>\n",
       "    </tr>\n",
       "    <tr>\n",
       "      <th>AA100006</th>\n",
       "      <td>1963.0</td>\n",
       "      <td>63.0</td>\n",
       "      <td>24.0</td>\n",
       "      <td>55.0</td>\n",
       "      <td>W</td>\n",
       "      <td>NL</td>\n",
       "      <td>06/14/1996</td>\n",
       "      <td>REP</td>\n",
       "      <td>6.0</td>\n",
       "      <td>1.0</td>\n",
       "      <td>...</td>\n",
       "      <td>0.0</td>\n",
       "      <td>0.0</td>\n",
       "      <td>0.0</td>\n",
       "      <td>0.0</td>\n",
       "      <td>0.0</td>\n",
       "      <td>0.0</td>\n",
       "      <td>0.0</td>\n",
       "      <td>0.0</td>\n",
       "      <td>0.0</td>\n",
       "      <td>0.0</td>\n",
       "    </tr>\n",
       "    <tr>\n",
       "      <th>AA100007</th>\n",
       "      <td>1954.0</td>\n",
       "      <td>63.0</td>\n",
       "      <td>24.0</td>\n",
       "      <td>64.0</td>\n",
       "      <td>W</td>\n",
       "      <td>NL</td>\n",
       "      <td>06/11/1996</td>\n",
       "      <td>UNA</td>\n",
       "      <td>6.0</td>\n",
       "      <td>2.0</td>\n",
       "      <td>...</td>\n",
       "      <td>0.0</td>\n",
       "      <td>0.0</td>\n",
       "      <td>0.0</td>\n",
       "      <td>0.0</td>\n",
       "      <td>0.0</td>\n",
       "      <td>1.0</td>\n",
       "      <td>1.0</td>\n",
       "      <td>1.0</td>\n",
       "      <td>1.0</td>\n",
       "      <td>1.0</td>\n",
       "    </tr>\n",
       "    <tr>\n",
       "      <th>AA100008</th>\n",
       "      <td>1951.0</td>\n",
       "      <td>64.0</td>\n",
       "      <td>24.0</td>\n",
       "      <td>67.0</td>\n",
       "      <td>W</td>\n",
       "      <td>NL</td>\n",
       "      <td>06/14/1996</td>\n",
       "      <td>UNA</td>\n",
       "      <td>6.0</td>\n",
       "      <td>3.0</td>\n",
       "      <td>...</td>\n",
       "      <td>0.0</td>\n",
       "      <td>0.0</td>\n",
       "      <td>0.0</td>\n",
       "      <td>0.0</td>\n",
       "      <td>0.0</td>\n",
       "      <td>0.0</td>\n",
       "      <td>1.0</td>\n",
       "      <td>0.0</td>\n",
       "      <td>0.0</td>\n",
       "      <td>0.0</td>\n",
       "    </tr>\n",
       "  </tbody>\n",
       "</table>\n",
       "<p>5 rows × 30 columns</p>\n",
       "</div>"
      ],
      "text/plain": [
       "          birth_year  nc_house_abbrv  nc_senate_abbrv  birth_age race_code  \\\n",
       "AA100000      1967.0            64.0             24.0       51.0         W   \n",
       "AA100004      1976.0            63.0             24.0       43.0         W   \n",
       "AA100006      1963.0            63.0             24.0       55.0         W   \n",
       "AA100007      1954.0            63.0             24.0       64.0         W   \n",
       "AA100008      1951.0            64.0             24.0       67.0         W   \n",
       "\n",
       "         ethnic_code  registr_dt party_cd  cong_dist_abbrv  Unnamed: 0  \\\n",
       "AA100000          NL  06/21/1996      UNA              6.0         0.0   \n",
       "AA100004          NL  06/13/1996      DEM              6.0         NaN   \n",
       "AA100006          NL  06/14/1996      REP              6.0         1.0   \n",
       "AA100007          NL  06/11/1996      UNA              6.0         2.0   \n",
       "AA100008          NL  06/14/1996      UNA              6.0         3.0   \n",
       "\n",
       "             ...      gen_16_dem  gen_12_dem  gen_18_dem  gen_14_dem  \\\n",
       "AA100000     ...             0.0         0.0         0.0         0.0   \n",
       "AA100004     ...             NaN         NaN         NaN         NaN   \n",
       "AA100006     ...             0.0         0.0         0.0         0.0   \n",
       "AA100007     ...             0.0         0.0         0.0         0.0   \n",
       "AA100008     ...             0.0         0.0         0.0         0.0   \n",
       "\n",
       "          gen_10_dem  gen_16_ind  gen_12_ind  gen_18_ind  gen_14_ind  \\\n",
       "AA100000         0.0         1.0         0.0         0.0         0.0   \n",
       "AA100004         NaN         NaN         NaN         NaN         NaN   \n",
       "AA100006         0.0         0.0         0.0         0.0         0.0   \n",
       "AA100007         0.0         1.0         1.0         1.0         1.0   \n",
       "AA100008         0.0         0.0         1.0         0.0         0.0   \n",
       "\n",
       "          gen_10_ind  \n",
       "AA100000         0.0  \n",
       "AA100004         NaN  \n",
       "AA100006         0.0  \n",
       "AA100007         1.0  \n",
       "AA100008         0.0  \n",
       "\n",
       "[5 rows x 30 columns]"
      ]
     },
     "execution_count": 4,
     "metadata": {},
     "output_type": "execute_result"
    }
   ],
   "source": [
    "combined_vf.head()"
   ]
  },
  {
   "cell_type": "code",
   "execution_count": 5,
   "metadata": {},
   "outputs": [
    {
     "data": {
      "text/plain": [
       "(7527956, 30)"
      ]
     },
     "execution_count": 5,
     "metadata": {},
     "output_type": "execute_result"
    }
   ],
   "source": [
    "combined_vf.shape"
   ]
  },
  {
   "cell_type": "code",
   "execution_count": 6,
   "metadata": {},
   "outputs": [],
   "source": [
    "combined_vf = combined_vf.fillna(value=0)"
   ]
  },
  {
   "cell_type": "code",
   "execution_count": 7,
   "metadata": {},
   "outputs": [],
   "source": [
    "combined_vf['registr_dt'] = pd.to_datetime(combined_vf['registr_dt'],infer_datetime_format=True)"
   ]
  },
  {
   "cell_type": "code",
   "execution_count": 8,
   "metadata": {},
   "outputs": [
    {
     "data": {
      "text/html": [
       "<div>\n",
       "<style scoped>\n",
       "    .dataframe tbody tr th:only-of-type {\n",
       "        vertical-align: middle;\n",
       "    }\n",
       "\n",
       "    .dataframe tbody tr th {\n",
       "        vertical-align: top;\n",
       "    }\n",
       "\n",
       "    .dataframe thead th {\n",
       "        text-align: right;\n",
       "    }\n",
       "</style>\n",
       "<table border=\"1\" class=\"dataframe\">\n",
       "  <thead>\n",
       "    <tr style=\"text-align: right;\">\n",
       "      <th></th>\n",
       "      <th>birth_year</th>\n",
       "      <th>nc_house_abbrv</th>\n",
       "      <th>nc_senate_abbrv</th>\n",
       "      <th>birth_age</th>\n",
       "      <th>race_code</th>\n",
       "      <th>ethnic_code</th>\n",
       "      <th>registr_dt</th>\n",
       "      <th>party_cd</th>\n",
       "      <th>cong_dist_abbrv</th>\n",
       "      <th>Unnamed: 0</th>\n",
       "      <th>...</th>\n",
       "      <th>gen_16_dem</th>\n",
       "      <th>gen_12_dem</th>\n",
       "      <th>gen_18_dem</th>\n",
       "      <th>gen_14_dem</th>\n",
       "      <th>gen_10_dem</th>\n",
       "      <th>gen_16_ind</th>\n",
       "      <th>gen_12_ind</th>\n",
       "      <th>gen_18_ind</th>\n",
       "      <th>gen_14_ind</th>\n",
       "      <th>gen_10_ind</th>\n",
       "    </tr>\n",
       "  </thead>\n",
       "  <tbody>\n",
       "    <tr>\n",
       "      <th>AA100000</th>\n",
       "      <td>1967.0</td>\n",
       "      <td>64.0</td>\n",
       "      <td>24.0</td>\n",
       "      <td>51.0</td>\n",
       "      <td>W</td>\n",
       "      <td>NL</td>\n",
       "      <td>1996-06-21</td>\n",
       "      <td>UNA</td>\n",
       "      <td>6.0</td>\n",
       "      <td>0.0</td>\n",
       "      <td>...</td>\n",
       "      <td>0.0</td>\n",
       "      <td>0.0</td>\n",
       "      <td>0.0</td>\n",
       "      <td>0.0</td>\n",
       "      <td>0.0</td>\n",
       "      <td>1.0</td>\n",
       "      <td>0.0</td>\n",
       "      <td>0.0</td>\n",
       "      <td>0.0</td>\n",
       "      <td>0.0</td>\n",
       "    </tr>\n",
       "    <tr>\n",
       "      <th>AA100004</th>\n",
       "      <td>1976.0</td>\n",
       "      <td>63.0</td>\n",
       "      <td>24.0</td>\n",
       "      <td>43.0</td>\n",
       "      <td>W</td>\n",
       "      <td>NL</td>\n",
       "      <td>1996-06-13</td>\n",
       "      <td>DEM</td>\n",
       "      <td>6.0</td>\n",
       "      <td>0.0</td>\n",
       "      <td>...</td>\n",
       "      <td>0.0</td>\n",
       "      <td>0.0</td>\n",
       "      <td>0.0</td>\n",
       "      <td>0.0</td>\n",
       "      <td>0.0</td>\n",
       "      <td>0.0</td>\n",
       "      <td>0.0</td>\n",
       "      <td>0.0</td>\n",
       "      <td>0.0</td>\n",
       "      <td>0.0</td>\n",
       "    </tr>\n",
       "    <tr>\n",
       "      <th>AA100006</th>\n",
       "      <td>1963.0</td>\n",
       "      <td>63.0</td>\n",
       "      <td>24.0</td>\n",
       "      <td>55.0</td>\n",
       "      <td>W</td>\n",
       "      <td>NL</td>\n",
       "      <td>1996-06-14</td>\n",
       "      <td>REP</td>\n",
       "      <td>6.0</td>\n",
       "      <td>1.0</td>\n",
       "      <td>...</td>\n",
       "      <td>0.0</td>\n",
       "      <td>0.0</td>\n",
       "      <td>0.0</td>\n",
       "      <td>0.0</td>\n",
       "      <td>0.0</td>\n",
       "      <td>0.0</td>\n",
       "      <td>0.0</td>\n",
       "      <td>0.0</td>\n",
       "      <td>0.0</td>\n",
       "      <td>0.0</td>\n",
       "    </tr>\n",
       "    <tr>\n",
       "      <th>AA100007</th>\n",
       "      <td>1954.0</td>\n",
       "      <td>63.0</td>\n",
       "      <td>24.0</td>\n",
       "      <td>64.0</td>\n",
       "      <td>W</td>\n",
       "      <td>NL</td>\n",
       "      <td>1996-06-11</td>\n",
       "      <td>UNA</td>\n",
       "      <td>6.0</td>\n",
       "      <td>2.0</td>\n",
       "      <td>...</td>\n",
       "      <td>0.0</td>\n",
       "      <td>0.0</td>\n",
       "      <td>0.0</td>\n",
       "      <td>0.0</td>\n",
       "      <td>0.0</td>\n",
       "      <td>1.0</td>\n",
       "      <td>1.0</td>\n",
       "      <td>1.0</td>\n",
       "      <td>1.0</td>\n",
       "      <td>1.0</td>\n",
       "    </tr>\n",
       "    <tr>\n",
       "      <th>AA100008</th>\n",
       "      <td>1951.0</td>\n",
       "      <td>64.0</td>\n",
       "      <td>24.0</td>\n",
       "      <td>67.0</td>\n",
       "      <td>W</td>\n",
       "      <td>NL</td>\n",
       "      <td>1996-06-14</td>\n",
       "      <td>UNA</td>\n",
       "      <td>6.0</td>\n",
       "      <td>3.0</td>\n",
       "      <td>...</td>\n",
       "      <td>0.0</td>\n",
       "      <td>0.0</td>\n",
       "      <td>0.0</td>\n",
       "      <td>0.0</td>\n",
       "      <td>0.0</td>\n",
       "      <td>0.0</td>\n",
       "      <td>1.0</td>\n",
       "      <td>0.0</td>\n",
       "      <td>0.0</td>\n",
       "      <td>0.0</td>\n",
       "    </tr>\n",
       "  </tbody>\n",
       "</table>\n",
       "<p>5 rows × 30 columns</p>\n",
       "</div>"
      ],
      "text/plain": [
       "          birth_year  nc_house_abbrv  nc_senate_abbrv  birth_age race_code  \\\n",
       "AA100000      1967.0            64.0             24.0       51.0         W   \n",
       "AA100004      1976.0            63.0             24.0       43.0         W   \n",
       "AA100006      1963.0            63.0             24.0       55.0         W   \n",
       "AA100007      1954.0            63.0             24.0       64.0         W   \n",
       "AA100008      1951.0            64.0             24.0       67.0         W   \n",
       "\n",
       "         ethnic_code registr_dt party_cd  cong_dist_abbrv  Unnamed: 0  \\\n",
       "AA100000          NL 1996-06-21      UNA              6.0         0.0   \n",
       "AA100004          NL 1996-06-13      DEM              6.0         0.0   \n",
       "AA100006          NL 1996-06-14      REP              6.0         1.0   \n",
       "AA100007          NL 1996-06-11      UNA              6.0         2.0   \n",
       "AA100008          NL 1996-06-14      UNA              6.0         3.0   \n",
       "\n",
       "             ...      gen_16_dem  gen_12_dem  gen_18_dem  gen_14_dem  \\\n",
       "AA100000     ...             0.0         0.0         0.0         0.0   \n",
       "AA100004     ...             0.0         0.0         0.0         0.0   \n",
       "AA100006     ...             0.0         0.0         0.0         0.0   \n",
       "AA100007     ...             0.0         0.0         0.0         0.0   \n",
       "AA100008     ...             0.0         0.0         0.0         0.0   \n",
       "\n",
       "          gen_10_dem  gen_16_ind  gen_12_ind  gen_18_ind  gen_14_ind  \\\n",
       "AA100000         0.0         1.0         0.0         0.0         0.0   \n",
       "AA100004         0.0         0.0         0.0         0.0         0.0   \n",
       "AA100006         0.0         0.0         0.0         0.0         0.0   \n",
       "AA100007         0.0         1.0         1.0         1.0         1.0   \n",
       "AA100008         0.0         0.0         1.0         0.0         0.0   \n",
       "\n",
       "          gen_10_ind  \n",
       "AA100000         0.0  \n",
       "AA100004         0.0  \n",
       "AA100006         0.0  \n",
       "AA100007         1.0  \n",
       "AA100008         0.0  \n",
       "\n",
       "[5 rows x 30 columns]"
      ]
     },
     "execution_count": 8,
     "metadata": {},
     "output_type": "execute_result"
    }
   ],
   "source": [
    "combined_vf.head()"
   ]
  },
  {
   "cell_type": "markdown",
   "metadata": {},
   "source": [
    "## Calculate Participation Rates"
   ]
  },
  {
   "cell_type": "markdown",
   "metadata": {},
   "source": [
    "For EDA, we will be creating a variety of graphs showing the participation rate of North Carolina voters.  We will need to calculate these from the combine voter file.  The below function will take in the election column we are summing up, the date of the election, the group we are looking to subset the voter file to, and finally the congressional district we are looking to subset to."
   ]
  },
  {
   "cell_type": "code",
   "execution_count": 9,
   "metadata": {},
   "outputs": [],
   "source": [
    "def overall_partic_rate(election_name, election_date, subset_column='all', subset='all', cd='all'):\n",
    "    mask = combined_vf['registr_dt'] <= election_date # only count those who registration date makes them eligible\n",
    "    # for all voters\n",
    "    if subset_column == 'all':\n",
    "        registered = len(combined_vf[mask])\n",
    "        num_voted = combined_vf[[election_name]][mask].sum()\n",
    "    # for looking at party, demo subset\n",
    "    else:\n",
    "        mask_2 = combined_vf[subset_column] == subset\n",
    "        registered = len(combined_vf[mask & mask_2])\n",
    "        num_voted = combined_vf[[election_name]][mask & mask_2].sum()  \n",
    "    if cd != 'all':\n",
    "        mask_3 = combined_vf['cong_dist_abbrv'] == cd\n",
    "        registered = len(combined_vf[mask & mask_2 & mask_3])\n",
    "        num_voted = combined_vf[[election_name]][mask & mask_2 & mask_3].sum()  \n",
    "    else:\n",
    "        pass\n",
    "    return float(num_voted / registered)"
   ]
  },
  {
   "cell_type": "markdown",
   "metadata": {},
   "source": [
    "Below is a list of all of participation rates we will calculate.  To use the participation rate function, we will thow this list into a for loop."
   ]
  },
  {
   "cell_type": "code",
   "execution_count": 10,
   "metadata": {},
   "outputs": [],
   "source": [
    "general_elctions = [('gen_18_voted', '2018-11-06'), \n",
    "                   ('gen_16_voted', '2016-11-08'),\n",
    "                   ('gen_14_voted', '2014-11-04'),\n",
    "                   ('gen_12_voted', '2012-11-06'),\n",
    "                   ('gen_10_voted', '2010-11-02'),\n",
    "# PARTY                    \n",
    "                   ('gen_18_rep', '2018-11-06', 'party_cd', 'REP'), \n",
    "                   ('gen_16_rep', '2016-11-08', 'party_cd', 'REP'),\n",
    "                   ('gen_14_rep', '2014-11-04', 'party_cd', 'REP'),\n",
    "                   ('gen_12_rep', '2012-11-06', 'party_cd', 'REP'),\n",
    "                   ('gen_10_rep', '2010-11-02', 'party_cd', 'REP'),\n",
    "                   \n",
    "                   ('gen_18_dem', '2018-11-06', 'party_cd', 'DEM'), \n",
    "                   ('gen_16_dem', '2016-11-08', 'party_cd', 'DEM'),\n",
    "                   ('gen_14_dem', '2014-11-04', 'party_cd', 'DEM'),\n",
    "                   ('gen_12_dem', '2012-11-06', 'party_cd', 'DEM'),\n",
    "                   ('gen_10_dem', '2010-11-02', 'party_cd', 'DEM'),                   \n",
    "# RACE\n",
    "                   ('gen_18_voted', '2018-11-06', 'race_code', 'W'), \n",
    "                   ('gen_16_voted', '2016-11-08', 'race_code', 'W'),\n",
    "                   ('gen_14_voted', '2014-11-04', 'race_code', 'W'),\n",
    "                   ('gen_12_voted', '2012-11-06', 'race_code', 'W'),\n",
    "                   ('gen_10_voted', '2010-11-02', 'race_code', 'W'),                      \n",
    "\n",
    "                   ('gen_18_voted', '2018-11-06', 'race_code', 'B'), \n",
    "                   ('gen_16_voted', '2016-11-08', 'race_code', 'B'),\n",
    "                   ('gen_14_voted', '2014-11-04', 'race_code', 'B'),\n",
    "                   ('gen_12_voted', '2012-11-06', 'race_code', 'B'),\n",
    "                   ('gen_10_voted', '2010-11-02', 'race_code', 'B'),\n",
    "\n",
    "                   ('gen_18_voted', '2018-11-06', 'race_code', 'I'), \n",
    "                   ('gen_16_voted', '2016-11-08', 'race_code', 'I'),\n",
    "                   ('gen_14_voted', '2014-11-04', 'race_code', 'I'),\n",
    "                   ('gen_12_voted', '2012-11-06', 'race_code', 'I'),\n",
    "                   ('gen_10_voted', '2010-11-02', 'race_code', 'I'), \n",
    "                    \n",
    "                   ('gen_18_voted', '2018-11-06', 'race_code', 'O'), \n",
    "                   ('gen_16_voted', '2016-11-08', 'race_code', 'O'),\n",
    "                   ('gen_14_voted', '2014-11-04', 'race_code', 'O'),\n",
    "                   ('gen_12_voted', '2012-11-06', 'race_code', 'O'),\n",
    "                   ('gen_10_voted', '2010-11-02', 'race_code', 'O'), \n",
    "                    \n",
    "                   ('gen_18_voted', '2018-11-06', 'race_code', 'U'), \n",
    "                   ('gen_16_voted', '2016-11-08', 'race_code', 'U'),\n",
    "                   ('gen_14_voted', '2014-11-04', 'race_code', 'U'),\n",
    "                   ('gen_12_voted', '2012-11-06', 'race_code', 'U'),\n",
    "                   ('gen_10_voted', '2010-11-02', 'race_code', 'U'), \n",
    "                    \n",
    "                   ('gen_18_voted', '2018-11-06', 'race_code', 'A'), \n",
    "                   ('gen_16_voted', '2016-11-08', 'race_code', 'A'),\n",
    "                   ('gen_14_voted', '2014-11-04', 'race_code', 'A'),\n",
    "                   ('gen_12_voted', '2012-11-06', 'race_code', 'A'),\n",
    "                   ('gen_10_voted', '2010-11-02', 'race_code', 'A'),                     \n",
    "                    \n",
    "                   ('gen_18_voted', '2018-11-06', 'race_code', 'M'), \n",
    "                   ('gen_16_voted', '2016-11-08', 'race_code', 'M'),\n",
    "                   ('gen_14_voted', '2014-11-04', 'race_code', 'M'),\n",
    "                   ('gen_12_voted', '2012-11-06', 'race_code', 'M'),\n",
    "                   ('gen_10_voted', '2010-11-02', 'race_code', 'M'),\n",
    "                    \n",
    "# ethnic code\n",
    "                   ('gen_18_voted', '2018-11-06', 'ethnic_code', 'NL'), \n",
    "                   ('gen_16_voted', '2016-11-08', 'ethnic_code', 'NL'),\n",
    "                   ('gen_14_voted', '2014-11-04', 'ethnic_code', 'NL'),\n",
    "                   ('gen_12_voted', '2012-11-06', 'ethnic_code', 'NL'),\n",
    "                   ('gen_10_voted', '2010-11-02', 'ethnic_code', 'NL'),\n",
    "                    \n",
    "                   ('gen_18_voted', '2018-11-06', 'ethnic_code', 'UN'), \n",
    "                   ('gen_16_voted', '2016-11-08', 'ethnic_code', 'UN'),\n",
    "                   ('gen_14_voted', '2014-11-04', 'ethnic_code', 'UN'),\n",
    "                   ('gen_12_voted', '2012-11-06', 'ethnic_code', 'UN'),\n",
    "                   ('gen_10_voted', '2010-11-02', 'ethnic_code', 'UN'),  \n",
    "                    \n",
    "                   ('gen_18_voted', '2018-11-06', 'ethnic_code', 'HL'), \n",
    "                   ('gen_16_voted', '2016-11-08', 'ethnic_code', 'HL'),\n",
    "                   ('gen_14_voted', '2014-11-04', 'ethnic_code', 'HL'),\n",
    "                   ('gen_12_voted', '2012-11-06', 'ethnic_code', 'HL'),\n",
    "                   ('gen_10_voted', '2010-11-02', 'ethnic_code', 'HL'),  \n",
    "                   ]\n",
    "gen_participation = pd.DataFrame(columns=['election_date', 'category', 'segment', 'turnout_rate'])\n",
    "for i in general_elctions:\n",
    "    election_name = i[0]\n",
    "    election_date = i[1]\n",
    "    try:   # if it is an oveall entry, this index will not exist \n",
    "        subset_column = i[2]\n",
    "    except:\n",
    "        subset_column = 'all'\n",
    "    try:\n",
    "        subset = i[3]\n",
    "    except:\n",
    "        subset = 'all'\n",
    "    particip = overall_partic_rate(election_name, election_date, subset_column, subset)\n",
    "    # set election name if there is a subset name\n",
    "    #gen_overall_participation.update( {dictionary_key : particip} )\n",
    "    gen_participation = gen_participation.append({'election_date': election_date, 'category': subset_column,\n",
    "                                                  'segment': subset, 'turnout_rate' : particip}, ignore_index=True)"
   ]
  },
  {
   "cell_type": "code",
   "execution_count": 11,
   "metadata": {},
   "outputs": [
    {
     "data": {
      "text/plain": [
       "(65, 4)"
      ]
     },
     "execution_count": 11,
     "metadata": {},
     "output_type": "execute_result"
    }
   ],
   "source": [
    "gen_participation.shape"
   ]
  },
  {
   "cell_type": "code",
   "execution_count": 12,
   "metadata": {},
   "outputs": [],
   "source": [
    "gen_participation.to_csv('gen_participation_full_dataset.csv')"
   ]
  },
  {
   "cell_type": "markdown",
   "metadata": {},
   "source": [
    "To calculate the participation rates by age group, we will loop through all of the disctince ages in the voter file, calculating participation rate for eeach election.  Because the voter file was accessed in 2019, all of the ages for the entries are their age as of 2019.  To calculate the age that they were when each election happened, we will calculate a column named \"real_age\" which is takes the differene between 2019 and the year of the election."
   ]
  },
  {
   "cell_type": "code",
   "execution_count": 13,
   "metadata": {},
   "outputs": [],
   "source": [
    "general_elctions = [('gen_18_voted', '2018-11-06'), \n",
    "                   ('gen_16_voted', '2016-11-08'),\n",
    "                   ('gen_14_voted', '2014-11-04'),\n",
    "                   ('gen_12_voted', '2012-11-06'),\n",
    "                   ('gen_10_voted', '2010-11-02')]\n",
    "# PARTY              \n",
    "for i in range(18,int(max(combined_vf['birth_age']) + 1)):\n",
    "    age = i\n",
    "    age_real = i\n",
    "    entry = ('gen_18_voted','2018-11-06','birth_age',age, age_real)\n",
    "    general_elctions.append(entry)\n",
    "\n",
    "for i in range(18,int(max(combined_vf['birth_age']) + 1)):\n",
    "    age = i  \n",
    "    age_real = i - 2\n",
    "    entry = ('gen_16_voted','2016-11-08','birth_age',age, age_real)\n",
    "    general_elctions.append(entry)\n",
    "    \n",
    "for i in range(18,int(max(combined_vf['birth_age']) + 1)):\n",
    "    age = i \n",
    "    age_real = i - 4\n",
    "    entry = ('gen_14_voted','2014-11-04','birth_age',age, age_real)\n",
    "    general_elctions.append(entry)\n",
    "\n",
    "for i in range(18,int(max(combined_vf['birth_age']) + 1)):\n",
    "    age = i \n",
    "    age_real = i - 6\n",
    "    entry = ('gen_12_voted','2012-11-06','birth_age',age, age_real)\n",
    "    general_elctions.append(entry)\n",
    "    \n",
    "for i in range(18,int(max(combined_vf['birth_age']) + 1)):\n",
    "    age = i \n",
    "    age_real = i - 8\n",
    "    entry = ('gen_10_voted','2010-11-02','birth_age',age, age_real)\n",
    "    general_elctions.append(entry)\n",
    "    \n",
    "gen_participation_age = pd.DataFrame(columns=['election_date', 'category', 'segment', 'turnout_rate'])\n",
    "for i in general_elctions:\n",
    "    election_name = i[0]\n",
    "    election_date = i[1]\n",
    "    try:   # if it is an oveall entry, this index will not exist \n",
    "        subset_column = i[2]\n",
    "    except:\n",
    "        subset_column = 'all'\n",
    "    try:\n",
    "        subset = i[3]\n",
    "        subset_real = i[4]\n",
    "    except:\n",
    "        subset = 'all'\n",
    "        subset_real = 'all'\n",
    "   # print(election_name,election_date, subset_column, subset, subset_real )\n",
    "    particip = overall_partic_rate(election_name, election_date, subset_column, subset)\n",
    "    # set election name if there is a subset name\n",
    "    #gen_overall_participation.update( {dictionary_key : particip} )\n",
    "    if subset == 'all' or subset_real >= 18:\n",
    "        gen_participation_age = gen_participation_age.append({'election_date': election_date, 'category': subset_column,\n",
    "                                                  'segment': subset_real, 'turnout_rate' : particip}, ignore_index=True)\n",
    "    else:\n",
    "        pass"
   ]
  },
  {
   "cell_type": "code",
   "execution_count": 14,
   "metadata": {},
   "outputs": [
    {
     "data": {
      "text/plain": [
       "(1115, 4)"
      ]
     },
     "execution_count": 14,
     "metadata": {},
     "output_type": "execute_result"
    }
   ],
   "source": [
    "gen_participation_age.shape"
   ]
  },
  {
   "cell_type": "code",
   "execution_count": 15,
   "metadata": {},
   "outputs": [],
   "source": [
    "gen_participation_age.to_csv('gen_participation_age_full_dataset.csv')"
   ]
  },
  {
   "cell_type": "markdown",
   "metadata": {},
   "source": [
    "Finally, we will calculate the participation by congressional group and party."
   ]
  },
  {
   "cell_type": "code",
   "execution_count": 16,
   "metadata": {},
   "outputs": [],
   "source": [
    "general_elections = []\n",
    "\n",
    "gen_participation_cd = pd.DataFrame(columns=['election_date', 'party', 'cd', 'turnout_rate'])\n",
    "\n",
    "for i in range(0,int(max(combined_vf['cong_dist_abbrv']) + 1)):\n",
    "    list_of_elections = [('gen_18_voted', '2018-11-06', 'party_cd', 'REP', i), \n",
    "                         ('gen_16_voted', '2016-11-08', 'party_cd', 'REP', i),\n",
    "                         ('gen_14_voted', '2014-11-04', 'party_cd', 'REP', i),\n",
    "                         ('gen_12_voted', '2012-11-06', 'party_cd', 'REP', i),\n",
    "                         ('gen_10_voted', '2010-11-02', 'party_cd', 'REP', i),\n",
    "\n",
    "                         ('gen_18_voted', '2018-11-06', 'party_cd', 'DEM', i), \n",
    "                         ('gen_16_voted', '2016-11-08', 'party_cd', 'DEM', i),\n",
    "                         ('gen_14_voted', '2014-11-04', 'party_cd', 'DEM', i),\n",
    "                         ('gen_12_voted', '2012-11-06', 'party_cd', 'DEM', i),\n",
    "                         ('gen_10_voted', '2010-11-02', 'party_cd', 'DEM', i)\n",
    "                        ]\n",
    "    general_elections.append(list_of_elections)\n",
    "\n",
    "\n",
    "    \n",
    "for i in general_elections:\n",
    "    for j in i:\n",
    "        election_name = j[0]\n",
    "        election_date = j[1]\n",
    "        subset = j[2]\n",
    "        subset_column = j[3]\n",
    "        cd = j[4]\n",
    "      #  print(election_name,election_date, subset, subset, subset_column, cd )\n",
    "        particip = overall_partic_rate(election_name, election_date, subset, subset_column, cd)\n",
    "     #   print(particip)\n",
    "        # set election name if there is a subset name\n",
    "        #gen_overall_participation.update( {dictionary_key : particip} )\n",
    "        gen_participation_cd = gen_participation_cd.append({'election_date': election_date, \n",
    "                                                      'party': subset_column, 'cd': cd, 'turnout_rate' : particip}, ignore_index=True)"
   ]
  },
  {
   "cell_type": "code",
   "execution_count": 17,
   "metadata": {},
   "outputs": [],
   "source": [
    "gen_participation_cd.to_csv('gen_participation_cd_full_dataset.csv')"
   ]
  },
  {
   "cell_type": "markdown",
   "metadata": {},
   "source": [
    "# Scrape Registered Voters By County <a class=\"anchor\" id=\"three-bullet\"></a>"
   ]
  },
  {
   "cell_type": "markdown",
   "metadata": {},
   "source": [
    "Another plot we will build for our EDA will show how many voters are registered in each county, by month, by group.\n",
    "\n",
    "We will scrape this data from the BOE website. It is updated each Saturday, so we will have to find the dates for all Saturdays for each of the years in question, and then use those as the URLs for each of our scrapes."
   ]
  },
  {
   "cell_type": "code",
   "execution_count": 25,
   "metadata": {},
   "outputs": [],
   "source": [
    "# modified from https://stackoverflow.com/questions/2003870/how-can-i-select-all-of-the-sundays-for-a-year-using-python\n",
    "def allsaturdays(year):\n",
    "  #  print(year)\n",
    "   # print(date(year, 1, 1))\n",
    "    d = date(year, 1, 1)\n",
    "  #  print(d.weekday())\n",
    "    if d.weekday() == 6: # if jan 1 is a sat, make the first sunday 6 days after jan 1\n",
    "        d += timedelta(6)\n",
    "      #  print(d)\n",
    "    else:    \n",
    "        d += timedelta(days = 5 - d.weekday() + 7 % 7)  # First sat\n",
    "      #  print(d)\n",
    "\n",
    "    while d.year == year:\n",
    "        yield d\n",
    "        d += timedelta(days = 7)"
   ]
  },
  {
   "cell_type": "code",
   "execution_count": 26,
   "metadata": {},
   "outputs": [],
   "source": [
    "# function to create list of urls to scrape, each saturday of the year.  will have to run this for each year and add them all\n",
    "# to one list\n",
    "def add_sats_in_year_to_list(year):\n",
    "    sats = []\n",
    "    urls = []\n",
    "    for d in allsaturdays(year):\n",
    "        sats.append(d)\n",
    "        all_sats.append(d)\n",
    "    for i in sats:\n",
    "        url = 'https://vt.ncsbe.gov/RegStat/Results/?date=' + str(i.month).zfill(2) + '%2F' + str(i.day).zfill(2) + '%2F' + str(i.year)\n",
    "        #urls.append(url)\n",
    "        all_urls.append(url)\n",
    "    print(len(sats))"
   ]
  },
  {
   "cell_type": "code",
   "execution_count": 27,
   "metadata": {},
   "outputs": [],
   "source": [
    "all_urls = []\n",
    "all_sats = []"
   ]
  },
  {
   "cell_type": "code",
   "execution_count": 28,
   "metadata": {},
   "outputs": [
    {
     "name": "stdout",
     "output_type": "stream",
     "text": [
      "2009\n",
      "52\n",
      "2010\n",
      "52\n",
      "2011\n",
      "53\n",
      "2012\n",
      "52\n",
      "2013\n",
      "52\n",
      "2014\n",
      "52\n",
      "2015\n",
      "52\n",
      "2016\n",
      "53\n",
      "2017\n",
      "52\n",
      "2018\n",
      "52\n",
      "2019\n",
      "52\n"
     ]
    }
   ],
   "source": [
    "#list_of_years = [2010]\n",
    "list_of_years = [2009, 2010, 2011, 2012, 2013, 2014, 2015, 2016, 2017, 2018, 2019]\n",
    "for year in list_of_years:\n",
    "    print(year)\n",
    "    add_sats_in_year_to_list(year)"
   ]
  },
  {
   "cell_type": "code",
   "execution_count": 29,
   "metadata": {},
   "outputs": [],
   "source": [
    "columns_df = [\"CountyName\",\"Democrats\",\"Republicans\",\"Libertarians\",\"Green\",\"Constitution\",\"Unaffiliated\",\"White\",\"Black\",\"AmericanIndian\"\n",
    ",\"Other\",\"Hispanic\",\"Male\",\"Female\",\"UnDisclosedGender\",\"Total\", \"Date\"]"
   ]
  },
  {
   "cell_type": "code",
   "execution_count": 30,
   "metadata": {},
   "outputs": [],
   "source": [
    "voter_reg_df = pd.DataFrame(columns=columns_df)"
   ]
  },
  {
   "cell_type": "code",
   "execution_count": 31,
   "metadata": {},
   "outputs": [],
   "source": [
    "all_years_data = []\n",
    "all_dates = []\n",
    "for idx_date, url in enumerate(all_urls):\n",
    "    res = requests.get(url)\n",
    "    date = all_sats[idx_date]\n",
    "# make sure status code is 200, else error\n",
    "    res.status_code\n",
    "\n",
    "    soup = BeautifulSoup(res.content, 'lxml')\n",
    "\n",
    "    table_data = soup.text.split('var data = ')[1].split('\\r\\n\\t\\t\\t//')[0]\n",
    "\n",
    "    rows = table_data.split('{')\n",
    "\n",
    "    all_data = []\n",
    "    for  i in rows[1:]:\n",
    "      #  print(all_sats[idx])\n",
    "       # break\n",
    "        \n",
    "        r2 = i.split('\":')\n",
    "        r2_3 = [i.split(\",\") for i in r2]\n",
    "        row_data = []\n",
    "        for idx,  i in enumerate(r2_3[1:]):\n",
    "            if idx == 0:\n",
    "                clean = i[0].replace('}',\"\").replace(']',\"\")\n",
    "            else:\n",
    "                clean = int(i[0].replace('}',\"\").replace(']',\"\"))\n",
    "            row_data.append(clean)\n",
    "           # print(clean)\n",
    "            \n",
    "            #print(row_data)\n",
    "        row_data.append(date)\n",
    "       # print(row_data)\n",
    "        all_data.append(row_data)\n",
    "        #print(all_data)\n",
    "    all_years_data.append(all_data)#(all_data)\n",
    "    #print(all_years_data)\n",
    "#all_years_data"
   ]
  },
  {
   "cell_type": "code",
   "execution_count": 32,
   "metadata": {},
   "outputs": [],
   "source": [
    "for i in all_years_data:\n",
    "    #print(i)\n",
    "   # print(columns_df)\n",
    "    df = pd.DataFrame(i, columns=columns_df)\n",
    "   # df['date'] = all_sats[0][idx]\n",
    "    voter_reg_df = pd.concat([voter_reg_df, df])"
   ]
  },
  {
   "cell_type": "code",
   "execution_count": 33,
   "metadata": {},
   "outputs": [
    {
     "data": {
      "text/html": [
       "<div>\n",
       "<style scoped>\n",
       "    .dataframe tbody tr th:only-of-type {\n",
       "        vertical-align: middle;\n",
       "    }\n",
       "\n",
       "    .dataframe tbody tr th {\n",
       "        vertical-align: top;\n",
       "    }\n",
       "\n",
       "    .dataframe thead th {\n",
       "        text-align: right;\n",
       "    }\n",
       "</style>\n",
       "<table border=\"1\" class=\"dataframe\">\n",
       "  <thead>\n",
       "    <tr style=\"text-align: right;\">\n",
       "      <th></th>\n",
       "      <th>CountyName</th>\n",
       "      <th>Democrats</th>\n",
       "      <th>Republicans</th>\n",
       "      <th>Libertarians</th>\n",
       "      <th>Green</th>\n",
       "      <th>Constitution</th>\n",
       "      <th>Unaffiliated</th>\n",
       "      <th>White</th>\n",
       "      <th>Black</th>\n",
       "      <th>AmericanIndian</th>\n",
       "      <th>Other</th>\n",
       "      <th>Hispanic</th>\n",
       "      <th>Male</th>\n",
       "      <th>Female</th>\n",
       "      <th>UnDisclosedGender</th>\n",
       "      <th>Total</th>\n",
       "      <th>Date</th>\n",
       "    </tr>\n",
       "  </thead>\n",
       "  <tbody>\n",
       "    <tr>\n",
       "      <th>0</th>\n",
       "      <td>\"ALAMANCE\"</td>\n",
       "      <td>41349</td>\n",
       "      <td>30469</td>\n",
       "      <td>62</td>\n",
       "      <td>0</td>\n",
       "      <td>0</td>\n",
       "      <td>18164</td>\n",
       "      <td>68769</td>\n",
       "      <td>17838</td>\n",
       "      <td>176</td>\n",
       "      <td>1175</td>\n",
       "      <td>939</td>\n",
       "      <td>40062</td>\n",
       "      <td>49579</td>\n",
       "      <td>0</td>\n",
       "      <td>90044</td>\n",
       "      <td>2009-01-03</td>\n",
       "    </tr>\n",
       "    <tr>\n",
       "      <th>1</th>\n",
       "      <td>\"ALEXANDER\"</td>\n",
       "      <td>8565</td>\n",
       "      <td>10841</td>\n",
       "      <td>25</td>\n",
       "      <td>0</td>\n",
       "      <td>0</td>\n",
       "      <td>5042</td>\n",
       "      <td>22982</td>\n",
       "      <td>1114</td>\n",
       "      <td>28</td>\n",
       "      <td>151</td>\n",
       "      <td>125</td>\n",
       "      <td>11575</td>\n",
       "      <td>12777</td>\n",
       "      <td>0</td>\n",
       "      <td>24473</td>\n",
       "      <td>2009-01-03</td>\n",
       "    </tr>\n",
       "    <tr>\n",
       "      <th>2</th>\n",
       "      <td>\"ALLEGHANY\"</td>\n",
       "      <td>3609</td>\n",
       "      <td>2285</td>\n",
       "      <td>5</td>\n",
       "      <td>0</td>\n",
       "      <td>0</td>\n",
       "      <td>1379</td>\n",
       "      <td>7072</td>\n",
       "      <td>79</td>\n",
       "      <td>9</td>\n",
       "      <td>36</td>\n",
       "      <td>60</td>\n",
       "      <td>3404</td>\n",
       "      <td>3840</td>\n",
       "      <td>0</td>\n",
       "      <td>7278</td>\n",
       "      <td>2009-01-03</td>\n",
       "    </tr>\n",
       "    <tr>\n",
       "      <th>3</th>\n",
       "      <td>\"ANSON\"</td>\n",
       "      <td>12376</td>\n",
       "      <td>2331</td>\n",
       "      <td>4</td>\n",
       "      <td>0</td>\n",
       "      <td>0</td>\n",
       "      <td>1848</td>\n",
       "      <td>8375</td>\n",
       "      <td>7864</td>\n",
       "      <td>37</td>\n",
       "      <td>64</td>\n",
       "      <td>21</td>\n",
       "      <td>7282</td>\n",
       "      <td>9052</td>\n",
       "      <td>0</td>\n",
       "      <td>16559</td>\n",
       "      <td>2009-01-03</td>\n",
       "    </tr>\n",
       "    <tr>\n",
       "      <th>4</th>\n",
       "      <td>\"ASHE\"</td>\n",
       "      <td>7696</td>\n",
       "      <td>8721</td>\n",
       "      <td>12</td>\n",
       "      <td>0</td>\n",
       "      <td>0</td>\n",
       "      <td>4070</td>\n",
       "      <td>20150</td>\n",
       "      <td>107</td>\n",
       "      <td>11</td>\n",
       "      <td>89</td>\n",
       "      <td>76</td>\n",
       "      <td>9583</td>\n",
       "      <td>10876</td>\n",
       "      <td>0</td>\n",
       "      <td>20499</td>\n",
       "      <td>2009-01-03</td>\n",
       "    </tr>\n",
       "  </tbody>\n",
       "</table>\n",
       "</div>"
      ],
      "text/plain": [
       "    CountyName Democrats Republicans Libertarians Green Constitution  \\\n",
       "0   \"ALAMANCE\"     41349       30469           62     0            0   \n",
       "1  \"ALEXANDER\"      8565       10841           25     0            0   \n",
       "2  \"ALLEGHANY\"      3609        2285            5     0            0   \n",
       "3      \"ANSON\"     12376        2331            4     0            0   \n",
       "4       \"ASHE\"      7696        8721           12     0            0   \n",
       "\n",
       "  Unaffiliated  White  Black AmericanIndian Other Hispanic   Male Female  \\\n",
       "0        18164  68769  17838            176  1175      939  40062  49579   \n",
       "1         5042  22982   1114             28   151      125  11575  12777   \n",
       "2         1379   7072     79              9    36       60   3404   3840   \n",
       "3         1848   8375   7864             37    64       21   7282   9052   \n",
       "4         4070  20150    107             11    89       76   9583  10876   \n",
       "\n",
       "  UnDisclosedGender  Total        Date  \n",
       "0                 0  90044  2009-01-03  \n",
       "1                 0  24473  2009-01-03  \n",
       "2                 0   7278  2009-01-03  \n",
       "3                 0  16559  2009-01-03  \n",
       "4                 0  20499  2009-01-03  "
      ]
     },
     "execution_count": 33,
     "metadata": {},
     "output_type": "execute_result"
    }
   ],
   "source": [
    "voter_reg_df.head()"
   ]
  },
  {
   "cell_type": "code",
   "execution_count": null,
   "metadata": {},
   "outputs": [],
   "source": [
    "#voter_reg_df.to_csv('./data/nc_boe_data/voter_reg_by_week_2008_2019_all.csv')"
   ]
  },
  {
   "cell_type": "code",
   "execution_count": 34,
   "metadata": {},
   "outputs": [],
   "source": [
    "list_of_reg_cols = list(voter_reg_df.columns)"
   ]
  },
  {
   "cell_type": "code",
   "execution_count": 35,
   "metadata": {},
   "outputs": [],
   "source": [
    "list_of_reg_cols = [e for e in list_of_reg_cols if e not in ('Unnamed: 0','CountyName', 'Date' )]"
   ]
  },
  {
   "cell_type": "code",
   "execution_count": 36,
   "metadata": {},
   "outputs": [
    {
     "data": {
      "text/plain": [
       "['Democrats',\n",
       " 'Republicans',\n",
       " 'Libertarians',\n",
       " 'Green',\n",
       " 'Constitution',\n",
       " 'Unaffiliated',\n",
       " 'White',\n",
       " 'Black',\n",
       " 'AmericanIndian',\n",
       " 'Other',\n",
       " 'Hispanic',\n",
       " 'Male',\n",
       " 'Female',\n",
       " 'UnDisclosedGender',\n",
       " 'Total']"
      ]
     },
     "execution_count": 36,
     "metadata": {},
     "output_type": "execute_result"
    }
   ],
   "source": [
    "list_of_reg_cols"
   ]
  },
  {
   "cell_type": "code",
   "execution_count": 37,
   "metadata": {},
   "outputs": [
    {
     "name": "stdout",
     "output_type": "stream",
     "text": [
      "Democrats\n",
      "Republicans\n",
      "Libertarians\n",
      "Green\n",
      "Constitution\n",
      "Unaffiliated\n",
      "White\n",
      "Black\n",
      "AmericanIndian\n",
      "Other\n",
      "Hispanic\n",
      "Male\n",
      "Female\n",
      "UnDisclosedGender\n",
      "Total\n"
     ]
    }
   ],
   "source": [
    "#reg_by_seg = pd.DataFrame(columns=['Total', 'seg'])\n",
    "\n",
    "for i in list_of_reg_cols:\n",
    "    print(i)\n",
    "    # first round, make df, then subsequent rounds add to it\n",
    "    if i == 'Democrats':\n",
    "        df = voter_reg_df[[i, 'Date', 'CountyName']].groupby(['Date', 'CountyName']).sum()\n",
    "        df['seg'] = i\n",
    "        reg_by_seg = df.rename(columns={ df.columns[0]: \"Total\" })\n",
    "       # print(reg_by_seg.head())\n",
    "    else:\n",
    "        df = voter_reg_df[[i, 'Date', 'CountyName']].groupby(['Date', 'CountyName']).sum()\n",
    "        df['seg'] = i\n",
    "        df = df.rename(columns={ df.columns[0]: \"Total\" })\n",
    "       # print(df.head())\n",
    "        reg_by_seg = pd.concat([df, reg_by_seg])\n",
    "       # print(reg_by_seg)"
   ]
  },
  {
   "cell_type": "code",
   "execution_count": 38,
   "metadata": {},
   "outputs": [],
   "source": [
    "reg_by_seg = reg_by_seg.reset_index(level=[ 'CountyName'])"
   ]
  },
  {
   "cell_type": "code",
   "execution_count": 39,
   "metadata": {},
   "outputs": [],
   "source": [
    "reg_by_seg.index = pd.to_datetime(reg_by_seg.index)"
   ]
  },
  {
   "cell_type": "code",
   "execution_count": 40,
   "metadata": {},
   "outputs": [
    {
     "name": "stderr",
     "output_type": "stream",
     "text": [
      "C:\\Users\\phill\\Anaconda3\\lib\\site-packages\\ipykernel_launcher.py:2: FutureWarning: pd.TimeGrouper is deprecated and will be removed; Please use pd.Grouper(freq=...)\n",
      "  \n"
     ]
    }
   ],
   "source": [
    "#reg_by_seg.resample('M').mean()\n",
    "reg_by_seg_mo = reg_by_seg.groupby([pd.TimeGrouper(freq='M'), 'CountyName', 'seg'])['Total'].mean()"
   ]
  },
  {
   "cell_type": "code",
   "execution_count": 41,
   "metadata": {},
   "outputs": [],
   "source": [
    "group_reg = pd.DataFrame(reg_by_seg_mo)"
   ]
  },
  {
   "cell_type": "code",
   "execution_count": 42,
   "metadata": {},
   "outputs": [],
   "source": [
    "group_reg = group_reg.reset_index(level=['Date', 'CountyName', 'seg'])"
   ]
  },
  {
   "cell_type": "code",
   "execution_count": 43,
   "metadata": {},
   "outputs": [],
   "source": [
    "group_reg.to_csv('./data/grouped_registration.csv')"
   ]
  },
  {
   "cell_type": "markdown",
   "metadata": {},
   "source": [
    "# HuffPo Polls API <a class=\"anchor\" id=\"four-bullet\"></a>"
   ]
  },
  {
   "cell_type": "markdown",
   "metadata": {},
   "source": [
    "As an additional source of data, we will pull in President Obama's polling numbers for North Carolina, by week."
   ]
  },
  {
   "cell_type": "code",
   "execution_count": 44,
   "metadata": {},
   "outputs": [
    {
     "name": "stderr",
     "output_type": "stream",
     "text": [
      "C:\\Users\\phill\\Anaconda3\\lib\\site-packages\\pollster\\api_client.py:164: FutureWarning: read_table is deprecated, use read_csv instead, passing sep='\\t'.\n",
      "  return_data = pandas.read_table(StringIO(response_data.data), **kwargs)\n"
     ]
    }
   ],
   "source": [
    "#https://github.com/huffpostdata/python-pollster/blob/master/example.py\n",
    "api = pollster.Api()\n",
    "nc_obama_job_approval_poll = api.charts_slug_pollster_trendlines_tsv_get('north-carolina-obama-job-approval')"
   ]
  },
  {
   "cell_type": "code",
   "execution_count": 45,
   "metadata": {},
   "outputs": [
    {
     "data": {
      "text/html": [
       "<div>\n",
       "<style scoped>\n",
       "    .dataframe tbody tr th:only-of-type {\n",
       "        vertical-align: middle;\n",
       "    }\n",
       "\n",
       "    .dataframe tbody tr th {\n",
       "        vertical-align: top;\n",
       "    }\n",
       "\n",
       "    .dataframe thead th {\n",
       "        text-align: right;\n",
       "    }\n",
       "</style>\n",
       "<table border=\"1\" class=\"dataframe\">\n",
       "  <thead>\n",
       "    <tr style=\"text-align: right;\">\n",
       "      <th></th>\n",
       "      <th>label</th>\n",
       "      <th>date</th>\n",
       "      <th>value</th>\n",
       "      <th>low</th>\n",
       "      <th>high</th>\n",
       "    </tr>\n",
       "  </thead>\n",
       "  <tbody>\n",
       "    <tr>\n",
       "      <th>0</th>\n",
       "      <td>Approve</td>\n",
       "      <td>2009-01-18</td>\n",
       "      <td>55.9701</td>\n",
       "      <td>NaN</td>\n",
       "      <td>NaN</td>\n",
       "    </tr>\n",
       "    <tr>\n",
       "      <th>1</th>\n",
       "      <td>Approve</td>\n",
       "      <td>2009-01-22</td>\n",
       "      <td>55.8394</td>\n",
       "      <td>NaN</td>\n",
       "      <td>NaN</td>\n",
       "    </tr>\n",
       "    <tr>\n",
       "      <th>2</th>\n",
       "      <td>Approve</td>\n",
       "      <td>2009-02-15</td>\n",
       "      <td>55.0659</td>\n",
       "      <td>NaN</td>\n",
       "      <td>NaN</td>\n",
       "    </tr>\n",
       "    <tr>\n",
       "      <th>3</th>\n",
       "      <td>Approve</td>\n",
       "      <td>2009-02-19</td>\n",
       "      <td>54.9388</td>\n",
       "      <td>NaN</td>\n",
       "      <td>NaN</td>\n",
       "    </tr>\n",
       "    <tr>\n",
       "      <th>4</th>\n",
       "      <td>Approve</td>\n",
       "      <td>2009-02-26</td>\n",
       "      <td>54.7175</td>\n",
       "      <td>NaN</td>\n",
       "      <td>NaN</td>\n",
       "    </tr>\n",
       "  </tbody>\n",
       "</table>\n",
       "</div>"
      ],
      "text/plain": [
       "     label       date    value  low  high\n",
       "0  Approve 2009-01-18  55.9701  NaN   NaN\n",
       "1  Approve 2009-01-22  55.8394  NaN   NaN\n",
       "2  Approve 2009-02-15  55.0659  NaN   NaN\n",
       "3  Approve 2009-02-19  54.9388  NaN   NaN\n",
       "4  Approve 2009-02-26  54.7175  NaN   NaN"
      ]
     },
     "execution_count": 45,
     "metadata": {},
     "output_type": "execute_result"
    }
   ],
   "source": [
    "nc_obama_job_approval_poll.head()"
   ]
  },
  {
   "cell_type": "code",
   "execution_count": 46,
   "metadata": {},
   "outputs": [],
   "source": [
    "nc_obama_job_approval_poll.set_index('date', inplace=True)"
   ]
  },
  {
   "cell_type": "code",
   "execution_count": 47,
   "metadata": {},
   "outputs": [
    {
     "data": {
      "text/html": [
       "<div>\n",
       "<style scoped>\n",
       "    .dataframe tbody tr th:only-of-type {\n",
       "        vertical-align: middle;\n",
       "    }\n",
       "\n",
       "    .dataframe tbody tr th {\n",
       "        vertical-align: top;\n",
       "    }\n",
       "\n",
       "    .dataframe thead th {\n",
       "        text-align: right;\n",
       "    }\n",
       "</style>\n",
       "<table border=\"1\" class=\"dataframe\">\n",
       "  <thead>\n",
       "    <tr style=\"text-align: right;\">\n",
       "      <th></th>\n",
       "      <th>label</th>\n",
       "      <th>value</th>\n",
       "      <th>low</th>\n",
       "      <th>high</th>\n",
       "    </tr>\n",
       "    <tr>\n",
       "      <th>date</th>\n",
       "      <th></th>\n",
       "      <th></th>\n",
       "      <th></th>\n",
       "      <th></th>\n",
       "    </tr>\n",
       "  </thead>\n",
       "  <tbody>\n",
       "    <tr>\n",
       "      <th>2009-01-18</th>\n",
       "      <td>Approve</td>\n",
       "      <td>55.9701</td>\n",
       "      <td>NaN</td>\n",
       "      <td>NaN</td>\n",
       "    </tr>\n",
       "    <tr>\n",
       "      <th>2009-01-18</th>\n",
       "      <td>Disapprove</td>\n",
       "      <td>32.8340</td>\n",
       "      <td>NaN</td>\n",
       "      <td>NaN</td>\n",
       "    </tr>\n",
       "    <tr>\n",
       "      <th>2009-01-18</th>\n",
       "      <td>Undecided</td>\n",
       "      <td>9.6049</td>\n",
       "      <td>NaN</td>\n",
       "      <td>NaN</td>\n",
       "    </tr>\n",
       "  </tbody>\n",
       "</table>\n",
       "</div>"
      ],
      "text/plain": [
       "                 label    value  low  high\n",
       "date                                      \n",
       "2009-01-18     Approve  55.9701  NaN   NaN\n",
       "2009-01-18  Disapprove  32.8340  NaN   NaN\n",
       "2009-01-18   Undecided   9.6049  NaN   NaN"
      ]
     },
     "execution_count": 47,
     "metadata": {},
     "output_type": "execute_result"
    }
   ],
   "source": [
    "c = nc_obama_job_approval_poll.index.to_series().between('2009-01-18', '2009-01-18')\n",
    "nc_obama_job_approval_poll[c]"
   ]
  },
  {
   "cell_type": "code",
   "execution_count": 50,
   "metadata": {},
   "outputs": [],
   "source": [
    "nc_obama_job_approval_poll.to_csv('./data/nc_obama_job_approval_poll.csv')"
   ]
  },
  {
   "cell_type": "markdown",
   "metadata": {},
   "source": [
    "# Follow The Money (Donations) <a class=\"anchor\" id=\"five-bullet\"></a>"
   ]
  },
  {
   "cell_type": "markdown",
   "metadata": {},
   "source": [
    "To bring in donation data, we will be using a CSV that was created manually from the tables on Follow the Money.  Scraping this data was not an option."
   ]
  },
  {
   "cell_type": "code",
   "execution_count": 51,
   "metadata": {},
   "outputs": [],
   "source": [
    "# data from https://www.followthemoney.org/tools/election-overview?s=NC&y=2010\n",
    "df_money = pd.read_csv('./data/follow_the_money/donations.csv')"
   ]
  },
  {
   "cell_type": "code",
   "execution_count": 52,
   "metadata": {},
   "outputs": [
    {
     "data": {
      "text/html": [
       "<div>\n",
       "<style scoped>\n",
       "    .dataframe tbody tr th:only-of-type {\n",
       "        vertical-align: middle;\n",
       "    }\n",
       "\n",
       "    .dataframe tbody tr th {\n",
       "        vertical-align: top;\n",
       "    }\n",
       "\n",
       "    .dataframe thead th {\n",
       "        text-align: right;\n",
       "    }\n",
       "</style>\n",
       "<table border=\"1\" class=\"dataframe\">\n",
       "  <thead>\n",
       "    <tr style=\"text-align: right;\">\n",
       "      <th></th>\n",
       "      <th>Candidate</th>\n",
       "      <th>Election Status</th>\n",
       "      <th>Status of Candidate</th>\n",
       "      <th>Specific Party</th>\n",
       "      <th>General Party</th>\n",
       "      <th>Election Jurisdiction</th>\n",
       "      <th>Election Year</th>\n",
       "      <th>Election Type</th>\n",
       "      <th>Office Sought</th>\n",
       "      <th>Incumbency Status</th>\n",
       "      <th># of Records</th>\n",
       "      <th>Total $</th>\n",
       "    </tr>\n",
       "  </thead>\n",
       "  <tbody>\n",
       "    <tr>\n",
       "      <th>0</th>\n",
       "      <td>BUTTERFIELD JR, GEORGE KENNETH (GK)</td>\n",
       "      <td>WON-GENERAL</td>\n",
       "      <td>WON</td>\n",
       "      <td>DEMOCRATIC</td>\n",
       "      <td>DEMOCRATIC</td>\n",
       "      <td>NC</td>\n",
       "      <td>2010</td>\n",
       "      <td>STANDARD</td>\n",
       "      <td>US HOUSE DISTRICT NC 001</td>\n",
       "      <td>INCUMBENT</td>\n",
       "      <td>724.0</td>\n",
       "      <td>824065.0</td>\n",
       "    </tr>\n",
       "    <tr>\n",
       "      <th>1</th>\n",
       "      <td>CARTER, JOHN</td>\n",
       "      <td>LOST-PRIMARY</td>\n",
       "      <td>LOST</td>\n",
       "      <td>REPUBLICAN</td>\n",
       "      <td>REPUBLICAN</td>\n",
       "      <td>NC</td>\n",
       "      <td>2010</td>\n",
       "      <td>STANDARD</td>\n",
       "      <td>US HOUSE DISTRICT NC 001</td>\n",
       "      <td>OPEN</td>\n",
       "      <td>0.0</td>\n",
       "      <td>0.0</td>\n",
       "    </tr>\n",
       "    <tr>\n",
       "      <th>2</th>\n",
       "      <td>GRIMES, JERRY</td>\n",
       "      <td>LOST-PRIMARY</td>\n",
       "      <td>LOST</td>\n",
       "      <td>REPUBLICAN</td>\n",
       "      <td>REPUBLICAN</td>\n",
       "      <td>NC</td>\n",
       "      <td>2010</td>\n",
       "      <td>STANDARD</td>\n",
       "      <td>US HOUSE DISTRICT NC 001</td>\n",
       "      <td>OPEN</td>\n",
       "      <td>72.0</td>\n",
       "      <td>11838.0</td>\n",
       "    </tr>\n",
       "    <tr>\n",
       "      <th>3</th>\n",
       "      <td>LARKINS, CHAD</td>\n",
       "      <td>LOST-PRIMARY</td>\n",
       "      <td>LOST</td>\n",
       "      <td>DEMOCRATIC</td>\n",
       "      <td>DEMOCRATIC</td>\n",
       "      <td>NC</td>\n",
       "      <td>2010</td>\n",
       "      <td>STANDARD</td>\n",
       "      <td>US HOUSE DISTRICT NC 001</td>\n",
       "      <td>CHALLENGER</td>\n",
       "      <td>3.0</td>\n",
       "      <td>450.0</td>\n",
       "    </tr>\n",
       "    <tr>\n",
       "      <th>4</th>\n",
       "      <td>MILLER, JIM</td>\n",
       "      <td>LOST-PRIMARY</td>\n",
       "      <td>LOST</td>\n",
       "      <td>REPUBLICAN</td>\n",
       "      <td>REPUBLICAN</td>\n",
       "      <td>NC</td>\n",
       "      <td>2010</td>\n",
       "      <td>STANDARD</td>\n",
       "      <td>US HOUSE DISTRICT NC 001</td>\n",
       "      <td>OPEN</td>\n",
       "      <td>0.0</td>\n",
       "      <td>0.0</td>\n",
       "    </tr>\n",
       "  </tbody>\n",
       "</table>\n",
       "</div>"
      ],
      "text/plain": [
       "                             Candidate Election Status Status of Candidate  \\\n",
       "0  BUTTERFIELD JR, GEORGE KENNETH (GK)     WON-GENERAL                 WON   \n",
       "1                         CARTER, JOHN    LOST-PRIMARY                LOST   \n",
       "2                        GRIMES, JERRY    LOST-PRIMARY                LOST   \n",
       "3                        LARKINS, CHAD    LOST-PRIMARY                LOST   \n",
       "4                          MILLER, JIM    LOST-PRIMARY                LOST   \n",
       "\n",
       "  Specific Party General Party Election Jurisdiction  Election Year  \\\n",
       "0     DEMOCRATIC    DEMOCRATIC                    NC           2010   \n",
       "1     REPUBLICAN    REPUBLICAN                    NC           2010   \n",
       "2     REPUBLICAN    REPUBLICAN                    NC           2010   \n",
       "3     DEMOCRATIC    DEMOCRATIC                    NC           2010   \n",
       "4     REPUBLICAN    REPUBLICAN                    NC           2010   \n",
       "\n",
       "  Election Type             Office Sought Incumbency Status  # of Records  \\\n",
       "0      STANDARD  US HOUSE DISTRICT NC 001         INCUMBENT         724.0   \n",
       "1      STANDARD  US HOUSE DISTRICT NC 001              OPEN           0.0   \n",
       "2      STANDARD  US HOUSE DISTRICT NC 001              OPEN          72.0   \n",
       "3      STANDARD  US HOUSE DISTRICT NC 001        CHALLENGER           3.0   \n",
       "4      STANDARD  US HOUSE DISTRICT NC 001              OPEN           0.0   \n",
       "\n",
       "    Total $  \n",
       "0  824065.0  \n",
       "1       0.0  \n",
       "2   11838.0  \n",
       "3     450.0  \n",
       "4       0.0  "
      ]
     },
     "execution_count": 52,
     "metadata": {},
     "output_type": "execute_result"
    }
   ],
   "source": [
    "df_money.head()"
   ]
  },
  {
   "cell_type": "code",
   "execution_count": 53,
   "metadata": {},
   "outputs": [
    {
     "data": {
      "text/html": [
       "<div>\n",
       "<style scoped>\n",
       "    .dataframe tbody tr th:only-of-type {\n",
       "        vertical-align: middle;\n",
       "    }\n",
       "\n",
       "    .dataframe tbody tr th {\n",
       "        vertical-align: top;\n",
       "    }\n",
       "\n",
       "    .dataframe thead th {\n",
       "        text-align: right;\n",
       "    }\n",
       "</style>\n",
       "<table border=\"1\" class=\"dataframe\">\n",
       "  <thead>\n",
       "    <tr style=\"text-align: right;\">\n",
       "      <th></th>\n",
       "      <th>Office Sought</th>\n",
       "      <th>Election Year</th>\n",
       "      <th>General Party</th>\n",
       "      <th>Total $</th>\n",
       "      <th># of Records</th>\n",
       "    </tr>\n",
       "  </thead>\n",
       "  <tbody>\n",
       "    <tr>\n",
       "      <th>0</th>\n",
       "      <td>US HOUSE DISTRICT NC 001</td>\n",
       "      <td>2010</td>\n",
       "      <td>DEMOCRATIC</td>\n",
       "      <td>824515.0</td>\n",
       "      <td>727.0</td>\n",
       "    </tr>\n",
       "    <tr>\n",
       "      <th>1</th>\n",
       "      <td>US HOUSE DISTRICT NC 001</td>\n",
       "      <td>2010</td>\n",
       "      <td>REPUBLICAN</td>\n",
       "      <td>144787.0</td>\n",
       "      <td>256.0</td>\n",
       "    </tr>\n",
       "    <tr>\n",
       "      <th>2</th>\n",
       "      <td>US HOUSE DISTRICT NC 001</td>\n",
       "      <td>2012</td>\n",
       "      <td>DEMOCRATIC</td>\n",
       "      <td>899936.0</td>\n",
       "      <td>889.0</td>\n",
       "    </tr>\n",
       "    <tr>\n",
       "      <th>3</th>\n",
       "      <td>US HOUSE DISTRICT NC 001</td>\n",
       "      <td>2012</td>\n",
       "      <td>REPUBLICAN</td>\n",
       "      <td>0.0</td>\n",
       "      <td>0.0</td>\n",
       "    </tr>\n",
       "    <tr>\n",
       "      <th>4</th>\n",
       "      <td>US HOUSE DISTRICT NC 001</td>\n",
       "      <td>2012</td>\n",
       "      <td>THIRD-PARTY</td>\n",
       "      <td>0.0</td>\n",
       "      <td>0.0</td>\n",
       "    </tr>\n",
       "  </tbody>\n",
       "</table>\n",
       "</div>"
      ],
      "text/plain": [
       "              Office Sought  Election Year General Party   Total $  \\\n",
       "0  US HOUSE DISTRICT NC 001           2010    DEMOCRATIC  824515.0   \n",
       "1  US HOUSE DISTRICT NC 001           2010    REPUBLICAN  144787.0   \n",
       "2  US HOUSE DISTRICT NC 001           2012    DEMOCRATIC  899936.0   \n",
       "3  US HOUSE DISTRICT NC 001           2012    REPUBLICAN       0.0   \n",
       "4  US HOUSE DISTRICT NC 001           2012   THIRD-PARTY       0.0   \n",
       "\n",
       "   # of Records  \n",
       "0         727.0  \n",
       "1         256.0  \n",
       "2         889.0  \n",
       "3           0.0  \n",
       "4           0.0  "
      ]
     },
     "execution_count": 53,
     "metadata": {},
     "output_type": "execute_result"
    }
   ],
   "source": [
    "df_money.groupby(['Office Sought','Election Year',  'General Party' ]).agg({'Total $':'sum','# of Records':'sum'}).reset_index().head()"
   ]
  },
  {
   "cell_type": "code",
   "execution_count": 54,
   "metadata": {},
   "outputs": [
    {
     "data": {
      "text/html": [
       "<div>\n",
       "<style scoped>\n",
       "    .dataframe tbody tr th:only-of-type {\n",
       "        vertical-align: middle;\n",
       "    }\n",
       "\n",
       "    .dataframe tbody tr th {\n",
       "        vertical-align: top;\n",
       "    }\n",
       "\n",
       "    .dataframe thead th {\n",
       "        text-align: right;\n",
       "    }\n",
       "</style>\n",
       "<table border=\"1\" class=\"dataframe\">\n",
       "  <thead>\n",
       "    <tr style=\"text-align: right;\">\n",
       "      <th></th>\n",
       "      <th>Election Year</th>\n",
       "      <th>General Party</th>\n",
       "      <th>Total $</th>\n",
       "      <th># of Records</th>\n",
       "    </tr>\n",
       "  </thead>\n",
       "  <tbody>\n",
       "    <tr>\n",
       "      <th>0</th>\n",
       "      <td>2010</td>\n",
       "      <td>DEMOCRATIC</td>\n",
       "      <td>13453750.0</td>\n",
       "      <td>17107.0</td>\n",
       "    </tr>\n",
       "    <tr>\n",
       "      <th>1</th>\n",
       "      <td>2010</td>\n",
       "      <td>REPUBLICAN</td>\n",
       "      <td>24200635.0</td>\n",
       "      <td>30308.0</td>\n",
       "    </tr>\n",
       "    <tr>\n",
       "      <th>2</th>\n",
       "      <td>2010</td>\n",
       "      <td>THIRD-PARTY</td>\n",
       "      <td>29966.0</td>\n",
       "      <td>54.0</td>\n",
       "    </tr>\n",
       "    <tr>\n",
       "      <th>3</th>\n",
       "      <td>2012</td>\n",
       "      <td>DEMOCRATIC</td>\n",
       "      <td>9067600.0</td>\n",
       "      <td>11597.0</td>\n",
       "    </tr>\n",
       "    <tr>\n",
       "      <th>4</th>\n",
       "      <td>2012</td>\n",
       "      <td>REPUBLICAN</td>\n",
       "      <td>19998004.0</td>\n",
       "      <td>19510.0</td>\n",
       "    </tr>\n",
       "    <tr>\n",
       "      <th>5</th>\n",
       "      <td>2012</td>\n",
       "      <td>THIRD-PARTY</td>\n",
       "      <td>4466.0</td>\n",
       "      <td>46.0</td>\n",
       "    </tr>\n",
       "    <tr>\n",
       "      <th>6</th>\n",
       "      <td>2014</td>\n",
       "      <td>DEMOCRATIC</td>\n",
       "      <td>29092380.0</td>\n",
       "      <td>49591.0</td>\n",
       "    </tr>\n",
       "    <tr>\n",
       "      <th>7</th>\n",
       "      <td>2014</td>\n",
       "      <td>REPUBLICAN</td>\n",
       "      <td>25525712.0</td>\n",
       "      <td>28690.0</td>\n",
       "    </tr>\n",
       "    <tr>\n",
       "      <th>8</th>\n",
       "      <td>2014</td>\n",
       "      <td>THIRD-PARTY</td>\n",
       "      <td>39261.0</td>\n",
       "      <td>68.0</td>\n",
       "    </tr>\n",
       "    <tr>\n",
       "      <th>9</th>\n",
       "      <td>2016</td>\n",
       "      <td>DEMOCRATIC</td>\n",
       "      <td>18246630.0</td>\n",
       "      <td>36513.0</td>\n",
       "    </tr>\n",
       "    <tr>\n",
       "      <th>10</th>\n",
       "      <td>2016</td>\n",
       "      <td>REPUBLICAN</td>\n",
       "      <td>32198728.0</td>\n",
       "      <td>26027.0</td>\n",
       "    </tr>\n",
       "    <tr>\n",
       "      <th>11</th>\n",
       "      <td>2016</td>\n",
       "      <td>THIRD-PARTY</td>\n",
       "      <td>27405.0</td>\n",
       "      <td>49.0</td>\n",
       "    </tr>\n",
       "  </tbody>\n",
       "</table>\n",
       "</div>"
      ],
      "text/plain": [
       "    Election Year General Party     Total $  # of Records\n",
       "0            2010    DEMOCRATIC  13453750.0       17107.0\n",
       "1            2010    REPUBLICAN  24200635.0       30308.0\n",
       "2            2010   THIRD-PARTY     29966.0          54.0\n",
       "3            2012    DEMOCRATIC   9067600.0       11597.0\n",
       "4            2012    REPUBLICAN  19998004.0       19510.0\n",
       "5            2012   THIRD-PARTY      4466.0          46.0\n",
       "6            2014    DEMOCRATIC  29092380.0       49591.0\n",
       "7            2014    REPUBLICAN  25525712.0       28690.0\n",
       "8            2014   THIRD-PARTY     39261.0          68.0\n",
       "9            2016    DEMOCRATIC  18246630.0       36513.0\n",
       "10           2016    REPUBLICAN  32198728.0       26027.0\n",
       "11           2016   THIRD-PARTY     27405.0          49.0"
      ]
     },
     "execution_count": 54,
     "metadata": {},
     "output_type": "execute_result"
    }
   ],
   "source": [
    "df_money.groupby(['Election Year',  'General Party' ]).agg({'Total $':'sum','# of Records':'sum'}).reset_index()"
   ]
  }
 ],
 "metadata": {
  "kernelspec": {
   "display_name": "Python 3",
   "language": "python",
   "name": "python3"
  },
  "language_info": {
   "codemirror_mode": {
    "name": "ipython",
    "version": 3
   },
   "file_extension": ".py",
   "mimetype": "text/x-python",
   "name": "python",
   "nbconvert_exporter": "python",
   "pygments_lexer": "ipython3",
   "version": "3.6.7"
  }
 },
 "nbformat": 4,
 "nbformat_minor": 2
}
